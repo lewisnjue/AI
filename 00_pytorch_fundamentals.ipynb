{
 "cells": [
  {
   "cell_type": "markdown",
   "metadata": {
    "colab_type": "text",
    "id": "view-in-github"
   },
   "source": [
    "<a href=\"https://colab.research.google.com/github/lewisnjue/AI/blob/main/00_pytorch_fundamentals.ipynb\" target=\"_parent\"><img src=\"https://colab.research.google.com/assets/colab-badge.svg\" alt=\"Open In Colab\"/></a>"
   ]
  },
  {
   "cell_type": "markdown",
   "metadata": {
    "id": "EEotZ7XbS5RO"
   },
   "source": [
    "this is the start"
   ]
  },
  {
   "cell_type": "code",
   "execution_count": 87,
   "metadata": {
    "colab": {
     "base_uri": "https://localhost:8080/"
    },
    "id": "5er5vVCnTZTb",
    "outputId": "a850cb40-3aa2-451e-f132-b3ec9ef1a936"
   },
   "outputs": [
    {
     "name": "stdout",
     "output_type": "stream",
     "text": [
      "2.5.1+cu124\n"
     ]
    }
   ],
   "source": [
    "import torch\n",
    "import pandas as pd\n",
    "import numpy as np\n",
    "import matplotlib.pyplot as plt\n",
    "\n",
    "\n",
    "print(torch.__version__)"
   ]
  },
  {
   "cell_type": "code",
   "execution_count": 88,
   "metadata": {
    "colab": {
     "base_uri": "https://localhost:8080/"
    },
    "id": "-258nts5T5-3",
    "outputId": "49d021bc-25f3-4333-9265-5892a29c92c5"
   },
   "outputs": [
    {
     "name": "stdout",
     "output_type": "stream",
     "text": [
      "/usr/bin/sh: 1: nvidia-smi: not found\n"
     ]
    }
   ],
   "source": [
    "!nvidia-smi\n"
   ]
  },
  {
   "cell_type": "markdown",
   "metadata": {
    "id": "C2i3gtplUqDK"
   },
   "source": [
    "IIntorudction to tensors"
   ]
  },
  {
   "cell_type": "code",
   "execution_count": 89,
   "metadata": {
    "colab": {
     "base_uri": "https://localhost:8080/"
    },
    "id": "TSpPJo0NWOyO",
    "outputId": "61036803-827b-41b5-d1e5-6d1e76a6f699"
   },
   "outputs": [
    {
     "data": {
      "text/plain": [
       "tensor(7)"
      ]
     },
     "execution_count": 89,
     "metadata": {},
     "output_type": "execute_result"
    }
   ],
   "source": [
    "# scaler\n",
    "scaler = torch.tensor(7)\n",
    "scaler"
   ]
  },
  {
   "cell_type": "code",
   "execution_count": 90,
   "metadata": {
    "colab": {
     "base_uri": "https://localhost:8080/"
    },
    "id": "Q37_EYpiWbZV",
    "outputId": "423ceb30-f01f-44cb-ec76-4a4c22e98897"
   },
   "outputs": [
    {
     "data": {
      "text/plain": [
       "0"
      ]
     },
     "execution_count": 90,
     "metadata": {},
     "output_type": "execute_result"
    }
   ],
   "source": [
    "scaler.ndim"
   ]
  },
  {
   "cell_type": "code",
   "execution_count": 91,
   "metadata": {
    "colab": {
     "base_uri": "https://localhost:8080/"
    },
    "id": "os0hVp2YXCdP",
    "outputId": "984cde97-7ce4-4c29-d411-35a0db4949f6"
   },
   "outputs": [
    {
     "data": {
      "text/plain": [
       "7"
      ]
     },
     "execution_count": 91,
     "metadata": {},
     "output_type": "execute_result"
    }
   ],
   "source": [
    "# get tensoer back as pyton int\n",
    "scaler.item()"
   ]
  },
  {
   "cell_type": "code",
   "execution_count": 92,
   "metadata": {
    "colab": {
     "base_uri": "https://localhost:8080/"
    },
    "id": "LyxMLbLCXGoN",
    "outputId": "eb627456-2e48-454e-d275-f97ae5f68604"
   },
   "outputs": [
    {
     "data": {
      "text/plain": [
       "tensor([7, 7])"
      ]
     },
     "execution_count": 92,
     "metadata": {},
     "output_type": "execute_result"
    }
   ],
   "source": [
    "# vector\n",
    "vector = torch.tensor([7,7])\n",
    "vector"
   ]
  },
  {
   "cell_type": "code",
   "execution_count": 93,
   "metadata": {
    "colab": {
     "base_uri": "https://localhost:8080/"
    },
    "id": "U5te6w4PXPHP",
    "outputId": "d401f5fa-20c1-4361-e631-073986c477e1"
   },
   "outputs": [
    {
     "data": {
      "text/plain": [
       "1"
      ]
     },
     "execution_count": 93,
     "metadata": {},
     "output_type": "execute_result"
    }
   ],
   "source": [
    "vector.ndim"
   ]
  },
  {
   "cell_type": "code",
   "execution_count": 94,
   "metadata": {
    "id": "lcGLOM1jXWN8"
   },
   "outputs": [],
   "source": [
    "#vector.item() # this will ot work becuasse it has 2 element which cannot be conveted to Scaler\n"
   ]
  },
  {
   "cell_type": "code",
   "execution_count": 95,
   "metadata": {
    "colab": {
     "base_uri": "https://localhost:8080/"
    },
    "id": "e5cxce9tXbvF",
    "outputId": "ca68706b-6493-4636-a692-6d7c7e5f92c3"
   },
   "outputs": [
    {
     "data": {
      "text/plain": [
       "torch.Size([2])"
      ]
     },
     "execution_count": 95,
     "metadata": {},
     "output_type": "execute_result"
    }
   ],
   "source": [
    "vector.shape"
   ]
  },
  {
   "cell_type": "code",
   "execution_count": 96,
   "metadata": {
    "colab": {
     "base_uri": "https://localhost:8080/"
    },
    "id": "IoLMoQfGXqxe",
    "outputId": "9466004c-27b2-4403-9012-589d4ff84610"
   },
   "outputs": [
    {
     "data": {
      "text/plain": [
       "torch.Size([])"
      ]
     },
     "execution_count": 96,
     "metadata": {},
     "output_type": "execute_result"
    }
   ],
   "source": [
    "scaler.shape"
   ]
  },
  {
   "cell_type": "code",
   "execution_count": 97,
   "metadata": {
    "colab": {
     "base_uri": "https://localhost:8080/"
    },
    "id": "8JrB6E54XvCp",
    "outputId": "61228cd2-4d09-4919-f843-ae80ebf861e6"
   },
   "outputs": [
    {
     "data": {
      "text/plain": [
       "tensor([[ 7,  8],\n",
       "        [ 9, 10]])"
      ]
     },
     "execution_count": 97,
     "metadata": {},
     "output_type": "execute_result"
    }
   ],
   "source": [
    "# MATRIX\n",
    "MATRIX = torch.tensor([[7,8],\n",
    "                      [9,10]])\n",
    "MATRIX"
   ]
  },
  {
   "cell_type": "code",
   "execution_count": 98,
   "metadata": {
    "colab": {
     "base_uri": "https://localhost:8080/"
    },
    "id": "uWmiqbjAX4mv",
    "outputId": "eb0a7762-9cc0-4cf1-af57-8f15ae5dc6ed"
   },
   "outputs": [
    {
     "data": {
      "text/plain": [
       "2"
      ]
     },
     "execution_count": 98,
     "metadata": {},
     "output_type": "execute_result"
    }
   ],
   "source": [
    "MATRIX.ndim"
   ]
  },
  {
   "cell_type": "code",
   "execution_count": 99,
   "metadata": {
    "colab": {
     "base_uri": "https://localhost:8080/"
    },
    "id": "zXe2ck0IYAcd",
    "outputId": "f1669f5f-0128-4239-bbec-cea330ca7fb7"
   },
   "outputs": [
    {
     "data": {
      "text/plain": [
       "tensor([7, 8])"
      ]
     },
     "execution_count": 99,
     "metadata": {},
     "output_type": "execute_result"
    }
   ],
   "source": [
    "MATRIX[0]"
   ]
  },
  {
   "cell_type": "code",
   "execution_count": 100,
   "metadata": {
    "colab": {
     "base_uri": "https://localhost:8080/"
    },
    "id": "ktN6p0brYCxy",
    "outputId": "41f39c79-ec71-4e6b-85ba-db1973a935f4"
   },
   "outputs": [
    {
     "data": {
      "text/plain": [
       "tensor([ 9, 10])"
      ]
     },
     "execution_count": 100,
     "metadata": {},
     "output_type": "execute_result"
    }
   ],
   "source": [
    "MATRIX[1]"
   ]
  },
  {
   "cell_type": "code",
   "execution_count": 101,
   "metadata": {
    "colab": {
     "base_uri": "https://localhost:8080/"
    },
    "id": "i-xwzs9EYFuF",
    "outputId": "014a6266-a138-4a4f-94c3-ece45a5428a8"
   },
   "outputs": [
    {
     "data": {
      "text/plain": [
       "torch.Size([2, 2])"
      ]
     },
     "execution_count": 101,
     "metadata": {},
     "output_type": "execute_result"
    }
   ],
   "source": [
    "MATRIX.shape"
   ]
  },
  {
   "cell_type": "code",
   "execution_count": 102,
   "metadata": {
    "colab": {
     "base_uri": "https://localhost:8080/"
    },
    "id": "SSS3Ca6-YkQs",
    "outputId": "47e755e6-a9ba-46e0-dc57-0e642098b771"
   },
   "outputs": [
    {
     "data": {
      "text/plain": [
       "tensor([[[1, 2, 3],\n",
       "         [3, 6, 9],\n",
       "         [2, 4, 5]]])"
      ]
     },
     "execution_count": 102,
     "metadata": {},
     "output_type": "execute_result"
    }
   ],
   "source": [
    "# Tensor\n",
    "TENSOR = torch.tensor([[[1,2,3],\n",
    "                        [3,6,9],\n",
    "                        [2,4,5]]])\n",
    "TENSOR"
   ]
  },
  {
   "cell_type": "code",
   "execution_count": 103,
   "metadata": {
    "colab": {
     "base_uri": "https://localhost:8080/"
    },
    "id": "EQ-9u9fzY4mz",
    "outputId": "b96259cb-2291-4230-ed84-ab4590f7c35f"
   },
   "outputs": [
    {
     "data": {
      "text/plain": [
       "3"
      ]
     },
     "execution_count": 103,
     "metadata": {},
     "output_type": "execute_result"
    }
   ],
   "source": [
    "TENSOR.ndim"
   ]
  },
  {
   "cell_type": "code",
   "execution_count": 104,
   "metadata": {
    "colab": {
     "base_uri": "https://localhost:8080/"
    },
    "id": "0a7xFC04Y9XA",
    "outputId": "bef1e51b-a5ff-4de9-dcf4-98b8b40e15f4"
   },
   "outputs": [
    {
     "data": {
      "text/plain": [
       "torch.Size([1, 3, 3])"
      ]
     },
     "execution_count": 104,
     "metadata": {},
     "output_type": "execute_result"
    }
   ],
   "source": [
    "TENSOR.shape"
   ]
  },
  {
   "cell_type": "code",
   "execution_count": 105,
   "metadata": {
    "colab": {
     "base_uri": "https://localhost:8080/"
    },
    "id": "-Coram0bY_g8",
    "outputId": "248a06cc-4a7c-429a-e1b7-269875f90df3"
   },
   "outputs": [
    {
     "data": {
      "text/plain": [
       "tensor([[1, 2, 3],\n",
       "        [3, 6, 9],\n",
       "        [2, 4, 5]])"
      ]
     },
     "execution_count": 105,
     "metadata": {},
     "output_type": "execute_result"
    }
   ],
   "source": [
    "TENSOR[0]"
   ]
  },
  {
   "cell_type": "markdown",
   "metadata": {
    "id": "jIXtNGosaZo1"
   },
   "source": [
    "### RANODM TENSORS\n",
    "\n",
    "why random tensors ?\n",
    "\n",
    "ranodm tensors are imporant becuase the way many neural nnetworks leanr is that tehy start with tensors full of rnadom numbers and then adjust those number to better represent the data\n",
    "` start with randome number -> look at dat - > update ranodm number -> look at data - > update random number"
   ]
  },
  {
   "cell_type": "code",
   "execution_count": 106,
   "metadata": {
    "colab": {
     "base_uri": "https://localhost:8080/"
    },
    "id": "5_gSCSmJZNnp",
    "outputId": "8e3fb3e1-b4c3-403a-e54d-1053295692fd"
   },
   "outputs": [
    {
     "data": {
      "text/plain": [
       "tensor([[0.6784, 0.4211, 0.8871, 0.0143],\n",
       "        [0.4268, 0.7678, 0.4096, 0.6367],\n",
       "        [0.9257, 0.3913, 0.5732, 0.3619]])"
      ]
     },
     "execution_count": 106,
     "metadata": {},
     "output_type": "execute_result"
    }
   ],
   "source": [
    "# create a random tensor of size ( 3 , 4)\n",
    "\n",
    "random_tensor = torch.rand(3,4)\n",
    "random_tensor"
   ]
  },
  {
   "cell_type": "code",
   "execution_count": 107,
   "metadata": {
    "colab": {
     "base_uri": "https://localhost:8080/"
    },
    "id": "JTn3QSrOa9V6",
    "outputId": "4aa43ebc-c565-4d12-88b1-77f1a38f073a"
   },
   "outputs": [
    {
     "data": {
      "text/plain": [
       "2"
      ]
     },
     "execution_count": 107,
     "metadata": {},
     "output_type": "execute_result"
    }
   ],
   "source": [
    "random_tensor.ndim"
   ]
  },
  {
   "cell_type": "code",
   "execution_count": 108,
   "metadata": {
    "colab": {
     "base_uri": "https://localhost:8080/"
    },
    "id": "Jhc70W4ja_wG",
    "outputId": "7aad3ba9-3249-4692-c82f-b738eab96f6f"
   },
   "outputs": [
    {
     "data": {
      "text/plain": [
       "torch.Size([3, 4])"
      ]
     },
     "execution_count": 108,
     "metadata": {},
     "output_type": "execute_result"
    }
   ],
   "source": [
    "random_tensor.shape"
   ]
  },
  {
   "cell_type": "code",
   "execution_count": 109,
   "metadata": {
    "colab": {
     "base_uri": "https://localhost:8080/"
    },
    "id": "WNUfyGdfbCye",
    "outputId": "518817df-502b-4ba6-aa29-35b7a17f40a1"
   },
   "outputs": [
    {
     "data": {
      "text/plain": [
       "(torch.Size([224, 224, 3]), 3)"
      ]
     },
     "execution_count": 109,
     "metadata": {},
     "output_type": "execute_result"
    }
   ],
   "source": [
    "# create a random tesnor with similar shape to an image tensor\n",
    "\n",
    "random_image_size_tensor = torch.rand(size=(224,224,3)) # height , width , color channel\n",
    "random_image_size_tensor.shape , random_image_size_tensor.ndim"
   ]
  },
  {
   "cell_type": "code",
   "execution_count": 110,
   "metadata": {
    "colab": {
     "base_uri": "https://localhost:8080/"
    },
    "id": "GXr_R2xdcL7m",
    "outputId": "39176749-1190-4021-fa91-a915b247571f"
   },
   "outputs": [
    {
     "data": {
      "text/plain": [
       "tensor([[0.2036, 0.3635, 0.4374],\n",
       "        [0.4698, 0.6895, 0.0845],\n",
       "        [0.0708, 0.1401, 0.6322]])"
      ]
     },
     "execution_count": 110,
     "metadata": {},
     "output_type": "execute_result"
    }
   ],
   "source": [
    "torch.rand(size=(3,3))"
   ]
  },
  {
   "cell_type": "code",
   "execution_count": 111,
   "metadata": {
    "colab": {
     "base_uri": "https://localhost:8080/"
    },
    "id": "MCNUfOm7cxmI",
    "outputId": "7846885a-ab15-4726-9aff-0fd565e60064"
   },
   "outputs": [
    {
     "data": {
      "text/plain": [
       "tensor([[0.1700, 0.6534, 0.2654],\n",
       "        [0.3072, 0.6015, 0.3200],\n",
       "        [0.0446, 0.2580, 0.1326]])"
      ]
     },
     "execution_count": 111,
     "metadata": {},
     "output_type": "execute_result"
    }
   ],
   "source": [
    "torch.rand(3,3)"
   ]
  },
  {
   "cell_type": "markdown",
   "metadata": {
    "id": "JzDWjgaCc4_n"
   },
   "source": [
    "## zeors and ones"
   ]
  },
  {
   "cell_type": "code",
   "execution_count": 112,
   "metadata": {
    "colab": {
     "base_uri": "https://localhost:8080/"
    },
    "id": "xM2_eQVmc0Fc",
    "outputId": "6a5e8caa-ae9a-417f-e7dc-a058584653d2"
   },
   "outputs": [
    {
     "data": {
      "text/plain": [
       "tensor([[0., 0., 0., 0.],\n",
       "        [0., 0., 0., 0.],\n",
       "        [0., 0., 0., 0.]])"
      ]
     },
     "execution_count": 112,
     "metadata": {},
     "output_type": "execute_result"
    }
   ],
   "source": [
    "# create a tesnor of all zeros\n",
    "zeros = torch.zeros(size=(3,4))\n",
    "zeros"
   ]
  },
  {
   "cell_type": "code",
   "execution_count": 113,
   "metadata": {
    "colab": {
     "base_uri": "https://localhost:8080/"
    },
    "id": "c8tRySI8c94S",
    "outputId": "836914bf-dbe3-4af0-a3fa-3dc20206e607"
   },
   "outputs": [
    {
     "data": {
      "text/plain": [
       "tensor([[0., 0., 0., 0.],\n",
       "        [0., 0., 0., 0.],\n",
       "        [0., 0., 0., 0.]])"
      ]
     },
     "execution_count": 113,
     "metadata": {},
     "output_type": "execute_result"
    }
   ],
   "source": [
    "zeros*random_tensor"
   ]
  },
  {
   "cell_type": "code",
   "execution_count": 114,
   "metadata": {
    "colab": {
     "base_uri": "https://localhost:8080/"
    },
    "id": "W1uA6aYndAla",
    "outputId": "4bc784b7-eff8-4918-94fe-a69f5e72514d"
   },
   "outputs": [
    {
     "data": {
      "text/plain": [
       "tensor([[1., 1., 1., 1.],\n",
       "        [1., 1., 1., 1.],\n",
       "        [1., 1., 1., 1.]])"
      ]
     },
     "execution_count": 114,
     "metadata": {},
     "output_type": "execute_result"
    }
   ],
   "source": [
    "#create a tenosr of allone\n",
    "ones = torch.ones(size=(3,4))\n",
    "ones"
   ]
  },
  {
   "cell_type": "code",
   "execution_count": 115,
   "metadata": {
    "colab": {
     "base_uri": "https://localhost:8080/"
    },
    "id": "8rHe9gnedKAh",
    "outputId": "781e0dc7-7b32-404e-f181-c788703da478"
   },
   "outputs": [
    {
     "data": {
      "text/plain": [
       "torch.float32"
      ]
     },
     "execution_count": 115,
     "metadata": {},
     "output_type": "execute_result"
    }
   ],
   "source": [
    "ones.dtype"
   ]
  },
  {
   "cell_type": "code",
   "execution_count": 116,
   "metadata": {
    "colab": {
     "base_uri": "https://localhost:8080/"
    },
    "id": "7tcCpG5FdMYl",
    "outputId": "3184d638-8dd0-4aa3-dd14-f43794f02a7e"
   },
   "outputs": [
    {
     "data": {
      "text/plain": [
       "torch.float32"
      ]
     },
     "execution_count": 116,
     "metadata": {},
     "output_type": "execute_result"
    }
   ],
   "source": [
    "random_tensor.dtype"
   ]
  },
  {
   "cell_type": "code",
   "execution_count": 117,
   "metadata": {
    "colab": {
     "base_uri": "https://localhost:8080/"
    },
    "id": "26T8fjIbdQC_",
    "outputId": "18db3da9-6f29-4d41-b843-47263088865b"
   },
   "outputs": [
    {
     "data": {
      "text/plain": [
       "tensor([ 0,  1,  2,  3,  4,  5,  6,  7,  8,  9, 10])"
      ]
     },
     "execution_count": 117,
     "metadata": {},
     "output_type": "execute_result"
    }
   ],
   "source": [
    "## creating a range of tensors and tesnors-like\n",
    "# use toruch.range()\n",
    "one_to_ten = torch.arange(start=0,end=11,step = 1)\n",
    "one_to_ten"
   ]
  },
  {
   "cell_type": "code",
   "execution_count": 118,
   "metadata": {
    "colab": {
     "base_uri": "https://localhost:8080/"
    },
    "id": "HmQc92BZeJw0",
    "outputId": "288865dd-d340-4cb0-c3f0-d03ea8db4b67"
   },
   "outputs": [
    {
     "data": {
      "text/plain": [
       "tensor([0, 0, 0, 0, 0, 0, 0, 0, 0, 0, 0])"
      ]
     },
     "execution_count": 118,
     "metadata": {},
     "output_type": "execute_result"
    }
   ],
   "source": [
    "# creaitng tensors like\n",
    "ten_zeros = torch.zeros_like(input=one_to_ten)\n",
    "ten_zeros"
   ]
  },
  {
   "cell_type": "code",
   "execution_count": 119,
   "metadata": {
    "colab": {
     "base_uri": "https://localhost:8080/"
    },
    "id": "66tcaYZmewxf",
    "outputId": "4a19d7a3-ea65-4410-8219-11cc674e57f1"
   },
   "outputs": [
    {
     "data": {
      "text/plain": [
       "tensor([1, 1, 1, 1, 1, 1, 1, 1, 1, 1, 1])"
      ]
     },
     "execution_count": 119,
     "metadata": {},
     "output_type": "execute_result"
    }
   ],
   "source": [
    "ten_ones = torch.ones_like(input=one_to_ten)\n",
    "ten_ones"
   ]
  },
  {
   "cell_type": "markdown",
   "metadata": {
    "id": "9t1DWiDOfi9k"
   },
   "source": [
    "## tensor datatypes\n",
    "**note** tensor datatype is one of the 3 big error your un into with pytorch\n",
    "and deep leairng :\n",
    "1. tensor not right dat tpe\n",
    "2. tenosor nto right shape\n",
    "3. tensor not right device"
   ]
  },
  {
   "cell_type": "code",
   "execution_count": 120,
   "metadata": {
    "colab": {
     "base_uri": "https://localhost:8080/"
    },
    "id": "3nhak6QBfbp8",
    "outputId": "e8c96c02-4bef-4957-b7b2-68aaa0830098"
   },
   "outputs": [
    {
     "data": {
      "text/plain": [
       "tensor([3., 6., 9.])"
      ]
     },
     "execution_count": 120,
     "metadata": {},
     "output_type": "execute_result"
    }
   ],
   "source": [
    "# float 32 tensor\n",
    "float_32_tensor = torch.tensor([3.0,6.0,9.0],\n",
    "\n",
    "                               dtype=None, # says what is the dtype of the tensor\n",
    "                               device = None, # it can be cpu , cuda,\n",
    "                               requires_grad=False) # if you want the pytorch to track the gradient we will look at it later\n",
    "float_32_tensor"
   ]
  },
  {
   "cell_type": "code",
   "execution_count": 121,
   "metadata": {
    "colab": {
     "base_uri": "https://localhost:8080/"
    },
    "id": "r_eBHr2OfqPd",
    "outputId": "7c102d41-124e-4d4f-9dc2-13c108a59bc9"
   },
   "outputs": [
    {
     "data": {
      "text/plain": [
       "torch.float32"
      ]
     },
     "execution_count": 121,
     "metadata": {},
     "output_type": "execute_result"
    }
   ],
   "source": [
    "float_32_tensor.dtype"
   ]
  },
  {
   "cell_type": "code",
   "execution_count": 122,
   "metadata": {
    "colab": {
     "base_uri": "https://localhost:8080/"
    },
    "id": "dpMIkyvZfzQX",
    "outputId": "6808b13b-0c53-42a0-d0c1-ce7e37c44e3e"
   },
   "outputs": [
    {
     "data": {
      "text/plain": [
       "tensor([3., 6., 9.], dtype=torch.float16)"
      ]
     },
     "execution_count": 122,
     "metadata": {},
     "output_type": "execute_result"
    }
   ],
   "source": [
    "float_16_tensor = float_32_tensor.type(torch.float16)\n",
    "float_16_tensor"
   ]
  },
  {
   "cell_type": "code",
   "execution_count": 123,
   "metadata": {
    "colab": {
     "base_uri": "https://localhost:8080/"
    },
    "id": "2ybDHCK7jH6X",
    "outputId": "29acf17d-4292-45e1-ff84-788ecfc3c728"
   },
   "outputs": [
    {
     "data": {
      "text/plain": [
       "tensor([ 9., 36., 81.])"
      ]
     },
     "execution_count": 123,
     "metadata": {},
     "output_type": "execute_result"
    }
   ],
   "source": [
    "float_16_tensor * float_32_tensor"
   ]
  },
  {
   "cell_type": "code",
   "execution_count": 124,
   "metadata": {
    "colab": {
     "base_uri": "https://localhost:8080/"
    },
    "id": "igBaBh5Gjpe4",
    "outputId": "777f46e0-46aa-4ac5-82f7-31b2728ff72a"
   },
   "outputs": [
    {
     "data": {
      "text/plain": [
       "tensor([3, 6, 9], dtype=torch.int32)"
      ]
     },
     "execution_count": 124,
     "metadata": {},
     "output_type": "execute_result"
    }
   ],
   "source": [
    "int_32_tensor = torch.tensor([3,6,9],dtype=torch.int32)\n",
    "int_32_tensor"
   ]
  },
  {
   "cell_type": "code",
   "execution_count": 125,
   "metadata": {
    "colab": {
     "base_uri": "https://localhost:8080/"
    },
    "id": "VB_mrViFj57j",
    "outputId": "e116cb6e-621e-4120-cda0-46701d874dfe"
   },
   "outputs": [
    {
     "data": {
      "text/plain": [
       "tensor([ 9., 36., 81.])"
      ]
     },
     "execution_count": 125,
     "metadata": {},
     "output_type": "execute_result"
    }
   ],
   "source": [
    "int_32_tensor * float_32_tensor"
   ]
  },
  {
   "cell_type": "markdown",
   "metadata": {
    "id": "x1N9sF0SkaZZ"
   },
   "source": [
    "### getting information from tensors\n",
    "- tensor not right datatype - to get get `data type from a tensor , canuse ` tensor.dtype` `\n",
    "- tensor not right shape - to get shape  form a tensor , can use ` tensor.shape`\n",
    "- tensors not on the right device  - to get device from a tensor can use ` tensor.device`"
   ]
  },
  {
   "cell_type": "code",
   "execution_count": 126,
   "metadata": {
    "colab": {
     "base_uri": "https://localhost:8080/"
    },
    "id": "qw2JO6rLj7Lk",
    "outputId": "967ad7b2-d4c0-48e4-84ec-472823c5e98a"
   },
   "outputs": [
    {
     "data": {
      "text/plain": [
       "tensor([[0.0965, 0.9572, 0.5609, 0.9701],\n",
       "        [0.0765, 0.0187, 0.4863, 0.7434],\n",
       "        [0.9711, 0.0917, 0.2795, 0.8615]])"
      ]
     },
     "execution_count": 126,
     "metadata": {},
     "output_type": "execute_result"
    }
   ],
   "source": [
    "# crate a tensor\n",
    "\n",
    "some_tensor = torch.rand(3,4)\n",
    "some_tensor"
   ]
  },
  {
   "cell_type": "code",
   "execution_count": 127,
   "metadata": {
    "colab": {
     "base_uri": "https://localhost:8080/"
    },
    "id": "B9AZzaVHlE_P",
    "outputId": "a5a72ae9-e070-4f9d-ee89-254a8294315c"
   },
   "outputs": [
    {
     "name": "stdout",
     "output_type": "stream",
     "text": [
      "Datatype of tensor : torch.float32\n",
      "Shape of tensor : torch.Size([3, 4])\n",
      "Device of tensor : cpu \n"
     ]
    }
   ],
   "source": [
    "print(f\"Datatype of tensor : {some_tensor.dtype}\")\n",
    "print(f\"Shape of tensor : {some_tensor.shape}\")\n",
    "print(f\"Device of tensor : {some_tensor.device} \" )"
   ]
  },
  {
   "cell_type": "code",
   "execution_count": 128,
   "metadata": {
    "colab": {
     "base_uri": "https://localhost:8080/"
    },
    "id": "XJjtkLfblPVE",
    "outputId": "63b890bf-69fe-411f-f51b-25d3c04b885d"
   },
   "outputs": [
    {
     "data": {
      "text/plain": [
       "2"
      ]
     },
     "execution_count": 128,
     "metadata": {},
     "output_type": "execute_result"
    }
   ],
   "source": [
    "some_tensor.ndim"
   ]
  },
  {
   "cell_type": "markdown",
   "metadata": {
    "id": "rARDw-uAmCxe"
   },
   "source": [
    "### manipulating tenosrs ( tensor operations)\n",
    "tenosr opeariosn include  \n",
    "- addition\n",
    "- subtracion\n",
    "- multiplicaion ( element wise )\n",
    "- division\n",
    "- matrix multiplicaion"
   ]
  },
  {
   "cell_type": "code",
   "execution_count": 129,
   "metadata": {
    "colab": {
     "base_uri": "https://localhost:8080/"
    },
    "id": "oifLErmrlalO",
    "outputId": "f5271ece-7548-4395-f4ad-fb0297c581cf"
   },
   "outputs": [
    {
     "data": {
      "text/plain": [
       "tensor([11, 12, 13])"
      ]
     },
     "execution_count": 129,
     "metadata": {},
     "output_type": "execute_result"
    }
   ],
   "source": [
    "# create a tensor\n",
    "tensor = torch.tensor([1,2,3])\n",
    "tensor + 10 # this is changing the shape"
   ]
  },
  {
   "cell_type": "code",
   "execution_count": 130,
   "metadata": {
    "colab": {
     "base_uri": "https://localhost:8080/"
    },
    "id": "rqYg0Sh0mhfw",
    "outputId": "0ae73943-3154-43f8-bfe9-ee2677a9063c"
   },
   "outputs": [
    {
     "data": {
      "text/plain": [
       "tensor([10, 20, 30])"
      ]
     },
     "execution_count": 130,
     "metadata": {},
     "output_type": "execute_result"
    }
   ],
   "source": [
    "tensor * 10"
   ]
  },
  {
   "cell_type": "code",
   "execution_count": 131,
   "metadata": {
    "colab": {
     "base_uri": "https://localhost:8080/"
    },
    "id": "mtalKFuRmrOT",
    "outputId": "675a106d-0471-4666-d68a-1edaa51c6219"
   },
   "outputs": [
    {
     "data": {
      "text/plain": [
       "1"
      ]
     },
     "execution_count": 131,
     "metadata": {},
     "output_type": "execute_result"
    }
   ],
   "source": [
    "tensor.ndim"
   ]
  },
  {
   "cell_type": "code",
   "execution_count": 132,
   "metadata": {
    "colab": {
     "base_uri": "https://localhost:8080/"
    },
    "id": "65syqfq2mzbP",
    "outputId": "807e8475-697a-4ae5-b90f-33214732b048"
   },
   "outputs": [
    {
     "data": {
      "text/plain": [
       "tensor([-9, -8, -7])"
      ]
     },
     "execution_count": 132,
     "metadata": {},
     "output_type": "execute_result"
    }
   ],
   "source": [
    "tensor - 10"
   ]
  },
  {
   "cell_type": "code",
   "execution_count": 133,
   "metadata": {
    "colab": {
     "base_uri": "https://localhost:8080/"
    },
    "id": "Hz76VOvdm11D",
    "outputId": "2237aa5b-43eb-45d8-e1a5-231f8c58ebfa"
   },
   "outputs": [
    {
     "data": {
      "text/plain": [
       "tensor([10, 20, 30])"
      ]
     },
     "execution_count": 133,
     "metadata": {},
     "output_type": "execute_result"
    }
   ],
   "source": [
    "# try out pytorch inbuilt fuctions\n",
    "torch.mul(tensor,10)"
   ]
  },
  {
   "cell_type": "code",
   "execution_count": 134,
   "metadata": {
    "colab": {
     "base_uri": "https://localhost:8080/"
    },
    "id": "ooCzKAiMnHUQ",
    "outputId": "6b38ce86-9b31-472c-cb53-ab137fc06d36"
   },
   "outputs": [
    {
     "data": {
      "text/plain": [
       "tensor([11, 12, 13])"
      ]
     },
     "execution_count": 134,
     "metadata": {},
     "output_type": "execute_result"
    }
   ],
   "source": [
    "torch.add(tensor,10)"
   ]
  },
  {
   "cell_type": "markdown",
   "metadata": {
    "id": "-3XiO-HQnPwN"
   },
   "source": [
    "### metrics multiplicaion\n",
    "\n",
    "two ways to performing multipliaon in nerual networks and deepleanring\n",
    "1. element wise multiplicaion\n",
    "2. matrix multpliaion ( dot product)"
   ]
  },
  {
   "cell_type": "markdown",
   "metadata": {
    "id": "uetrdDXJnfB_"
   },
   "source": []
  },
  {
   "cell_type": "code",
   "execution_count": 135,
   "metadata": {
    "colab": {
     "base_uri": "https://localhost:8080/"
    },
    "id": "_0KbMj-DnKZA",
    "outputId": "4a1b3a84-63d9-404b-a50e-12c005ed810e"
   },
   "outputs": [
    {
     "name": "stdout",
     "output_type": "stream",
     "text": [
      "tensor([1, 2, 3]) * tensor([1, 2, 3])\n",
      "Equals : tensor([1, 4, 9])\n"
     ]
    }
   ],
   "source": [
    "# Element wise multipliaion\n",
    "print(tensor, \"*\", tensor)\n",
    "print(f\"Equals : {tensor * tensor}\")"
   ]
  },
  {
   "cell_type": "code",
   "execution_count": 136,
   "metadata": {
    "colab": {
     "base_uri": "https://localhost:8080/"
    },
    "id": "ajln8gyAoMjC",
    "outputId": "540f5e2f-9b97-455d-e6fb-e1681f397277"
   },
   "outputs": [
    {
     "data": {
      "text/plain": [
       "tensor(14)"
      ]
     },
     "execution_count": 136,
     "metadata": {},
     "output_type": "execute_result"
    }
   ],
   "source": [
    "# Matrix multiplcaion\n",
    "torch.matmul(tensor,tensor)"
   ]
  },
  {
   "cell_type": "code",
   "execution_count": 137,
   "metadata": {
    "colab": {
     "base_uri": "https://localhost:8080/"
    },
    "id": "rry8XXIwokg8",
    "outputId": "4d009351-9e7b-448d-cff8-5dee7217b380"
   },
   "outputs": [
    {
     "name": "stdout",
     "output_type": "stream",
     "text": [
      "tensor(14)\n",
      "CPU times: user 2.14 ms, sys: 0 ns, total: 2.14 ms\n",
      "Wall time: 1.52 ms\n"
     ]
    }
   ],
   "source": [
    "%%time\n",
    "value = 0\n",
    "for i in range(len(tensor)):\n",
    "    value += tensor[i] * tensor[i]\n",
    "print(value)"
   ]
  },
  {
   "cell_type": "code",
   "execution_count": 138,
   "metadata": {
    "colab": {
     "base_uri": "https://localhost:8080/"
    },
    "id": "YhTqVfPOpOsj",
    "outputId": "802f95d6-4d00-4c2a-fa9a-7596e2845035"
   },
   "outputs": [
    {
     "name": "stdout",
     "output_type": "stream",
     "text": [
      "CPU times: user 70 μs, sys: 0 ns, total: 70 μs\n",
      "Wall time: 61 μs\n"
     ]
    },
    {
     "data": {
      "text/plain": [
       "tensor(14)"
      ]
     },
     "execution_count": 138,
     "metadata": {},
     "output_type": "execute_result"
    }
   ],
   "source": [
    "%%time\n",
    "torch.matmul(tensor,tensor)"
   ]
  },
  {
   "cell_type": "markdown",
   "metadata": {
    "id": "SztOHdUhp8PU"
   },
   "source": [
    "one of the most common erros is deep learing is shape errors ,\n",
    "there are two main rules that performing matrix multpliaion needs to satisfy:\n",
    "1. inner dimmension must match  \n",
    "* `(3,2) @ ( 3,2 ) ` wont work\n",
    "* `(2,3) @ ( 3,2 ) ` will work\n",
    "* `(3,2) @ ( 2,3)` will work\n",
    "\n",
    "2. the resulting matrix has the shape of the **outer dimensions**\n",
    "* `(2,3) @ (3,2)`  -> `(2,2)`\n"
   ]
  },
  {
   "cell_type": "code",
   "execution_count": 139,
   "metadata": {
    "colab": {
     "base_uri": "https://localhost:8080/"
    },
    "id": "aiPYIJXKpRkE",
    "outputId": "78bc071e-a5c1-4573-9e67-7d5b164d0d32"
   },
   "outputs": [
    {
     "data": {
      "text/plain": [
       "tensor([[0.7884, 0.2933, 0.9248, 0.6521, 1.2694, 0.9433],\n",
       "        [0.6522, 0.2546, 0.7625, 0.5078, 1.0875, 0.8157],\n",
       "        [0.2743, 0.0563, 0.3309, 0.3472, 0.2990, 0.1934]])"
      ]
     },
     "execution_count": 139,
     "metadata": {},
     "output_type": "execute_result"
    }
   ],
   "source": [
    "torch.rand(3,2) @ torch.rand(2,6) # what matters is the inner dimension\n"
   ]
  },
  {
   "cell_type": "code",
   "execution_count": 140,
   "metadata": {
    "id": "d2eAiOTvqwUY"
   },
   "outputs": [],
   "source": [
    "# shapes for matrix mutplicaion\n",
    "tensor_A = torch.tensor([[1,2],\n",
    "                         [3,4],\n",
    "                         [5,6]])\n",
    "tensor_B = torch.tensor([[7,10],\n",
    "                         [8,11],\n",
    "                         [9,12]])\n",
    "\n",
    "#torch.matmul(tensor_A,tensor_B) # this will not work  the inner dimension dont match\n",
    "#torch.mm(tensor_A,tensor_B)\n",
    "# torch.mm is the same as torch.matmul which is very interesnting becuase we also have @ for the same\n"
   ]
  },
  {
   "cell_type": "markdown",
   "metadata": {
    "id": "EUEWDieevT9_"
   },
   "source": [
    "tto fix our tensor shape , usseus we can manipulat ehs shape of one of the tensor using tranpose\n",
    "**Transpose** switches the axis or dimensinas of a given tensor"
   ]
  },
  {
   "cell_type": "code",
   "execution_count": 141,
   "metadata": {
    "colab": {
     "base_uri": "https://localhost:8080/"
    },
    "id": "pwxbKIpful04",
    "outputId": "64654d78-0ad6-4274-cf68-b364810fe5f4"
   },
   "outputs": [
    {
     "data": {
      "text/plain": [
       "torch.Size([2, 3])"
      ]
     },
     "execution_count": 141,
     "metadata": {},
     "output_type": "execute_result"
    }
   ],
   "source": [
    "tensor_B = tensor_B.T\n",
    "tensor_B.shape"
   ]
  },
  {
   "cell_type": "code",
   "execution_count": 142,
   "metadata": {
    "id": "46b0q7ghvk6a"
   },
   "outputs": [],
   "source": [
    "#tensor_B.T @ tensor_A # This has solved the problem"
   ]
  },
  {
   "cell_type": "markdown",
   "metadata": {
    "id": "GGupA1G7ycwv"
   },
   "source": [
    "### finding the min, max , mean and sum of tensors etc ( tensor aggregation )\n",
    "these are called tensor agregation dont forget that\n"
   ]
  },
  {
   "cell_type": "code",
   "execution_count": 143,
   "metadata": {
    "colab": {
     "base_uri": "https://localhost:8080/"
    },
    "id": "HmNAXrU4wqR3",
    "outputId": "f30c1fba-4f85-44cf-b1a5-676b85e9a236"
   },
   "outputs": [
    {
     "data": {
      "text/plain": [
       "tensor([ 1, 11, 21, 31, 41, 51, 61, 71, 81, 91])"
      ]
     },
     "execution_count": 143,
     "metadata": {},
     "output_type": "execute_result"
    }
   ],
   "source": [
    "# create a tensor\n",
    "x = torch.arange(1,100,10)\n",
    "x"
   ]
  },
  {
   "cell_type": "code",
   "execution_count": 144,
   "metadata": {
    "colab": {
     "base_uri": "https://localhost:8080/"
    },
    "id": "NvhCKL59y5jG",
    "outputId": "afb1c6f1-f4b1-42a4-da60-37b29e2c06d0"
   },
   "outputs": [
    {
     "data": {
      "text/plain": [
       "(tensor(1), tensor(1))"
      ]
     },
     "execution_count": 144,
     "metadata": {},
     "output_type": "execute_result"
    }
   ],
   "source": [
    "# find the min\n",
    "torch.min(x), x.min()"
   ]
  },
  {
   "cell_type": "code",
   "execution_count": 145,
   "metadata": {
    "colab": {
     "base_uri": "https://localhost:8080/"
    },
    "id": "NlNXbu7dy9zO",
    "outputId": "b03df27c-f7dd-438f-99b7-906412f17189"
   },
   "outputs": [
    {
     "data": {
      "text/plain": [
       "(tensor(91), tensor(91))"
      ]
     },
     "execution_count": 145,
     "metadata": {},
     "output_type": "execute_result"
    }
   ],
   "source": [
    "# find the max\n",
    "torch.max(x), x.max()\n"
   ]
  },
  {
   "cell_type": "code",
   "execution_count": 146,
   "metadata": {
    "colab": {
     "base_uri": "https://localhost:8080/"
    },
    "id": "NncpGLr_zAKb",
    "outputId": "070dc085-80a9-49cd-d2e7-3b49dbfe33d2"
   },
   "outputs": [
    {
     "data": {
      "text/plain": [
       "(tensor(46.), tensor(46.))"
      ]
     },
     "execution_count": 146,
     "metadata": {},
     "output_type": "execute_result"
    }
   ],
   "source": [
    "# find the mean\n",
    "torch.mean(x.type(torch.float32)), x.type(torch.float32).mean()"
   ]
  },
  {
   "cell_type": "code",
   "execution_count": 147,
   "metadata": {
    "id": "hI4G-i0MzE1M"
   },
   "outputs": [],
   "source": [
    "# find the mean - note : he toruch.mean( ) requesr a tesore of float 32 datatypes to work\n",
    "\n"
   ]
  },
  {
   "cell_type": "code",
   "execution_count": 148,
   "metadata": {
    "colab": {
     "base_uri": "https://localhost:8080/"
    },
    "id": "Q9H0OwW03QwW",
    "outputId": "c8d23109-d32f-4a26-8990-4946391eddfd"
   },
   "outputs": [
    {
     "data": {
      "text/plain": [
       "(tensor(460), tensor(460))"
      ]
     },
     "execution_count": 148,
     "metadata": {},
     "output_type": "execute_result"
    }
   ],
   "source": [
    "# find teh sum\n",
    "torch.sum(x), x.sum()"
   ]
  },
  {
   "cell_type": "markdown",
   "metadata": {
    "id": "IK5m6fyP3mxN"
   },
   "source": [
    "### finding the positional mix max fo tensors\n"
   ]
  },
  {
   "cell_type": "code",
   "execution_count": 149,
   "metadata": {
    "colab": {
     "base_uri": "https://localhost:8080/"
    },
    "id": "gqkgc8Uo3SjX",
    "outputId": "0920c0e9-1732-4612-d329-f368b3b4c159"
   },
   "outputs": [
    {
     "data": {
      "text/plain": [
       "tensor(0)"
      ]
     },
     "execution_count": 149,
     "metadata": {},
     "output_type": "execute_result"
    }
   ],
   "source": [
    "x.argmin()"
   ]
  },
  {
   "cell_type": "code",
   "execution_count": 150,
   "metadata": {
    "colab": {
     "base_uri": "https://localhost:8080/"
    },
    "id": "EGACSZXfUMf7",
    "outputId": "e7e6b426-66db-4a53-ca0e-a9f1430e5ab7"
   },
   "outputs": [
    {
     "data": {
      "text/plain": [
       "tensor(1)"
      ]
     },
     "execution_count": 150,
     "metadata": {},
     "output_type": "execute_result"
    }
   ],
   "source": [
    "# find teh posion in tensoer that has the minum valesu with argmin() -> return indexpositon of tage ttesnor where minimu to start\n",
    "x[x.argmin()] # this is possible interesting"
   ]
  },
  {
   "cell_type": "code",
   "execution_count": 151,
   "metadata": {
    "colab": {
     "base_uri": "https://localhost:8080/"
    },
    "id": "DUD3NjJMUVTZ",
    "outputId": "988ef76c-da0d-4537-b8f6-2f2566a19be9"
   },
   "outputs": [
    {
     "data": {
      "text/plain": [
       "tensor(91)"
      ]
     },
     "execution_count": 151,
     "metadata": {},
     "output_type": "execute_result"
    }
   ],
   "source": [
    "# find teh position in tensor has the maximun valeus with argmax()\n",
    "x[x.argmax()]"
   ]
  },
  {
   "cell_type": "markdown",
   "metadata": {
    "id": "ymJjEGGqVp5c"
   },
   "source": [
    "## reshaping , stacking , squeezing  and nsqueezing tensors\n",
    "\n",
    "* reshapping - reshpaes an imput tenosre to a defined shape\n",
    "* view - return a view fo an input tensor of cetain shape but kepp the same memory as the origin tensor\n",
    "* stacking - combine multiple tensor on top of each other (vstack ) or horizonatl stack ( hstack)\n",
    "* squueze - remove all `1` dimenstaions for a tenosr\n",
    "* unsquueze - add `1` dimenstion to the tensor\n",
    "* permute - return a view of the input with dimenstions perumuted in a centain way"
   ]
  },
  {
   "cell_type": "code",
   "execution_count": 152,
   "metadata": {
    "colab": {
     "base_uri": "https://localhost:8080/"
    },
    "id": "aCzoWg8gU-cW",
    "outputId": "5985b9ea-7057-4ac7-adfe-1e1eb87046f0"
   },
   "outputs": [
    {
     "data": {
      "text/plain": [
       "(tensor([1., 2., 3., 4., 5., 6., 7., 8., 9.]), torch.Size([9]))"
      ]
     },
     "execution_count": 152,
     "metadata": {},
     "output_type": "execute_result"
    }
   ],
   "source": [
    "# lets create a tensor\n",
    "import torch\n",
    "x = torch.arange(1.,10.)\n",
    "x, x.shape"
   ]
  },
  {
   "cell_type": "code",
   "execution_count": 153,
   "metadata": {
    "colab": {
     "base_uri": "https://localhost:8080/"
    },
    "id": "PpOkmTd8Wna1",
    "outputId": "894436b5-b827-4a8f-f51a-d9db836acc17"
   },
   "outputs": [
    {
     "data": {
      "text/plain": [
       "(tensor([[1.],\n",
       "         [2.],\n",
       "         [3.],\n",
       "         [4.],\n",
       "         [5.],\n",
       "         [6.],\n",
       "         [7.],\n",
       "         [8.],\n",
       "         [9.]]),\n",
       " torch.Size([9, 1]))"
      ]
     },
     "execution_count": 153,
     "metadata": {},
     "output_type": "execute_result"
    }
   ],
   "source": [
    "# add an extra dimension\n",
    "x_reshaped = x.reshape(9,1)\n",
    "x_reshaped, x_reshaped.shape"
   ]
  },
  {
   "cell_type": "code",
   "execution_count": 154,
   "metadata": {
    "colab": {
     "base_uri": "https://localhost:8080/"
    },
    "id": "0Tjwq5Y3Wxls",
    "outputId": "44b36a62-c6ce-4bf6-bf57-4ab36e12c23b"
   },
   "outputs": [
    {
     "data": {
      "text/plain": [
       "(tensor([[1., 2., 3., 4., 5., 6., 7., 8., 9.]]), torch.Size([1, 9]))"
      ]
     },
     "execution_count": 154,
     "metadata": {},
     "output_type": "execute_result"
    }
   ],
   "source": [
    "# change the view\n",
    "z = x.view(1,9)\n",
    "z, z.shape"
   ]
  },
  {
   "cell_type": "code",
   "execution_count": 155,
   "metadata": {
    "colab": {
     "base_uri": "https://localhost:8080/"
    },
    "id": "U0ulyykdX_wW",
    "outputId": "cd7f5dbd-5bfa-46c0-bd87-eb0e210bf049"
   },
   "outputs": [
    {
     "data": {
      "text/plain": [
       "(tensor([[5., 2., 3., 4., 5., 6., 7., 8., 9.]]),\n",
       " tensor([5., 2., 3., 4., 5., 6., 7., 8., 9.]))"
      ]
     },
     "execution_count": 155,
     "metadata": {},
     "output_type": "execute_result"
    }
   ],
   "source": [
    "# changing z changes x becuase a view of a tensor shares the same memory as teh original input\n",
    "z[:,0] = 5\n",
    "z,x"
   ]
  },
  {
   "cell_type": "code",
   "execution_count": 156,
   "metadata": {
    "colab": {
     "base_uri": "https://localhost:8080/"
    },
    "id": "TUpMmcNAYWRy",
    "outputId": "d3e12ec0-7167-418e-ecde-4674a4856893"
   },
   "outputs": [
    {
     "data": {
      "text/plain": [
       "tensor([[5., 2., 3., 4., 5., 6., 7., 8., 9.],\n",
       "        [5., 2., 3., 4., 5., 6., 7., 8., 9.],\n",
       "        [5., 2., 3., 4., 5., 6., 7., 8., 9.],\n",
       "        [5., 2., 3., 4., 5., 6., 7., 8., 9.]])"
      ]
     },
     "execution_count": 156,
     "metadata": {},
     "output_type": "execute_result"
    }
   ],
   "source": [
    "# stack tensors on top of each other\n",
    "x_stacked = torch.stack([x,x,x,x],dim=0)\n",
    "x_stacked"
   ]
  },
  {
   "cell_type": "code",
   "execution_count": 157,
   "metadata": {
    "colab": {
     "base_uri": "https://localhost:8080/"
    },
    "id": "ljPy5Dh1ZBNf",
    "outputId": "17752d5c-175d-44b5-d44b-ad2661959abf"
   },
   "outputs": [
    {
     "name": "stdout",
     "output_type": "stream",
     "text": [
      "Previous tensor : tensor([[5.],\n",
      "        [2.],\n",
      "        [3.],\n",
      "        [4.],\n",
      "        [5.],\n",
      "        [6.],\n",
      "        [7.],\n",
      "        [8.],\n",
      "        [9.]])\n",
      "Previous shape : torch.Size([9, 1])\n",
      "\n",
      "New tensor : tensor([5., 2., 3., 4., 5., 6., 7., 8., 9.])\n",
      "New shape : torch.Size([9])\n"
     ]
    }
   ],
   "source": [
    "# squuze and unsqueeze are useful tensor operaions for manipulating the dimensions foa tensor . ehe a breakdown of how each one works\n",
    "\n",
    "print(f\"Previous tensor : {x_reshaped}\")\n",
    "print(f\"Previous shape : {x_reshaped.shape}\")\n",
    "\n",
    "# remove extra dimention from x_reshaped\n",
    "x_squeezed = x_reshaped.squeeze()\n",
    "print(f\"\\nNew tensor : {x_squeezed}\")\n",
    "print(f\"New shape : {x_squeezed.shape}\")\n",
    "\n"
   ]
  },
  {
   "cell_type": "code",
   "execution_count": 158,
   "metadata": {
    "colab": {
     "base_uri": "https://localhost:8080/"
    },
    "id": "mKCooj06aML8",
    "outputId": "68bc6e88-9a67-4b58-a8ca-3a486c1110fc"
   },
   "outputs": [
    {
     "name": "stdout",
     "output_type": "stream",
     "text": [
      "Previous tensor : tensor([5., 2., 3., 4., 5., 6., 7., 8., 9.])\n",
      "Previous shape : torch.Size([9])\n",
      "\n",
      "New tensor : tensor([[5., 2., 3., 4., 5., 6., 7., 8., 9.]])\n",
      "New shape : torch.Size([1, 9])\n"
     ]
    }
   ],
   "source": [
    "# torch.unsqueeze () - add a single dimension to atarget tensor at a specif ic dim ( dimension )\n",
    "print(f\"Previous tensor : {x_squeezed}\")\n",
    "print(f\"Previous shape : {x_squeezed.shape}\")\n",
    "\n",
    "# remove extra dimention from x_res\n",
    "x_unsqueezed = x_squeezed.unsqueeze(dim=0)\n",
    "print(f\"\\nNew tensor : {x_unsqueezed}\")\n",
    "print(f\"New shape : {x_unsqueezed.shape}\")"
   ]
  },
  {
   "cell_type": "code",
   "execution_count": 159,
   "metadata": {
    "colab": {
     "base_uri": "https://localhost:8080/"
    },
    "id": "-wQKWqo_bTus",
    "outputId": "84a4ef0e-aa25-4f03-d6f8-300ea6541313"
   },
   "outputs": [
    {
     "name": "stdout",
     "output_type": "stream",
     "text": [
      "<built-in method size of Tensor object at 0x7f1e06b12ad0>\n",
      "Previous shape : torch.Size([224, 224, 3])\n",
      "New shape : torch.Size([3, 224, 224])\n"
     ]
    }
   ],
   "source": [
    "# torch.permute - rearrange the dimensions of the tensor in a given order\n",
    "x_original = torch.rand(size=(224,224,3)) # height , width , color_channesl\n",
    "print(x_original.size)\n",
    "x_permuted = x_original.permute(2,0,1) # shifts axis 0->1 , 1->2 , 2->0\n",
    "print(f\"Previous shape : {x_original.shape}\")\n",
    "print(f\"New shape : {x_permuted.shape}\")\n"
   ]
  },
  {
   "cell_type": "code",
   "execution_count": 160,
   "metadata": {
    "colab": {
     "base_uri": "https://localhost:8080/"
    },
    "id": "z2M19BY8cAZx",
    "outputId": "7738107c-76bc-4007-f0f5-327371fa8380"
   },
   "outputs": [
    {
     "data": {
      "text/plain": [
       "torch.Size([2, 3, 5])"
      ]
     },
     "execution_count": 160,
     "metadata": {},
     "output_type": "execute_result"
    }
   ],
   "source": [
    "x = torch.rand(2,3,5)\n",
    "x.size()"
   ]
  },
  {
   "cell_type": "code",
   "execution_count": 161,
   "metadata": {
    "colab": {
     "base_uri": "https://localhost:8080/"
    },
    "id": "KySW5A13cS7N",
    "outputId": "6a084be6-d3ca-45a7-e5c8-47a99aed752b"
   },
   "outputs": [
    {
     "data": {
      "text/plain": [
       "torch.Size([5, 2, 3])"
      ]
     },
     "execution_count": 161,
     "metadata": {},
     "output_type": "execute_result"
    }
   ],
   "source": [
    "torch.permute(x,(2,0,1)).size()"
   ]
  },
  {
   "cell_type": "code",
   "execution_count": 162,
   "metadata": {
    "id": "vAGvBlzacV6c"
   },
   "outputs": [],
   "source": [
    "# permute is commonly used with images"
   ]
  },
  {
   "cell_type": "markdown",
   "metadata": {
    "id": "1IC7ow9Qdht9"
   },
   "source": [
    "### selecting data from the tensor\n"
   ]
  },
  {
   "cell_type": "code",
   "execution_count": 163,
   "metadata": {
    "colab": {
     "base_uri": "https://localhost:8080/"
    },
    "id": "yv_zggL0dBQV",
    "outputId": "f4022c70-52e9-4df7-aab0-1fbd15348035"
   },
   "outputs": [
    {
     "data": {
      "text/plain": [
       "(tensor([[[1, 2, 3],\n",
       "          [4, 5, 6],\n",
       "          [7, 8, 9]]]),\n",
       " torch.Size([1, 3, 3]))"
      ]
     },
     "execution_count": 163,
     "metadata": {},
     "output_type": "execute_result"
    }
   ],
   "source": [
    "## Indexing ( selecitn dat form tensors)\n",
    "import torch\n",
    "x = torch.arange(1,10).reshape(1,3,3)\n",
    "x, x.shape"
   ]
  },
  {
   "cell_type": "code",
   "execution_count": 164,
   "metadata": {
    "colab": {
     "base_uri": "https://localhost:8080/"
    },
    "id": "yA1a7QymeF3I",
    "outputId": "8a4a55bd-599b-4511-a7bb-3b1999230f43"
   },
   "outputs": [
    {
     "data": {
      "text/plain": [
       "tensor([[1, 2, 3],\n",
       "        [4, 5, 6],\n",
       "        [7, 8, 9]])"
      ]
     },
     "execution_count": 164,
     "metadata": {},
     "output_type": "execute_result"
    }
   ],
   "source": [
    "# Lets index on our new tensor\n",
    "x[0]"
   ]
  },
  {
   "cell_type": "code",
   "execution_count": 165,
   "metadata": {
    "colab": {
     "base_uri": "https://localhost:8080/"
    },
    "id": "HU4TFArOeUlT",
    "outputId": "2b5394d2-43ca-40a1-b09d-875748130fd8"
   },
   "outputs": [
    {
     "data": {
      "text/plain": [
       "tensor([1, 2, 3])"
      ]
     },
     "execution_count": 165,
     "metadata": {},
     "output_type": "execute_result"
    }
   ],
   "source": [
    "x[0][0]"
   ]
  },
  {
   "cell_type": "code",
   "execution_count": 166,
   "metadata": {
    "colab": {
     "base_uri": "https://localhost:8080/"
    },
    "id": "iGt97xq1eYz8",
    "outputId": "4e3a1b17-58a8-4ab4-d7f4-75d16a29dd76"
   },
   "outputs": [
    {
     "data": {
      "text/plain": [
       "tensor([1, 2, 3])"
      ]
     },
     "execution_count": 166,
     "metadata": {},
     "output_type": "execute_result"
    }
   ],
   "source": [
    "# you can use\n",
    "x[0,0]"
   ]
  },
  {
   "cell_type": "code",
   "execution_count": 167,
   "metadata": {
    "colab": {
     "base_uri": "https://localhost:8080/"
    },
    "id": "W6cR8GDweeG5",
    "outputId": "e77caece-1e33-43d3-bda2-7a58b66ce046"
   },
   "outputs": [
    {
     "data": {
      "text/plain": [
       "tensor(1)"
      ]
     },
     "execution_count": 167,
     "metadata": {},
     "output_type": "execute_result"
    }
   ],
   "source": [
    "x[0][0][0]"
   ]
  },
  {
   "cell_type": "code",
   "execution_count": null,
   "metadata": {
    "id": "DYk6v4qjekx7"
   },
   "outputs": [],
   "source": []
  },
  {
   "cell_type": "code",
   "execution_count": 168,
   "metadata": {
    "colab": {
     "base_uri": "https://localhost:8080/"
    },
    "id": "ui0-UsFIepYB",
    "outputId": "7785c80b-43b7-4519-ff67-13c896966f26"
   },
   "outputs": [
    {
     "data": {
      "text/plain": [
       "tensor([[1, 2, 3]])"
      ]
     },
     "execution_count": 168,
     "metadata": {},
     "output_type": "execute_result"
    }
   ],
   "source": [
    "# you can also your : to select all of a target dimension\n",
    "x[:,0]"
   ]
  },
  {
   "cell_type": "code",
   "execution_count": 169,
   "metadata": {
    "colab": {
     "base_uri": "https://localhost:8080/"
    },
    "id": "bt9qWHnCfDwr",
    "outputId": "c7a0d983-3029-4995-a2b4-8f4b771d5d69"
   },
   "outputs": [
    {
     "data": {
      "text/plain": [
       "tensor([[2, 5, 8]])"
      ]
     },
     "execution_count": 169,
     "metadata": {},
     "output_type": "execute_result"
    }
   ],
   "source": [
    "# get all values of 0th and 1st dimension but only index 1 of 2nd dimension\n",
    "x[:,:,1]"
   ]
  },
  {
   "cell_type": "markdown",
   "metadata": {
    "id": "-McLo8gxg7Bs"
   },
   "source": [
    "\n",
    "## pytorch tensors and numpy\n",
    "\n",
    "numpy is a popular scientific pyton numerical computing library . and becuasoe f this , pytorch has funtionaliry to interact with it .\n",
    "* data in numpy, want in pytorch tensor  > `torch.from_numpy(ndarray)`\n",
    "* pytorch tensor -> torch.tensor.numpy()\n"
   ]
  },
  {
   "cell_type": "code",
   "execution_count": 171,
   "metadata": {
    "colab": {
     "base_uri": "https://localhost:8080/"
    },
    "id": "fFNOvQmofORj",
    "outputId": "8d6eb98d-2da1-4191-ac24-e35b0ba022ba"
   },
   "outputs": [
    {
     "data": {
      "text/plain": [
       "' import torch\\nimport numpy as np\\narray = np.arange(1.0,8.0)\\ntensor = torch.from_numpy(array).type(torch.float32)\\narray, tensor '"
      ]
     },
     "execution_count": 171,
     "metadata": {},
     "output_type": "execute_result"
    }
   ],
   "source": [
    "\"\"\" import torch\n",
    "import numpy as np\n",
    "array = np.arange(1.0,8.0)\n",
    "tensor = torch.from_numpy(array).type(torch.float32)\n",
    "array, tensor \"\"\""
   ]
  },
  {
   "cell_type": "code",
   "execution_count": 172,
   "metadata": {
    "colab": {
     "base_uri": "https://localhost:8080/"
    },
    "id": "yFKjwHWWhovM",
    "outputId": "1de812a0-7c73-47ca-9a0a-f0aa94f31065"
   },
   "outputs": [
    {
     "data": {
      "text/plain": [
       "dtype('float64')"
      ]
     },
     "execution_count": 172,
     "metadata": {},
     "output_type": "execute_result"
    }
   ],
   "source": [
    "array.dtype"
   ]
  },
  {
   "cell_type": "code",
   "execution_count": 173,
   "metadata": {
    "colab": {
     "base_uri": "https://localhost:8080/"
    },
    "id": "m14A80kXhtN_",
    "outputId": "be1face0-a0a1-49a1-da80-f09eea9b7d84"
   },
   "outputs": [
    {
     "data": {
      "text/plain": [
       "torch.float32"
      ]
     },
     "execution_count": 173,
     "metadata": {},
     "output_type": "execute_result"
    }
   ],
   "source": [
    "torch.arange(1.0,8.0).dtype"
   ]
  },
  {
   "cell_type": "code",
   "execution_count": 174,
   "metadata": {
    "id": "XvRmtH-Uhwv3"
   },
   "outputs": [],
   "source": [
    "# the default from numpy is float64\n"
   ]
  },
  {
   "cell_type": "code",
   "execution_count": 175,
   "metadata": {
    "colab": {
     "base_uri": "https://localhost:8080/"
    },
    "id": "mNSdHswciWCs",
    "outputId": "0e044052-b889-4c2d-b995-94f24eba90e9"
   },
   "outputs": [
    {
     "ename": "RuntimeError",
     "evalue": "Numpy is not available",
     "output_type": "error",
     "traceback": [
      "\u001b[0;31m---------------------------------------------------------------------------\u001b[0m",
      "\u001b[0;31mRuntimeError\u001b[0m                              Traceback (most recent call last)",
      "Cell \u001b[0;32mIn[175], line 3\u001b[0m\n\u001b[1;32m      1\u001b[0m \u001b[38;5;66;03m# tenosr to numpy array\u001b[39;00m\n\u001b[1;32m      2\u001b[0m tensor \u001b[38;5;241m=\u001b[39m torch\u001b[38;5;241m.\u001b[39mones(\u001b[38;5;241m7\u001b[39m)\n\u001b[0;32m----> 3\u001b[0m numpy_tensor \u001b[38;5;241m=\u001b[39m \u001b[43mtensor\u001b[49m\u001b[38;5;241;43m.\u001b[39;49m\u001b[43mnumpy\u001b[49m\u001b[43m(\u001b[49m\u001b[43m)\u001b[49m\n\u001b[1;32m      4\u001b[0m tensor, numpy_tensor\n",
      "\u001b[0;31mRuntimeError\u001b[0m: Numpy is not available"
     ]
    }
   ],
   "source": [
    "# tenosr to numpy array\n",
    "tensor = torch.ones(7)\n",
    "numpy_tensor = tensor.numpy()\n",
    "tensor, numpy_tensor"
   ]
  },
  {
   "cell_type": "markdown",
   "metadata": {
    "id": "ORkt8er5jJmR"
   },
   "source": [
    "## reproducabilty ( try ing to take random out of random )\n",
    "in short how a neural network learn\n",
    "` start with random numers -> tensor operations -> update ranodm numbers to gry and make them better representaions fo the data -> again -> again -> again `\n",
    "\n",
    "to reuce the randomness in nerual netorks and pytorch comes the comcept of **random seed**\n",
    "essenstailly what the random seed does is \"flavour\" and ranodmness."
   ]
  },
  {
   "cell_type": "code",
   "execution_count": null,
   "metadata": {
    "colab": {
     "base_uri": "https://localhost:8080/"
    },
    "id": "hmly9IOGiqah",
    "outputId": "3c08c6f9-e95f-49d4-ef61-916bad749bc3"
   },
   "outputs": [
    {
     "name": "stdout",
     "output_type": "stream",
     "text": [
      "tensor([[0.1916, 0.8605, 0.1646, 0.7643],\n",
      "        [0.2787, 0.9552, 0.0514, 0.2246],\n",
      "        [0.1116, 0.0084, 0.0457, 0.3331]])\n",
      "tensor([[0.7783, 0.8224, 0.4628, 0.4599],\n",
      "        [0.2703, 0.4297, 0.8685, 0.9219],\n",
      "        [0.6680, 0.6235, 0.8926, 0.4510]])\n",
      "tensor([[False, False, False, False],\n",
      "        [False, False, False, False],\n",
      "        [False, False, False, False]])\n"
     ]
    }
   ],
   "source": [
    "import torch\n",
    "# create tow random tensor\n",
    "random_tensor_a = torch.rand(3,4)\n",
    "random_tensor_b = torch.rand(3,4)\n",
    "print(random_tensor_a)\n",
    "print(random_tensor_b)\n",
    "print(random_tensor_a == random_tensor_b)"
   ]
  },
  {
   "cell_type": "code",
   "execution_count": null,
   "metadata": {
    "colab": {
     "base_uri": "https://localhost:8080/"
    },
    "id": "KNE8gPPXkOr0",
    "outputId": "2b4ad1f5-54f7-4f93-8329-da6e6b77c8c7"
   },
   "outputs": [
    {
     "name": "stdout",
     "output_type": "stream",
     "text": [
      "tensor([[0.8823, 0.9150, 0.3829, 0.9593],\n",
      "        [0.3904, 0.6009, 0.2566, 0.7936],\n",
      "        [0.9408, 0.1332, 0.9346, 0.5936]])\n",
      "tensor([[0.8823, 0.9150, 0.3829, 0.9593],\n",
      "        [0.3904, 0.6009, 0.2566, 0.7936],\n",
      "        [0.9408, 0.1332, 0.9346, 0.5936]])\n",
      "tensor([[True, True, True, True],\n",
      "        [True, True, True, True],\n",
      "        [True, True, True, True]])\n"
     ]
    }
   ],
   "source": [
    "# lets make some random but reproducible tensors\n",
    "import torch\n",
    "# set the ranom seed\n",
    "RANOM_SEED = 42\n",
    "torch.manual_seed(RANOM_SEED )\n",
    "random_tensor_c = torch.rand(3,4)\n",
    "torch.manual_seed(RANOM_SEED )\n",
    "random_tensor_d = torch.rand(3,4)\n",
    "\n",
    "print(random_tensor_c)\n",
    "print(random_tensor_d)\n",
    "print(random_tensor_c == random_tensor_d)"
   ]
  },
  {
   "cell_type": "markdown",
   "metadata": {
    "id": "psS7zgdCl8Za"
   },
   "source": [
    "## differnt way to accesssing gpu using for tensors\n",
    "GPU = faster computation on numers , thanks to CUDE + CNVIDIAhadware\n",
    "### getting a GPU\n",
    "1. easiest - use google colab for a free GPU  or options to upgrade as well\n",
    "2. use your own gpu - takes a little bit of setpu and requeres to investmet to purchasing a gpu\n",
    "3. use cloud computing - AWS , AZURE , these services allow you to rest computer and access them\n"
   ]
  },
  {
   "cell_type": "code",
   "execution_count": null,
   "metadata": {
    "colab": {
     "base_uri": "https://localhost:8080/"
    },
    "id": "U8wGIiholBQ5",
    "outputId": "b8d2de5f-f7dc-4f75-f964-7d7eac9d6095"
   },
   "outputs": [],
   "source": []
  },
  {
   "cell_type": "code",
   "execution_count": 177,
   "metadata": {
    "colab": {
     "base_uri": "https://localhost:8080/"
    },
    "id": "YF_pnGFjnXw1",
    "outputId": "c028204b-9536-4c46-9c2a-ff71886b7057"
   },
   "outputs": [
    {
     "data": {
      "text/plain": [
       "False"
      ]
     },
     "execution_count": 177,
     "metadata": {},
     "output_type": "execute_result"
    }
   ],
   "source": [
    "## check for gpu access pytorch\n",
    "import torch\n",
    "torch.cuda.is_available()"
   ]
  },
  {
   "cell_type": "code",
   "execution_count": 178,
   "metadata": {
    "colab": {
     "base_uri": "https://localhost:8080/",
     "height": 35
    },
    "id": "u6PCNnYanpCD",
    "outputId": "725ca95e-6d0b-499f-80c2-dd0cf6365fbd"
   },
   "outputs": [
    {
     "data": {
      "text/plain": [
       "'cpu'"
      ]
     },
     "execution_count": 178,
     "metadata": {},
     "output_type": "execute_result"
    }
   ],
   "source": [
    "# setup  device agnostic code\n",
    "device = \"cuda\" if torch.cuda.is_available() else \"cpu\"\n",
    "device"
   ]
  },
  {
   "cell_type": "code",
   "execution_count": 179,
   "metadata": {
    "colab": {
     "base_uri": "https://localhost:8080/"
    },
    "id": "Ht0dqcjOoEXY",
    "outputId": "5832f2f1-9d92-4873-f9fe-badc93cc08a4"
   },
   "outputs": [
    {
     "data": {
      "text/plain": [
       "0"
      ]
     },
     "execution_count": 179,
     "metadata": {},
     "output_type": "execute_result"
    }
   ],
   "source": [
    "# count number of devices\n",
    "torch.cuda.device_count()"
   ]
  },
  {
   "cell_type": "markdown",
   "metadata": {
    "id": "MdiUTx0s49AS"
   },
   "source": [
    "## putting tensors ( and models ) on the gpu\n",
    "the reason we want our tensors / models on the gpu is because usign a gpu is fast for tensor operation faster than a cpu"
   ]
  },
  {
   "cell_type": "code",
   "execution_count": 180,
   "metadata": {
    "colab": {
     "base_uri": "https://localhost:8080/"
    },
    "id": "1e0bOIT4oO_6",
    "outputId": "839c2129-9eda-4e4e-91ec-190d6b478d09"
   },
   "outputs": [
    {
     "name": "stdout",
     "output_type": "stream",
     "text": [
      "tensor([1, 2, 3]) cpu\n"
     ]
    }
   ],
   "source": [
    "# create a tensor\n",
    "tensor = torch.tensor([1,2,3],device=device)\n",
    "# tensor on gpu by default is on cpu\n",
    "print(tensor, tensor.device)"
   ]
  },
  {
   "cell_type": "markdown",
   "metadata": {
    "id": "Yoc5XjGG50xk"
   },
   "source": [
    "### moving tenosrs back to the cpu"
   ]
  },
  {
   "cell_type": "code",
   "execution_count": 181,
   "metadata": {
    "colab": {
     "base_uri": "https://localhost:8080/"
    },
    "id": "wu3NB2IK5VRs",
    "outputId": "e190fc03-487e-4716-b9ad-16c7fed3a2bd"
   },
   "outputs": [
    {
     "ename": "RuntimeError",
     "evalue": "Numpy is not available",
     "output_type": "error",
     "traceback": [
      "\u001b[0;31m---------------------------------------------------------------------------\u001b[0m",
      "\u001b[0;31mRuntimeError\u001b[0m                              Traceback (most recent call last)",
      "Cell \u001b[0;32mIn[181], line 4\u001b[0m\n\u001b[1;32m      1\u001b[0m \u001b[38;5;66;03m# if tensor is on gpu cant tranform in to numpy\u001b[39;00m\n\u001b[1;32m      2\u001b[0m \u001b[38;5;66;03m# tensor.numpy() # this will give an error  -> this is becuase it is on gpu\u001b[39;00m\n\u001b[0;32m----> 4\u001b[0m tensor_back_on_cpu \u001b[38;5;241m=\u001b[39m \u001b[43mtensor\u001b[49m\u001b[38;5;241;43m.\u001b[39;49m\u001b[43mcpu\u001b[49m\u001b[43m(\u001b[49m\u001b[43m)\u001b[49m\u001b[38;5;241;43m.\u001b[39;49m\u001b[43mnumpy\u001b[49m\u001b[43m(\u001b[49m\u001b[43m)\u001b[49m\n\u001b[1;32m      5\u001b[0m tensor_back_on_cpu \u001b[38;5;66;03m# this is how we can solve the issue\u001b[39;00m\n",
      "\u001b[0;31mRuntimeError\u001b[0m: Numpy is not available"
     ]
    }
   ],
   "source": [
    "# if tensor is on gpu cant tranform in to numpy\n",
    "# tensor.numpy() # this will give an error  -> this is becuase it is on gpu\n",
    "\n",
    "tensor_back_on_cpu = tensor.cpu().numpy()\n",
    "tensor_back_on_cpu # this is how we can solve the issue"
   ]
  },
  {
   "cell_type": "code",
   "execution_count": null,
   "metadata": {
    "id": "8z49_yr65_ic"
   },
   "outputs": [],
   "source": []
  },
  {
   "cell_type": "code",
   "execution_count": null,
   "metadata": {},
   "outputs": [],
   "source": []
  },
  {
   "cell_type": "code",
   "execution_count": null,
   "metadata": {},
   "outputs": [],
   "source": []
  },
  {
   "cell_type": "code",
   "execution_count": null,
   "metadata": {},
   "outputs": [],
   "source": []
  },
  {
   "cell_type": "code",
   "execution_count": null,
   "metadata": {},
   "outputs": [],
   "source": []
  },
  {
   "cell_type": "code",
   "execution_count": null,
   "metadata": {},
   "outputs": [],
   "source": []
  },
  {
   "cell_type": "code",
   "execution_count": null,
   "metadata": {},
   "outputs": [],
   "source": []
  },
  {
   "cell_type": "code",
   "execution_count": null,
   "metadata": {},
   "outputs": [],
   "source": []
  },
  {
   "cell_type": "code",
   "execution_count": null,
   "metadata": {},
   "outputs": [],
   "source": []
  },
  {
   "cell_type": "code",
   "execution_count": null,
   "metadata": {},
   "outputs": [],
   "source": []
  },
  {
   "cell_type": "code",
   "execution_count": null,
   "metadata": {},
   "outputs": [],
   "source": []
  },
  {
   "cell_type": "code",
   "execution_count": null,
   "metadata": {},
   "outputs": [],
   "source": []
  },
  {
   "cell_type": "code",
   "execution_count": null,
   "metadata": {},
   "outputs": [],
   "source": []
  },
  {
   "cell_type": "code",
   "execution_count": null,
   "metadata": {},
   "outputs": [],
   "source": []
  },
  {
   "cell_type": "code",
   "execution_count": null,
   "metadata": {},
   "outputs": [],
   "source": []
  },
  {
   "cell_type": "code",
   "execution_count": null,
   "metadata": {},
   "outputs": [],
   "source": []
  },
  {
   "cell_type": "code",
   "execution_count": null,
   "metadata": {},
   "outputs": [],
   "source": []
  },
  {
   "cell_type": "code",
   "execution_count": null,
   "metadata": {},
   "outputs": [],
   "source": []
  },
  {
   "cell_type": "code",
   "execution_count": null,
   "metadata": {},
   "outputs": [],
   "source": []
  },
  {
   "cell_type": "code",
   "execution_count": null,
   "metadata": {},
   "outputs": [],
   "source": []
  },
  {
   "cell_type": "code",
   "execution_count": null,
   "metadata": {},
   "outputs": [],
   "source": []
  },
  {
   "cell_type": "code",
   "execution_count": null,
   "metadata": {},
   "outputs": [],
   "source": []
  },
  {
   "cell_type": "code",
   "execution_count": null,
   "metadata": {},
   "outputs": [],
   "source": []
  },
  {
   "cell_type": "code",
   "execution_count": null,
   "metadata": {},
   "outputs": [],
   "source": []
  },
  {
   "cell_type": "code",
   "execution_count": null,
   "metadata": {},
   "outputs": [],
   "source": []
  },
  {
   "cell_type": "code",
   "execution_count": null,
   "metadata": {},
   "outputs": [],
   "source": []
  },
  {
   "cell_type": "code",
   "execution_count": null,
   "metadata": {},
   "outputs": [],
   "source": []
  },
  {
   "cell_type": "code",
   "execution_count": null,
   "metadata": {},
   "outputs": [],
   "source": []
  },
  {
   "cell_type": "code",
   "execution_count": null,
   "metadata": {},
   "outputs": [],
   "source": []
  },
  {
   "cell_type": "code",
   "execution_count": null,
   "metadata": {},
   "outputs": [],
   "source": []
  },
  {
   "cell_type": "code",
   "execution_count": null,
   "metadata": {},
   "outputs": [],
   "source": []
  },
  {
   "cell_type": "code",
   "execution_count": null,
   "metadata": {},
   "outputs": [],
   "source": []
  },
  {
   "cell_type": "code",
   "execution_count": null,
   "metadata": {},
   "outputs": [],
   "source": []
  },
  {
   "cell_type": "code",
   "execution_count": null,
   "metadata": {},
   "outputs": [],
   "source": []
  },
  {
   "cell_type": "code",
   "execution_count": null,
   "metadata": {},
   "outputs": [],
   "source": []
  },
  {
   "cell_type": "code",
   "execution_count": null,
   "metadata": {},
   "outputs": [],
   "source": []
  }
 ],
 "metadata": {
  "accelerator": "GPU",
  "colab": {
   "authorship_tag": "ABX9TyMNG3IJIEMoZUG8OOF8Ayes",
   "gpuType": "T4",
   "include_colab_link": true,
   "provenance": []
  },
  "kernelspec": {
   "display_name": "env",
   "language": "python",
   "name": "python3"
  },
  "language_info": {
   "codemirror_mode": {
    "name": "ipython",
    "version": 3
   },
   "file_extension": ".py",
   "mimetype": "text/x-python",
   "name": "python",
   "nbconvert_exporter": "python",
   "pygments_lexer": "ipython3",
   "version": "3.12.6"
  }
 },
 "nbformat": 4,
 "nbformat_minor": 0
}
