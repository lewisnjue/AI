{
  "nbformat": 4,
  "nbformat_minor": 0,
  "metadata": {
    "colab": {
      "provenance": [],
      "authorship_tag": "ABX9TyPfOqSxMocYTPSUEOvP42ty",
      "include_colab_link": true
    },
    "kernelspec": {
      "name": "python3",
      "display_name": "Python 3"
    },
    "language_info": {
      "name": "python"
    }
  },
  "cells": [
    {
      "cell_type": "markdown",
      "metadata": {
        "id": "view-in-github",
        "colab_type": "text"
      },
      "source": [
        "<a href=\"https://colab.research.google.com/github/lewisnjue/AI/blob/main/computer_vision_and_convolution_neural_network.ipynb\" target=\"_parent\"><img src=\"https://colab.research.google.com/assets/colab-badge.svg\" alt=\"Open In Colab\"/></a>"
      ]
    },
    {
      "cell_type": "markdown",
      "source": [
        "## what is a computer vision problem\n",
        "a computer vision problem invovles developing algorithms and models that enable computer to nterapret, analyze and understand visula dat from the world, such as image and videos. these problems often involves taks that mimic human visua perception and processing .\n",
        "\n",
        "#### common computer vison problems\n",
        "\n",
        "* image classificaion\n",
        "* object detection\n",
        "* segmentaion\n",
        "* image generation\n",
        "* facial recognition\n",
        "* object tracking\n",
        "* pose estimatin\n",
        "* optical character recognition\n",
        "* image restoration\n",
        "* actin recognition\n",
        "* anomaly detection in visual data\n",
        "and many more\n",
        "\n",
        "\n",
        "### inputs and outputs of a computer vision problem\n",
        "\n",
        "it depends on the specific task being solved\n",
        "\n",
        "inputs :\n",
        "image data:\n",
        "  - single image\n",
        "  - image sequences ( videos)\n",
        "  - 3D data\n",
        "metadata\n",
        "pre labled data\n",
        "\n",
        "\n",
        "outputs:\n",
        "\n",
        "the output are task specific and represetn the desired interpretaio or decsion based on the input data . common outputs include:\n",
        "\n",
        "1. for image classficaion:\n",
        "  - a single lable ( eg cat) or multiple lables\n",
        "2. for object detection:\n",
        "  - bounding boxes : coordinates aroud detected objects\n",
        "  - class lables: lable for each detected object\n",
        "  - confidence scores: a probability indicating the certaintly of the detection\n",
        "\n",
        "3. for image segmentaion:\n",
        "  - semantic segmetnation: a mask where each pixel has a class lable( eg sky )\n",
        "  - instance segmentaion: a mask for each object intance , separitng ovelapping objects\n",
        "and many more\n",
        "\n",
        "these mappings ensure computers can precess visual inforation and return actinable insights\n",
        "\n",
        "\n",
        "in computer vsion ( and deep learning in general) , batch size refers to the number of samples ( images in the case of coputer vision ) processed together in one forward and backward pass through the neural network . it plays a critical rele in traing deep learingmodels and influences several spacests of the process:\n",
        "\n",
        "\n",
        "key points about batch_size:\n",
        "\n",
        "1. fowrad pass and backward pass:\n",
        "  - during the forward pass, the neural network computers predictions for all image in the batch.\n",
        "  - in the backward pass , gradietns are computed for the loss assocaited with the batch and used to update model parametes.\n",
        "2. memory usage:\n",
        "  - larger batches require more memory ( GPU/ CPU RAM ) as they model needs to hlod intermediate comutations and gradients for all images in the batch.\n",
        "3. traing stability:\n",
        "  - small batch sizes: thse often result in noisier gradient updates but can generalize better . they allow the model to train with less memory makign it easir to handle larger modles or datasets.\n",
        "  - large batch sizers: these provide more stable gradient updates as they average the gradients over more samples . however they may rqurie more computational resources.\n",
        "\n",
        "4. train speed:\n",
        "  - larger batch sizers often result in faster traning per epoch since more samples are processed simultainesouly\n",
        "  - smaller batch sizes might take longer per epoch but can provide quicker model convergence due to noiseir graidents.\n",
        "5. common batch sizes:\n",
        "  - powers of 2 eg 16, 32 etc\n",
        "  - the choice often depends on the available computational resources , model size and dataset size.\n",
        "  "
      ],
      "metadata": {
        "id": "PW2guyZag0o9"
      }
    },
    {
      "cell_type": "markdown",
      "source": [],
      "metadata": {
        "id": "VYKJCNiSfyBy"
      }
    },
    {
      "cell_type": "markdown",
      "source": [
        "# computer vision libaries in pytorch\n",
        "\n",
        "* `torchvision` base domain\n",
        "* torchvisio.datasets - get datasets and data loaidng for computer vison here\n",
        "* `torchvision.models` - get pretrained coputer vision models that you can revelrage foryour own problem\n",
        "* `torhcvision.trafnorm ` fountion for manipulaint your vision data ( images) to be suitable for use with an ML model\n",
        "\n",
        "* `torch.utils.data.Dataset` - base datasets class for pytorch\n",
        "* ` torhc.utils.data.DataLoader` - create a pytorhc iterable over a dataset\n"
      ],
      "metadata": {
        "id": "RWfLu2K5Vomq"
      }
    },
    {
      "cell_type": "code",
      "source": [
        "# import pytorch\n",
        "import torch\n",
        "from torch import nn\n",
        "#import torch vision\n",
        "import torchvision\n",
        "from torchvision import datasets\n",
        "from torchvision.transforms import ToTensor\n",
        "from torchvision.transforms import ToPILImage\n",
        "from torchvision.transforms import transforms\n",
        "\n",
        "# import matplotlib for visualizaion\n",
        "import matplotlib.pyplot as plt\n",
        "\n",
        "# check version\n",
        "print(torch.__version__)\n",
        "print(torchvision.__version__)\n",
        "\n",
        "\n"
      ],
      "metadata": {
        "colab": {
          "base_uri": "https://localhost:8080/"
        },
        "id": "3A6NJbjpWsog",
        "outputId": "e8cff78e-2a96-452e-b205-cca783910ac3"
      },
      "execution_count": 1,
      "outputs": [
        {
          "output_type": "stream",
          "name": "stdout",
          "text": [
            "2.5.1+cu121\n",
            "0.20.1+cu121\n"
          ]
        }
      ]
    },
    {
      "cell_type": "markdown",
      "source": [
        "### getting the datasets\n",
        "\n",
        "\n",
        "FashionNMIST is the dataset we are going to use\n"
      ],
      "metadata": {
        "id": "H7MukZSNXiFy"
      }
    },
    {
      "cell_type": "code",
      "source": [
        "# setup traing data\n",
        "train_data = datasets.FashionMNIST(\n",
        "    root=\"data\",# where to download dat to\n",
        "    train=True,# do we want the traing dataset\n",
        "    download=True, # do we want to download it ?\n",
        "    transform=ToTensor(), # what do we want to tranform our image\n",
        "    target_transform=None # do we want to tranform the labes / targets?\n",
        ")\n",
        "\n",
        "test_data = datasets.FashionMNIST(\n",
        "    root=\"data\",\n",
        "    train=False,\n",
        "    download=True,\n",
        "    transform=ToTensor(),\n",
        "    target_transform=None\n",
        ")\n"
      ],
      "metadata": {
        "colab": {
          "base_uri": "https://localhost:8080/"
        },
        "id": "Pq4KkpbTXg8C",
        "outputId": "7fd18d13-f19f-4a99-db3d-6aa27f5ebee5"
      },
      "execution_count": 2,
      "outputs": [
        {
          "output_type": "stream",
          "name": "stdout",
          "text": [
            "Downloading http://fashion-mnist.s3-website.eu-central-1.amazonaws.com/train-images-idx3-ubyte.gz\n",
            "Downloading http://fashion-mnist.s3-website.eu-central-1.amazonaws.com/train-images-idx3-ubyte.gz to data/FashionMNIST/raw/train-images-idx3-ubyte.gz\n"
          ]
        },
        {
          "output_type": "stream",
          "name": "stderr",
          "text": [
            "100%|██████████| 26.4M/26.4M [00:01<00:00, 13.4MB/s]\n"
          ]
        },
        {
          "output_type": "stream",
          "name": "stdout",
          "text": [
            "Extracting data/FashionMNIST/raw/train-images-idx3-ubyte.gz to data/FashionMNIST/raw\n",
            "\n",
            "Downloading http://fashion-mnist.s3-website.eu-central-1.amazonaws.com/train-labels-idx1-ubyte.gz\n",
            "Downloading http://fashion-mnist.s3-website.eu-central-1.amazonaws.com/train-labels-idx1-ubyte.gz to data/FashionMNIST/raw/train-labels-idx1-ubyte.gz\n"
          ]
        },
        {
          "output_type": "stream",
          "name": "stderr",
          "text": [
            "100%|██████████| 29.5k/29.5k [00:00<00:00, 213kB/s]\n"
          ]
        },
        {
          "output_type": "stream",
          "name": "stdout",
          "text": [
            "Extracting data/FashionMNIST/raw/train-labels-idx1-ubyte.gz to data/FashionMNIST/raw\n",
            "\n",
            "Downloading http://fashion-mnist.s3-website.eu-central-1.amazonaws.com/t10k-images-idx3-ubyte.gz\n",
            "Downloading http://fashion-mnist.s3-website.eu-central-1.amazonaws.com/t10k-images-idx3-ubyte.gz to data/FashionMNIST/raw/t10k-images-idx3-ubyte.gz\n"
          ]
        },
        {
          "output_type": "stream",
          "name": "stderr",
          "text": [
            "100%|██████████| 4.42M/4.42M [00:01<00:00, 3.46MB/s]\n"
          ]
        },
        {
          "output_type": "stream",
          "name": "stdout",
          "text": [
            "Extracting data/FashionMNIST/raw/t10k-images-idx3-ubyte.gz to data/FashionMNIST/raw\n",
            "\n",
            "Downloading http://fashion-mnist.s3-website.eu-central-1.amazonaws.com/t10k-labels-idx1-ubyte.gz\n",
            "Downloading http://fashion-mnist.s3-website.eu-central-1.amazonaws.com/t10k-labels-idx1-ubyte.gz to data/FashionMNIST/raw/t10k-labels-idx1-ubyte.gz\n"
          ]
        },
        {
          "output_type": "stream",
          "name": "stderr",
          "text": [
            "100%|██████████| 5.15k/5.15k [00:00<00:00, 9.13MB/s]\n"
          ]
        },
        {
          "output_type": "stream",
          "name": "stdout",
          "text": [
            "Extracting data/FashionMNIST/raw/t10k-labels-idx1-ubyte.gz to data/FashionMNIST/raw\n",
            "\n"
          ]
        }
      ]
    },
    {
      "cell_type": "code",
      "source": [
        "len(train_data), len(test_data)"
      ],
      "metadata": {
        "colab": {
          "base_uri": "https://localhost:8080/"
        },
        "id": "6iZk1f_QZcWs",
        "outputId": "86373a1d-fd9e-47f4-f905-81cfc774d3cd"
      },
      "execution_count": 3,
      "outputs": [
        {
          "output_type": "execute_result",
          "data": {
            "text/plain": [
              "(60000, 10000)"
            ]
          },
          "metadata": {},
          "execution_count": 3
        }
      ]
    },
    {
      "cell_type": "code",
      "source": [
        "# see the first traing example\n",
        "image , label = train_data[0]"
      ],
      "metadata": {
        "id": "Vn4sxJckZtL6"
      },
      "execution_count": 4,
      "outputs": []
    },
    {
      "cell_type": "code",
      "source": [
        "image,label"
      ],
      "metadata": {
        "colab": {
          "base_uri": "https://localhost:8080/"
        },
        "id": "hKCX_itsZ4nE",
        "outputId": "4f7578a4-497c-47f9-e4e3-91dea0aee8b1"
      },
      "execution_count": 5,
      "outputs": [
        {
          "output_type": "execute_result",
          "data": {
            "text/plain": [
              "(tensor([[[0.0000, 0.0000, 0.0000, 0.0000, 0.0000, 0.0000, 0.0000, 0.0000,\n",
              "           0.0000, 0.0000, 0.0000, 0.0000, 0.0000, 0.0000, 0.0000, 0.0000,\n",
              "           0.0000, 0.0000, 0.0000, 0.0000, 0.0000, 0.0000, 0.0000, 0.0000,\n",
              "           0.0000, 0.0000, 0.0000, 0.0000],\n",
              "          [0.0000, 0.0000, 0.0000, 0.0000, 0.0000, 0.0000, 0.0000, 0.0000,\n",
              "           0.0000, 0.0000, 0.0000, 0.0000, 0.0000, 0.0000, 0.0000, 0.0000,\n",
              "           0.0000, 0.0000, 0.0000, 0.0000, 0.0000, 0.0000, 0.0000, 0.0000,\n",
              "           0.0000, 0.0000, 0.0000, 0.0000],\n",
              "          [0.0000, 0.0000, 0.0000, 0.0000, 0.0000, 0.0000, 0.0000, 0.0000,\n",
              "           0.0000, 0.0000, 0.0000, 0.0000, 0.0000, 0.0000, 0.0000, 0.0000,\n",
              "           0.0000, 0.0000, 0.0000, 0.0000, 0.0000, 0.0000, 0.0000, 0.0000,\n",
              "           0.0000, 0.0000, 0.0000, 0.0000],\n",
              "          [0.0000, 0.0000, 0.0000, 0.0000, 0.0000, 0.0000, 0.0000, 0.0000,\n",
              "           0.0000, 0.0000, 0.0000, 0.0000, 0.0039, 0.0000, 0.0000, 0.0510,\n",
              "           0.2863, 0.0000, 0.0000, 0.0039, 0.0157, 0.0000, 0.0000, 0.0000,\n",
              "           0.0000, 0.0039, 0.0039, 0.0000],\n",
              "          [0.0000, 0.0000, 0.0000, 0.0000, 0.0000, 0.0000, 0.0000, 0.0000,\n",
              "           0.0000, 0.0000, 0.0000, 0.0000, 0.0118, 0.0000, 0.1412, 0.5333,\n",
              "           0.4980, 0.2431, 0.2118, 0.0000, 0.0000, 0.0000, 0.0039, 0.0118,\n",
              "           0.0157, 0.0000, 0.0000, 0.0118],\n",
              "          [0.0000, 0.0000, 0.0000, 0.0000, 0.0000, 0.0000, 0.0000, 0.0000,\n",
              "           0.0000, 0.0000, 0.0000, 0.0000, 0.0235, 0.0000, 0.4000, 0.8000,\n",
              "           0.6902, 0.5255, 0.5647, 0.4824, 0.0902, 0.0000, 0.0000, 0.0000,\n",
              "           0.0000, 0.0471, 0.0392, 0.0000],\n",
              "          [0.0000, 0.0000, 0.0000, 0.0000, 0.0000, 0.0000, 0.0000, 0.0000,\n",
              "           0.0000, 0.0000, 0.0000, 0.0000, 0.0000, 0.0000, 0.6078, 0.9255,\n",
              "           0.8118, 0.6980, 0.4196, 0.6118, 0.6314, 0.4275, 0.2510, 0.0902,\n",
              "           0.3020, 0.5098, 0.2824, 0.0588],\n",
              "          [0.0000, 0.0000, 0.0000, 0.0000, 0.0000, 0.0000, 0.0000, 0.0000,\n",
              "           0.0000, 0.0000, 0.0000, 0.0039, 0.0000, 0.2706, 0.8118, 0.8745,\n",
              "           0.8549, 0.8471, 0.8471, 0.6392, 0.4980, 0.4745, 0.4784, 0.5725,\n",
              "           0.5529, 0.3451, 0.6745, 0.2588],\n",
              "          [0.0000, 0.0000, 0.0000, 0.0000, 0.0000, 0.0000, 0.0000, 0.0000,\n",
              "           0.0000, 0.0039, 0.0039, 0.0039, 0.0000, 0.7843, 0.9098, 0.9098,\n",
              "           0.9137, 0.8980, 0.8745, 0.8745, 0.8431, 0.8353, 0.6431, 0.4980,\n",
              "           0.4824, 0.7686, 0.8980, 0.0000],\n",
              "          [0.0000, 0.0000, 0.0000, 0.0000, 0.0000, 0.0000, 0.0000, 0.0000,\n",
              "           0.0000, 0.0000, 0.0000, 0.0000, 0.0000, 0.7176, 0.8824, 0.8471,\n",
              "           0.8745, 0.8941, 0.9216, 0.8902, 0.8784, 0.8706, 0.8784, 0.8667,\n",
              "           0.8745, 0.9608, 0.6784, 0.0000],\n",
              "          [0.0000, 0.0000, 0.0000, 0.0000, 0.0000, 0.0000, 0.0000, 0.0000,\n",
              "           0.0000, 0.0000, 0.0000, 0.0000, 0.0000, 0.7569, 0.8941, 0.8549,\n",
              "           0.8353, 0.7765, 0.7059, 0.8314, 0.8235, 0.8275, 0.8353, 0.8745,\n",
              "           0.8627, 0.9529, 0.7922, 0.0000],\n",
              "          [0.0000, 0.0000, 0.0000, 0.0000, 0.0000, 0.0000, 0.0000, 0.0000,\n",
              "           0.0000, 0.0039, 0.0118, 0.0000, 0.0471, 0.8588, 0.8627, 0.8314,\n",
              "           0.8549, 0.7529, 0.6627, 0.8902, 0.8157, 0.8549, 0.8784, 0.8314,\n",
              "           0.8863, 0.7725, 0.8196, 0.2039],\n",
              "          [0.0000, 0.0000, 0.0000, 0.0000, 0.0000, 0.0000, 0.0000, 0.0000,\n",
              "           0.0000, 0.0000, 0.0235, 0.0000, 0.3882, 0.9569, 0.8706, 0.8627,\n",
              "           0.8549, 0.7961, 0.7765, 0.8667, 0.8431, 0.8353, 0.8706, 0.8627,\n",
              "           0.9608, 0.4667, 0.6549, 0.2196],\n",
              "          [0.0000, 0.0000, 0.0000, 0.0000, 0.0000, 0.0000, 0.0000, 0.0000,\n",
              "           0.0000, 0.0157, 0.0000, 0.0000, 0.2157, 0.9255, 0.8941, 0.9020,\n",
              "           0.8941, 0.9412, 0.9098, 0.8353, 0.8549, 0.8745, 0.9176, 0.8510,\n",
              "           0.8510, 0.8196, 0.3608, 0.0000],\n",
              "          [0.0000, 0.0000, 0.0039, 0.0157, 0.0235, 0.0275, 0.0078, 0.0000,\n",
              "           0.0000, 0.0000, 0.0000, 0.0000, 0.9294, 0.8863, 0.8510, 0.8745,\n",
              "           0.8706, 0.8588, 0.8706, 0.8667, 0.8471, 0.8745, 0.8980, 0.8431,\n",
              "           0.8549, 1.0000, 0.3020, 0.0000],\n",
              "          [0.0000, 0.0118, 0.0000, 0.0000, 0.0000, 0.0000, 0.0000, 0.0000,\n",
              "           0.0000, 0.2431, 0.5686, 0.8000, 0.8941, 0.8118, 0.8353, 0.8667,\n",
              "           0.8549, 0.8157, 0.8275, 0.8549, 0.8784, 0.8745, 0.8588, 0.8431,\n",
              "           0.8784, 0.9569, 0.6235, 0.0000],\n",
              "          [0.0000, 0.0000, 0.0000, 0.0000, 0.0706, 0.1725, 0.3216, 0.4196,\n",
              "           0.7412, 0.8941, 0.8627, 0.8706, 0.8510, 0.8863, 0.7843, 0.8039,\n",
              "           0.8275, 0.9020, 0.8784, 0.9176, 0.6902, 0.7373, 0.9804, 0.9725,\n",
              "           0.9137, 0.9333, 0.8431, 0.0000],\n",
              "          [0.0000, 0.2235, 0.7333, 0.8157, 0.8784, 0.8667, 0.8784, 0.8157,\n",
              "           0.8000, 0.8392, 0.8157, 0.8196, 0.7843, 0.6235, 0.9608, 0.7569,\n",
              "           0.8078, 0.8745, 1.0000, 1.0000, 0.8667, 0.9176, 0.8667, 0.8275,\n",
              "           0.8627, 0.9098, 0.9647, 0.0000],\n",
              "          [0.0118, 0.7922, 0.8941, 0.8784, 0.8667, 0.8275, 0.8275, 0.8392,\n",
              "           0.8039, 0.8039, 0.8039, 0.8627, 0.9412, 0.3137, 0.5882, 1.0000,\n",
              "           0.8980, 0.8667, 0.7373, 0.6039, 0.7490, 0.8235, 0.8000, 0.8196,\n",
              "           0.8706, 0.8941, 0.8824, 0.0000],\n",
              "          [0.3843, 0.9137, 0.7765, 0.8235, 0.8706, 0.8980, 0.8980, 0.9176,\n",
              "           0.9765, 0.8627, 0.7608, 0.8431, 0.8510, 0.9451, 0.2549, 0.2863,\n",
              "           0.4157, 0.4588, 0.6588, 0.8588, 0.8667, 0.8431, 0.8510, 0.8745,\n",
              "           0.8745, 0.8784, 0.8980, 0.1137],\n",
              "          [0.2941, 0.8000, 0.8314, 0.8000, 0.7569, 0.8039, 0.8275, 0.8824,\n",
              "           0.8471, 0.7255, 0.7725, 0.8078, 0.7765, 0.8353, 0.9412, 0.7647,\n",
              "           0.8902, 0.9608, 0.9373, 0.8745, 0.8549, 0.8314, 0.8196, 0.8706,\n",
              "           0.8627, 0.8667, 0.9020, 0.2627],\n",
              "          [0.1882, 0.7961, 0.7176, 0.7608, 0.8353, 0.7725, 0.7255, 0.7451,\n",
              "           0.7608, 0.7529, 0.7922, 0.8392, 0.8588, 0.8667, 0.8627, 0.9255,\n",
              "           0.8824, 0.8471, 0.7804, 0.8078, 0.7294, 0.7098, 0.6941, 0.6745,\n",
              "           0.7098, 0.8039, 0.8078, 0.4510],\n",
              "          [0.0000, 0.4784, 0.8588, 0.7569, 0.7020, 0.6706, 0.7176, 0.7686,\n",
              "           0.8000, 0.8235, 0.8353, 0.8118, 0.8275, 0.8235, 0.7843, 0.7686,\n",
              "           0.7608, 0.7490, 0.7647, 0.7490, 0.7765, 0.7529, 0.6902, 0.6118,\n",
              "           0.6549, 0.6941, 0.8235, 0.3608],\n",
              "          [0.0000, 0.0000, 0.2902, 0.7412, 0.8314, 0.7490, 0.6863, 0.6745,\n",
              "           0.6863, 0.7098, 0.7255, 0.7373, 0.7412, 0.7373, 0.7569, 0.7765,\n",
              "           0.8000, 0.8196, 0.8235, 0.8235, 0.8275, 0.7373, 0.7373, 0.7608,\n",
              "           0.7529, 0.8471, 0.6667, 0.0000],\n",
              "          [0.0078, 0.0000, 0.0000, 0.0000, 0.2588, 0.7843, 0.8706, 0.9294,\n",
              "           0.9373, 0.9490, 0.9647, 0.9529, 0.9569, 0.8667, 0.8627, 0.7569,\n",
              "           0.7490, 0.7020, 0.7137, 0.7137, 0.7098, 0.6902, 0.6510, 0.6588,\n",
              "           0.3882, 0.2275, 0.0000, 0.0000],\n",
              "          [0.0000, 0.0000, 0.0000, 0.0000, 0.0000, 0.0000, 0.0000, 0.1569,\n",
              "           0.2392, 0.1725, 0.2824, 0.1608, 0.1373, 0.0000, 0.0000, 0.0000,\n",
              "           0.0000, 0.0000, 0.0000, 0.0000, 0.0000, 0.0000, 0.0000, 0.0000,\n",
              "           0.0000, 0.0000, 0.0000, 0.0000],\n",
              "          [0.0000, 0.0000, 0.0000, 0.0000, 0.0000, 0.0000, 0.0000, 0.0000,\n",
              "           0.0000, 0.0000, 0.0000, 0.0000, 0.0000, 0.0000, 0.0000, 0.0000,\n",
              "           0.0000, 0.0000, 0.0000, 0.0000, 0.0000, 0.0000, 0.0000, 0.0000,\n",
              "           0.0000, 0.0000, 0.0000, 0.0000],\n",
              "          [0.0000, 0.0000, 0.0000, 0.0000, 0.0000, 0.0000, 0.0000, 0.0000,\n",
              "           0.0000, 0.0000, 0.0000, 0.0000, 0.0000, 0.0000, 0.0000, 0.0000,\n",
              "           0.0000, 0.0000, 0.0000, 0.0000, 0.0000, 0.0000, 0.0000, 0.0000,\n",
              "           0.0000, 0.0000, 0.0000, 0.0000]]]),\n",
              " 9)"
            ]
          },
          "metadata": {},
          "execution_count": 5
        }
      ]
    },
    {
      "cell_type": "code",
      "source": [
        "class_names = train_data.classes\n",
        "class_names\n",
        "train_data.classes[label]"
      ],
      "metadata": {
        "colab": {
          "base_uri": "https://localhost:8080/",
          "height": 35
        },
        "id": "iQqFJRvEZ6Et",
        "outputId": "151018c9-75a9-489b-dbe3-396fb2c99209"
      },
      "execution_count": 6,
      "outputs": [
        {
          "output_type": "execute_result",
          "data": {
            "text/plain": [
              "'Ankle boot'"
            ],
            "application/vnd.google.colaboratory.intrinsic+json": {
              "type": "string"
            }
          },
          "metadata": {},
          "execution_count": 6
        }
      ]
    },
    {
      "cell_type": "code",
      "source": [
        "class_to_idx = train_data.class_to_idx\n",
        "class_to_idx"
      ],
      "metadata": {
        "colab": {
          "base_uri": "https://localhost:8080/"
        },
        "id": "Vweqw3ceaPxI",
        "outputId": "174437de-8bd5-4cdb-aeb3-6802184a0bea"
      },
      "execution_count": 7,
      "outputs": [
        {
          "output_type": "execute_result",
          "data": {
            "text/plain": [
              "{'T-shirt/top': 0,\n",
              " 'Trouser': 1,\n",
              " 'Pullover': 2,\n",
              " 'Dress': 3,\n",
              " 'Coat': 4,\n",
              " 'Sandal': 5,\n",
              " 'Shirt': 6,\n",
              " 'Sneaker': 7,\n",
              " 'Bag': 8,\n",
              " 'Ankle boot': 9}"
            ]
          },
          "metadata": {},
          "execution_count": 7
        }
      ]
    },
    {
      "cell_type": "code",
      "source": [
        "train_data.targets"
      ],
      "metadata": {
        "colab": {
          "base_uri": "https://localhost:8080/"
        },
        "id": "WC5v2xp4ahqz",
        "outputId": "750638f7-d57c-4cfb-e166-0652ea9f69ff"
      },
      "execution_count": 8,
      "outputs": [
        {
          "output_type": "execute_result",
          "data": {
            "text/plain": [
              "tensor([9, 0, 0,  ..., 3, 0, 5])"
            ]
          },
          "metadata": {},
          "execution_count": 8
        }
      ]
    },
    {
      "cell_type": "code",
      "source": [
        "# checkthe shape of our images\n",
        "\n",
        "image.shape, label"
      ],
      "metadata": {
        "colab": {
          "base_uri": "https://localhost:8080/"
        },
        "id": "2CiZVn10amjj",
        "outputId": "e6c689d6-d787-4d0e-d541-860f5da50a2d"
      },
      "execution_count": 9,
      "outputs": [
        {
          "output_type": "execute_result",
          "data": {
            "text/plain": [
              "(torch.Size([1, 28, 28]), 9)"
            ]
          },
          "metadata": {},
          "execution_count": 9
        }
      ]
    },
    {
      "cell_type": "markdown",
      "source": [
        "#### visualizing random samples of data"
      ],
      "metadata": {
        "id": "QX9jBMbcbHrB"
      }
    },
    {
      "cell_type": "code",
      "source": [
        "%matplotlib inline"
      ],
      "metadata": {
        "id": "2-DZn0V3asYu"
      },
      "execution_count": 10,
      "outputs": []
    },
    {
      "cell_type": "code",
      "source": [
        "image , label = train_data[0]\n",
        "print(f\"image shape: {image.shape}, label: {label}\")"
      ],
      "metadata": {
        "colab": {
          "base_uri": "https://localhost:8080/"
        },
        "id": "sBgLsf7ybs0R",
        "outputId": "c4cf5609-d64c-43fc-ce37-b4398c2c1bc8"
      },
      "execution_count": 11,
      "outputs": [
        {
          "output_type": "stream",
          "name": "stdout",
          "text": [
            "image shape: torch.Size([1, 28, 28]), label: 9\n"
          ]
        }
      ]
    },
    {
      "cell_type": "code",
      "source": [
        "plt.imshow(image.squeeze())\n",
        "plt.title(train_data.classes[label])\n",
        "plt.show()"
      ],
      "metadata": {
        "colab": {
          "base_uri": "https://localhost:8080/",
          "height": 452
        },
        "id": "z8z9JHqXbx8l",
        "outputId": "8a17f298-f29c-4752-8e8d-92568d823ced"
      },
      "execution_count": 12,
      "outputs": [
        {
          "output_type": "display_data",
          "data": {
            "text/plain": [
              "<Figure size 640x480 with 1 Axes>"
            ],
            "image/png": "[encoded data removed]"
          },
          "metadata": {}
        }
      ]
    },
    {
      "cell_type": "code",
      "source": [
        "plt.imshow(image.squeeze(),cmap=\"gray\")\n",
        "plt.title(train_data.classes[label])\n",
        "plt.axis(False)\n",
        "plt.show()"
      ],
      "metadata": {
        "colab": {
          "base_uri": "https://localhost:8080/",
          "height": 428
        },
        "id": "kJ6c3yExb67d",
        "outputId": "32c0ae8b-f18b-4a8d-fe1d-aa4dc20574b1"
      },
      "execution_count": 13,
      "outputs": [
        {
          "output_type": "display_data",
          "data": {
            "text/plain": [
              "<Figure size 640x480 with 1 Axes>"
            ],
            "image/png": "[encoded data removed]"
          },
          "metadata": {}
        }
      ]
    },
    {
      "cell_type": "code",
      "source": [
        "# plot more images\n",
        "#torch.manual_seed(42)\n",
        "fig = plt.figure(figsize=(9,9))\n",
        "for i in range(9):\n",
        "    random_idx = torch.randint(0,len(train_data),(1,)).item()\n",
        "    image, label = train_data[random_idx]\n",
        "    fig.add_subplot(3,3,i+1)\n",
        "    plt.imshow(image.squeeze(),cmap=\"gray\")\n",
        "    plt.title(train_data.classes[label])\n",
        "    plt.axis(False)\n",
        "plt.show()"
      ],
      "metadata": {
        "colab": {
          "base_uri": "https://localhost:8080/",
          "height": 663
        },
        "id": "iUPAdxF7cTZ0",
        "outputId": "5c093c5c-4d9f-45f3-b954-0f070beba8e4"
      },
      "execution_count": 14,
      "outputs": [
        {
          "output_type": "display_data",
          "data": {
            "text/plain": [
              "<Figure size 900x900 with 9 Axes>"
            ],
            "image/png": "[encoded data removed]"
          },
          "metadata": {}
        }
      ]
    },
    {
      "cell_type": "markdown",
      "source": [
        "### prepare data loader\n",
        "right now , our data is in form of pytorch datasets\n",
        "dataloaser turns our dataset into a pytoython iterable.\n",
        "\n",
        "more specifically , we want to trn our data into batches or mini-batches.\n",
        "why would we do this ?\n",
        "\n",
        "1. it is more computationally efficent , as in your computing hardawre may not be alble to lok ( sotre in memory) at 6000 image in oione hit . so we break it down to 32 images at a tme ( batch size of 32)\n",
        "2. it gives our neural network more chances to update ints gradient per epoch\n"
      ],
      "metadata": {
        "id": "Q_mIMtNAeBfG"
      }
    },
    {
      "cell_type": "code",
      "source": [
        "from torch.utils.data import DataLoader\n",
        "\n",
        "# setup teh batchsize hyperparameter\n",
        "BATCH_SIZE = 32\n",
        "# turn datasets into iterables (batches)\n",
        "\n",
        "train_dataloader = DataLoader(\n",
        "    train_data,\n",
        "    batch_size=BATCH_SIZE,\n",
        "    shuffle=True,\n",
        "    num_workers=1,\n",
        "    pin_memory=True\n",
        ")\n",
        "test_dataloader = DataLoader(\n",
        "    test_data,\n",
        "    batch_size=BATCH_SIZE,\n",
        "    shuffle=False,\n",
        "    num_workers=1,\n",
        "    pin_memory=True\n",
        ")\n"
      ],
      "metadata": {
        "id": "w1j71-rFdQ9T"
      },
      "execution_count": 15,
      "outputs": []
    },
    {
      "cell_type": "code",
      "source": [
        "#lets check out waht weve created\n",
        "print(f\"Dataloader: {train_dataloader}\\nLength: {len(train_dataloader)}\\nType: {type(train_dataloader)}\")\n",
        "print(f\"Dataloader: {test_dataloader}\\nLength: {len(test_dataloader)}\\nType: {type(test_dataloader)}\")\n"
      ],
      "metadata": {
        "colab": {
          "base_uri": "https://localhost:8080/"
        },
        "id": "uYWm6qyQgqzq",
        "outputId": "4e08c6e5-e2ad-4391-baa6-e9b54a78d698"
      },
      "execution_count": 16,
      "outputs": [
        {
          "output_type": "stream",
          "name": "stdout",
          "text": [
            "Dataloader: <torch.utils.data.dataloader.DataLoader object at 0x7906d89730a0>\n",
            "Length: 1875\n",
            "Type: <class 'torch.utils.data.dataloader.DataLoader'>\n",
            "Dataloader: <torch.utils.data.dataloader.DataLoader object at 0x7906d8973b80>\n",
            "Length: 313\n",
            "Type: <class 'torch.utils.data.dataloader.DataLoader'>\n"
          ]
        }
      ]
    },
    {
      "cell_type": "code",
      "source": [
        "# show a sample\n",
        "#torch.manual_seed(42)\n",
        "random_idx = torch.randint(0,len(train_data),(1,)).item()\n",
        "image, label = train_data[random_idx]\n",
        "print(f\"image shape: {image.shape}, label: {label}\")\n",
        "# plot the image\n",
        "plt.imshow(image.squeeze(),cmap=\"gray\")\n",
        "plt.title(train_data.classes[label])\n",
        "plt.axis(False)\n",
        "plt.show()"
      ],
      "metadata": {
        "colab": {
          "base_uri": "https://localhost:8080/",
          "height": 445
        },
        "id": "qGIr4Xdhg6fr",
        "outputId": "2cf013fc-7807-4f79-8f8d-32537edd2347"
      },
      "execution_count": 19,
      "outputs": [
        {
          "output_type": "stream",
          "name": "stdout",
          "text": [
            "image shape: torch.Size([1, 28, 28]), label: 8\n"
          ]
        },
        {
          "output_type": "display_data",
          "data": {
            "text/plain": [
              "<Figure size 640x480 with 1 Axes>"
            ],
            "image/png": "[encoded data removed]"
          },
          "metadata": {}
        }
      ]
    },
    {
      "cell_type": "markdown",
      "source": [
        "## creating a baseline with tow linear layers\n",
        "\n",
        "when staring to build a series of machine leanring modellign exprements , tis best practice to start with a baseline model.\n",
        "\n",
        "in other words  start simply and add complexity when necessary .\n",
        "\n"
      ],
      "metadata": {
        "id": "rk8FZVcYi0Qz"
      }
    },
    {
      "cell_type": "code",
      "source": [
        "# create a flatten layer\n",
        "flatten_layer = nn.Flatten()\n",
        "output = flatten_layer(image)\n",
        "output.shape\n",
        "print(\"output beforflattening\",image.shape)\n",
        "print(\"output afterflattening\",output)"
      ],
      "metadata": {
        "colab": {
          "base_uri": "https://localhost:8080/"
        },
        "id": "5MbKDJHwh1F7",
        "outputId": "6f60929c-6003-455a-bfdd-9b1fd277af05"
      },
      "execution_count": 24,
      "outputs": [
        {
          "output_type": "stream",
          "name": "stdout",
          "text": [
            "output beforflattening torch.Size([1, 28, 28])\n",
            "output afterflattening tensor([[0.0000, 0.0000, 0.0000, 0.0000, 0.0000, 0.0000, 0.0000, 0.0000, 0.0000,\n",
            "         0.0000, 0.0000, 0.0000, 0.0000, 0.0000, 0.0000, 0.0000, 0.0000, 0.0000,\n",
            "         0.0000, 0.0000, 0.0000, 0.0000, 0.0000, 0.0000, 0.0000, 0.0000, 0.0000,\n",
            "         0.0000, 0.0000, 0.0000, 0.0000, 0.0000, 0.0000, 0.0000, 0.0000, 0.0000,\n",
            "         0.0000, 0.0000, 0.0000, 0.0000, 0.0000, 0.0000, 0.0000, 0.0000, 0.0000,\n",
            "         0.0000, 0.0000, 0.0000, 0.0000, 0.0000, 0.0000, 0.0000, 0.0000, 0.0000,\n",
            "         0.0000, 0.0000, 0.0000, 0.0000, 0.0000, 0.0000, 0.0000, 0.0000, 0.0000,\n",
            "         0.0000, 0.0000, 0.0000, 0.0000, 0.0000, 0.0000, 0.0000, 0.0000, 0.0000,\n",
            "         0.0000, 0.0000, 0.0000, 0.0000, 0.0000, 0.0000, 0.0000, 0.0000, 0.0000,\n",
            "         0.0000, 0.0000, 0.0000, 0.0039, 0.0000, 0.0000, 0.0039, 0.0039, 0.0000,\n",
            "         0.0000, 0.0000, 0.0000, 0.0000, 0.0000, 0.0000, 0.0000, 0.0000, 0.0000,\n",
            "         0.0000, 0.0000, 0.0000, 0.0000, 0.0000, 0.0000, 0.0000, 0.0000, 0.0000,\n",
            "         0.0000, 0.0000, 0.0000, 0.0000, 0.0039, 0.0000, 0.0118, 0.0000, 0.0000,\n",
            "         0.1647, 0.1490, 0.1490, 0.1294, 0.1137, 0.1333, 0.1412, 0.1529, 0.1686,\n",
            "         0.1725, 0.1725, 0.1725, 0.1686, 0.1647, 0.1725, 0.1569, 0.1569, 0.1490,\n",
            "         0.1843, 0.1686, 0.2039, 0.0471, 0.0000, 0.0000, 0.0000, 0.0000, 0.0000,\n",
            "         0.2745, 0.5686, 0.4431, 0.3647, 0.5412, 0.4941, 0.4588, 0.4824, 0.4549,\n",
            "         0.4588, 0.4667, 0.4706, 0.4706, 0.4784, 0.4824, 0.4706, 0.4627, 0.4980,\n",
            "         0.5647, 0.4392, 0.4039, 0.5451, 0.3137, 0.0000, 0.0000, 0.0000, 0.0000,\n",
            "         0.5255, 0.4980, 0.5216, 0.1176, 0.1098, 0.3255, 0.5490, 0.4784, 0.4941,\n",
            "         0.5059, 0.4941, 0.4706, 0.4627, 0.4549, 0.4549, 0.4667, 0.4471, 0.4667,\n",
            "         0.4706, 0.4157, 0.0863, 0.0706, 0.4863, 0.5608, 0.0549, 0.0196, 0.0000,\n",
            "         0.7373, 0.3176, 0.3490, 0.6745, 0.5294, 0.6275, 0.5255, 0.5216, 0.7608,\n",
            "         0.5922, 0.6196, 0.6275, 0.6196, 0.6078, 0.5961, 0.5922, 0.5922, 0.6431,\n",
            "         0.6549, 0.5294, 0.5922, 0.6510, 0.6471, 0.6353, 0.6588, 0.2000, 0.0000,\n",
            "         0.2510, 0.8275, 0.0000, 0.6627, 0.6902, 0.6667, 0.7098, 0.7529, 0.3059,\n",
            "         0.5804, 0.8078, 0.6549, 0.6471, 0.6353, 0.6471, 0.6510, 0.6588, 0.7059,\n",
            "         0.6353, 0.4941, 0.4784, 0.6941, 0.7176, 0.7059, 0.6863, 0.7255, 0.1804,\n",
            "         0.0000, 0.6314, 0.2510, 0.0000, 0.7804, 0.6863, 0.6667, 0.6588, 0.7725,\n",
            "         0.6941, 0.2039, 0.5451, 0.7059, 0.7333, 0.7333, 0.7137, 0.7176, 0.6000,\n",
            "         0.5686, 0.5137, 0.4275, 0.5529, 0.7922, 0.6471, 0.6745, 0.6706, 0.8745,\n",
            "         0.1451, 0.0667, 0.9373, 0.0000, 0.0000, 0.8157, 0.6824, 0.6824, 0.6941,\n",
            "         0.6471, 0.8471, 0.5529, 0.3686, 0.2863, 0.4980, 0.3647, 0.4627, 0.3882,\n",
            "         0.6902, 0.4588, 0.5843, 0.5020, 0.9020, 0.6431, 0.6824, 0.6863, 0.6784,\n",
            "         0.8118, 0.4471, 0.4353, 0.6510, 0.0000, 0.0039, 0.8431, 0.6824, 0.6824,\n",
            "         0.6902, 0.6549, 0.7098, 0.8157, 0.4588, 0.4471, 0.6157, 0.2980, 1.0000,\n",
            "         0.3686, 0.6039, 0.4353, 0.4627, 0.8549, 0.7137, 0.6706, 0.6824, 0.7020,\n",
            "         0.6627, 0.8000, 0.6157, 0.5647, 0.2784, 0.0000, 0.0000, 0.6863, 0.6706,\n",
            "         0.6824, 0.6902, 0.6863, 0.7059, 0.7529, 0.8549, 0.5843, 0.4667, 0.3490,\n",
            "         0.4784, 0.4157, 0.5569, 0.7137, 0.9255, 0.7059, 0.6745, 0.6941, 0.6941,\n",
            "         0.6941, 0.6824, 0.7608, 0.5922, 0.6510, 0.1294, 0.0000, 0.0118, 0.6902,\n",
            "         0.6706, 0.6824, 0.6863, 0.6902, 0.6941, 0.7294, 0.7451, 0.8196, 0.8549,\n",
            "         0.8000, 0.6392, 0.8118, 0.8980, 0.8196, 0.6745, 0.6902, 0.6863, 0.7059,\n",
            "         0.6941, 0.6980, 0.6863, 0.7725, 0.5882, 0.6667, 0.0902, 0.0000, 0.1137,\n",
            "         0.7020, 0.6667, 0.6824, 0.6824, 0.6902, 0.6902, 0.7098, 0.7373, 0.7333,\n",
            "         0.7451, 0.7529, 0.7843, 0.7569, 0.6902, 0.7137, 0.6941, 0.6980, 0.6980,\n",
            "         0.6863, 0.6941, 0.6941, 0.6902, 0.7686, 0.5647, 0.6353, 0.0941, 0.0000,\n",
            "         0.1490, 0.7020, 0.6627, 0.6784, 0.6824, 0.6824, 0.6980, 0.6941, 0.7216,\n",
            "         0.7216, 0.7294, 0.7294, 0.7176, 0.7373, 0.7059, 0.6863, 0.7098, 0.6863,\n",
            "         0.6902, 0.6980, 0.6863, 0.6902, 0.6863, 0.7608, 0.5412, 0.5843, 0.0745,\n",
            "         0.0000, 0.1686, 0.7098, 0.6510, 0.6824, 0.6706, 0.6745, 0.6941, 0.7137,\n",
            "         0.6941, 0.6980, 0.7294, 0.6941, 0.6902, 0.6980, 0.6902, 0.6902, 0.6941,\n",
            "         0.6745, 0.6667, 0.6745, 0.6824, 0.6863, 0.6706, 0.7529, 0.5569, 0.4784,\n",
            "         0.4745, 0.0000, 0.1529, 0.7059, 0.6510, 0.6706, 0.6784, 0.6824, 0.6824,\n",
            "         0.6863, 0.6941, 0.6980, 0.6824, 0.7333, 0.7647, 0.7647, 0.6745, 0.6706,\n",
            "         0.6706, 0.6667, 0.6706, 0.6667, 0.6627, 0.6784, 0.6510, 0.7373, 0.5569,\n",
            "         0.2941, 0.8941, 0.0000, 0.0980, 0.8235, 0.6510, 0.6824, 0.6588, 0.6706,\n",
            "         0.6824, 0.6863, 0.6902, 0.6745, 0.7608, 0.7255, 0.6784, 0.6549, 0.7490,\n",
            "         0.6863, 0.6353, 0.6392, 0.6392, 0.6392, 0.6392, 0.6510, 0.6235, 0.7333,\n",
            "         0.5294, 0.0000, 0.7137, 0.2275, 0.0000, 0.8392, 0.6706, 0.6784, 0.6627,\n",
            "         0.7020, 0.6863, 0.6863, 0.6902, 0.6588, 0.8353, 0.1882, 0.0000, 0.0000,\n",
            "         0.4863, 0.7686, 0.6000, 0.6196, 0.6078, 0.6275, 0.6275, 0.6392, 0.6353,\n",
            "         0.7020, 0.4745, 0.0000, 0.1765, 0.6157, 0.0000, 0.5412, 0.7216, 0.6510,\n",
            "         0.6824, 0.6863, 0.6902, 0.6902, 0.6902, 0.6667, 0.8627, 0.0745, 0.0157,\n",
            "         0.0000, 0.4314, 0.7922, 0.5882, 0.6314, 0.6353, 0.6392, 0.6510, 0.6353,\n",
            "         0.6314, 0.7098, 0.2392, 0.0039, 0.0000, 0.5529, 0.6980, 0.6863, 0.7490,\n",
            "         0.7294, 0.7137, 0.7216, 0.7137, 0.7020, 0.6902, 0.6863, 0.7412, 0.3490,\n",
            "         0.1922, 0.1725, 0.4745, 0.6588, 0.6157, 0.6235, 0.6392, 0.6431, 0.6314,\n",
            "         0.6510, 0.7451, 0.6667, 0.0000, 0.0196, 0.0000, 0.3373, 0.7686, 0.6392,\n",
            "         0.6588, 0.7373, 0.7412, 0.7176, 0.7216, 0.7216, 0.7255, 0.7294, 0.6902,\n",
            "         0.7725, 0.8235, 0.7882, 0.7451, 0.7059, 0.7137, 0.7216, 0.7216, 0.7333,\n",
            "         0.7412, 0.7059, 0.5020, 0.0039, 0.0000, 0.0157, 0.0000, 0.2627, 0.6314,\n",
            "         0.6314, 0.6118, 0.7098, 0.7569, 0.7922, 0.8000, 0.8275, 0.7529, 0.7647,\n",
            "         0.7176, 0.5412, 0.5255, 0.4784, 0.4863, 0.4863, 0.5451, 0.5098, 0.4902,\n",
            "         0.3922, 0.2314, 0.0549, 0.0000, 0.0000, 0.0039, 0.0000, 0.0000, 0.0000,\n",
            "         0.0039, 0.1255, 0.1490, 0.2078, 0.2471, 0.2902, 0.2980, 0.3020, 0.2863,\n",
            "         0.2902, 0.1765, 0.0000, 0.0000, 0.0000, 0.0000, 0.0000, 0.0000, 0.0000,\n",
            "         0.0000, 0.0000, 0.0000, 0.0000, 0.0078, 0.0078, 0.0000, 0.0000, 0.0000,\n",
            "         0.0000, 0.0000, 0.0000, 0.0000, 0.0000, 0.0000, 0.0000, 0.0000, 0.0000,\n",
            "         0.0000, 0.0000, 0.0000, 0.0000, 0.0000, 0.0000, 0.0000, 0.0000, 0.0000,\n",
            "         0.0000, 0.0000, 0.0000, 0.0000, 0.0000, 0.0000, 0.0000, 0.0000, 0.0000,\n",
            "         0.0000, 0.0000, 0.0000, 0.0000, 0.0000, 0.0000, 0.0000, 0.0000, 0.0000,\n",
            "         0.0000, 0.0000, 0.0000, 0.0000, 0.0000, 0.0000, 0.0000, 0.0000, 0.0000,\n",
            "         0.0000, 0.0000, 0.0000, 0.0000, 0.0000, 0.0000, 0.0000, 0.0000, 0.0000,\n",
            "         0.0000, 0.0000, 0.0000, 0.0000, 0.0000, 0.0000, 0.0000, 0.0000, 0.0000,\n",
            "         0.0000, 0.0000, 0.0000, 0.0000, 0.0000, 0.0000, 0.0000, 0.0000, 0.0000,\n",
            "         0.0000, 0.0000, 0.0000, 0.0000, 0.0000, 0.0000, 0.0000, 0.0000, 0.0000,\n",
            "         0.0000]])\n"
          ]
        }
      ]
    },
    {
      "cell_type": "code",
      "source": [
        "from torch import nn\n",
        "class FashioMNISTModelV0(nn.Module):\n",
        "    def __init__(self,input_shape:int,hidden_units:int,output_shape:int):\n",
        "        super().__init__()\n",
        "        self.layer_stack = nn.Sequential(\n",
        "            nn.Flatten(),\n",
        "            nn.Linear(in_features=input_shape,out_features=hidden_units),\n",
        "            nn.Linear(in_features=hidden_units,out_features=output_shape)\n",
        "        )\n",
        "    def forward(self,x:torch.Tensor):\n",
        "        return self.layer_stack(x)\n",
        "\n",
        "\n",
        ""
      ],
      "metadata": {
        "id": "N0c3i0bNX15Y"
      },
      "execution_count": 25,
      "outputs": []
    },
    {
      "cell_type": "code",
      "source": [
        "torch.manual_seed(42)\n",
        "device = \"cuda\" if torch.cuda.is_available() else \"cpu\"\n",
        "# setup model with input parameters\n",
        "\n",
        "model_0 = FashioMNISTModelV0(\n",
        "    input_shape=28*28,\n",
        "    hidden_units=10,\n",
        "    output_shape=len(class_names) # one for every class\n",
        ")\n",
        "\n",
        "model_0.to(device)\n",
        "model_0"
      ],
      "metadata": {
        "id": "nkbNqp0qZ8lG",
        "outputId": "35a1f787-e068-4d07-fe9c-33d8dcbc77e1",
        "colab": {
          "base_uri": "https://localhost:8080/"
        }
      },
      "execution_count": 26,
      "outputs": [
        {
          "output_type": "execute_result",
          "data": {
            "text/plain": [
              "FashioMNISTModelV0(\n",
              "  (layer_stack): Sequential(\n",
              "    (0): Flatten(start_dim=1, end_dim=-1)\n",
              "    (1): Linear(in_features=784, out_features=10, bias=True)\n",
              "    (2): Linear(in_features=10, out_features=10, bias=True)\n",
              "  )\n",
              ")"
            ]
          },
          "metadata": {},
          "execution_count": 26
        }
      ]
    },
    {
      "cell_type": "code",
      "source": [
        "dummy_x = torch.rand((1,28,28))\n",
        "dummy_x.shape\n",
        "model_0(dummy_x)\n"
      ],
      "metadata": {
        "id": "0RhXHI47aiCs",
        "outputId": "2b61e0da-9717-459c-d2a5-f71b70866823",
        "colab": {
          "base_uri": "https://localhost:8080/"
        }
      },
      "execution_count": 27,
      "outputs": [
        {
          "output_type": "execute_result",
          "data": {
            "text/plain": [
              "tensor([[-0.0315,  0.3171,  0.0531, -0.2525,  0.5959,  0.2112,  0.3233,  0.2694,\n",
              "         -0.1004,  0.0157]], grad_fn=<AddmmBackward0>)"
            ]
          },
          "metadata": {},
          "execution_count": 27
        }
      ]
    },
    {
      "cell_type": "markdown",
      "source": [
        "### setyp loss optimzer and evaluation metrics\n",
        "\n",
        "* loss function - snce were working with multiclass data, our loss funtion will be `nn.CrossEntropyLoss()`\n",
        "* optimizer -our optimzer `torch.optim.SGD`\n",
        "* evaluteion metric - since were workign on a classifcion broblem we are going to use accurary score\n",
        "\n"
      ],
      "metadata": {
        "id": "79xYaIgAbrhG"
      }
    },
    {
      "cell_type": "code",
      "source": [
        "\n",
        "import requests\n",
        "from pathlib import Path\n",
        "\n",
        "# Download helper functions from Learn PyTorch repo\n",
        "if Path(\"helper_functions.py\").is_file():\n",
        "  print(\"helper_functions.py already exists, skipping download...\")\n",
        "else:\n",
        "  print(\"Downloading helper_functions.py\")\n",
        "  request = requests.get(\"https://raw.githubusercontent.com/mrdbourke/pytorch-deep-learning/main/helper_functions.py\")\n",
        "  with open(\"helper_functions.py\", \"wb\") as f:\n",
        "    f.write(request.content)\n",
        ""
      ],
      "metadata": {
        "id": "cQfNEU4XayED",
        "outputId": "d4c30803-36b4-42d9-aef0-d786a69e94e2",
        "colab": {
          "base_uri": "https://localhost:8080/"
        }
      },
      "execution_count": 29,
      "outputs": [
        {
          "output_type": "stream",
          "name": "stdout",
          "text": [
            "Downloading helper_functions.py\n"
          ]
        }
      ]
    },
    {
      "cell_type": "code",
      "source": [
        "# import accurary matric\n",
        "from helper_functions import accuracy_fn\n",
        "\n",
        "# setup loss funtion and optimzer\n",
        "loss_fn = nn.CrossEntropyLoss()\n",
        "\n",
        "optimizer = torch.optim.SGD(params=model_0.parameters(),lr=0.1)\n",
        "\n"
      ],
      "metadata": {
        "id": "TT367fMvc5xF"
      },
      "execution_count": 31,
      "outputs": []
    },
    {
      "cell_type": "markdown",
      "source": [
        "### creating a funtion to time our expreriments\n",
        "machine learning is very exprimental\n",
        "model perforamce( loss and accuracy values) and hos fat it runs\n"
      ],
      "metadata": {
        "id": "gw-rzbjbgGpy"
      }
    },
    {
      "cell_type": "code",
      "source": [
        "from timeit import default_timer as timer\n",
        "from tqdm.auto import tqdm\n",
        "\n",
        "def print_train_time(start: float, end: float, device: torch.device = None):\n",
        "    \"\"\"Prints difference between start and end time.\n",
        "\n",
        "    Args:\n",
        "    start (float): Start time of computation (preferred in timeit format).\n",
        "    end (float): End time of computation.\n",
        "    device ([type], optional): Device that compute is running on. Defaults to None.\n",
        "\n",
        "    If device is None, use \"CPU\".\n",
        "    \"\"\"\n",
        "    total_time = end - start\n",
        "    print(f\"Train time on {device}: {total_time:.3f} seconds\")\n",
        "    return total_time\n",
        ""
      ],
      "metadata": {
        "id": "Y8DI_6_jfa_Z"
      },
      "execution_count": 32,
      "outputs": []
    },
    {
      "cell_type": "code",
      "source": [],
      "metadata": {
        "id": "jvh4ENgEhCb6"
      },
      "execution_count": null,
      "outputs": []
    }
  ]
}