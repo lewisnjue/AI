{
  "nbformat": 4,
  "nbformat_minor": 0,
  "metadata": {
    "colab": {
      "provenance": [],
      "gpuType": "T4",
      "authorship_tag": "ABX9TyMG+2XA1pYoT35RFkvxWlKZ",
      "include_colab_link": true
    },
    "kernelspec": {
      "name": "python3",
      "display_name": "Python 3"
    },
    "language_info": {
      "name": "python"
    },
    "accelerator": "GPU",
    "widgets": {
      "application/vnd.jupyter.widget-state+json": {
        "eb97107b353a4ba3b0da8978763b6ac9": {
          "model_module": "@jupyter-widgets/controls",
          "model_name": "HBoxModel",
          "model_module_version": "1.5.0",
          "state": {
            "_dom_classes": [],
            "_model_module": "@jupyter-widgets/controls",
            "_model_module_version": "1.5.0",
            "_model_name": "HBoxModel",
            "_view_count": null,
            "_view_module": "@jupyter-widgets/controls",
            "_view_module_version": "1.5.0",
            "_view_name": "HBoxView",
            "box_style": "",
            "children": [
              "IPY_MODEL_62237c013a6d48e985c2d77a85ec8d3d",
              "IPY_MODEL_ee5f460e16424096b68197781de12e2d",
              "IPY_MODEL_44d2b26a0f484ca0a92cd49b846ee476"
            ],
            "layout": "IPY_MODEL_de1c4d0aae2147b8a2665e3270d5838d"
          }
        },
        "62237c013a6d48e985c2d77a85ec8d3d": {
          "model_module": "@jupyter-widgets/controls",
          "model_name": "HTMLModel",
          "model_module_version": "1.5.0",
          "state": {
            "_dom_classes": [],
            "_model_module": "@jupyter-widgets/controls",
            "_model_module_version": "1.5.0",
            "_model_name": "HTMLModel",
            "_view_count": null,
            "_view_module": "@jupyter-widgets/controls",
            "_view_module_version": "1.5.0",
            "_view_name": "HTMLView",
            "description": "",
            "description_tooltip": null,
            "layout": "IPY_MODEL_1d443f1e7fb64400a5df914fc84e4ced",
            "placeholder": "​",
            "style": "IPY_MODEL_3541035076354eddbb4fb4e083381274",
            "value": "100%"
          }
        },
        "ee5f460e16424096b68197781de12e2d": {
          "model_module": "@jupyter-widgets/controls",
          "model_name": "FloatProgressModel",
          "model_module_version": "1.5.0",
          "state": {
            "_dom_classes": [],
            "_model_module": "@jupyter-widgets/controls",
            "_model_module_version": "1.5.0",
            "_model_name": "FloatProgressModel",
            "_view_count": null,
            "_view_module": "@jupyter-widgets/controls",
            "_view_module_version": "1.5.0",
            "_view_name": "ProgressView",
            "bar_style": "success",
            "description": "",
            "description_tooltip": null,
            "layout": "IPY_MODEL_5605e019b7f543d39e970610f3c7d9d9",
            "max": 3,
            "min": 0,
            "orientation": "horizontal",
            "style": "IPY_MODEL_6d84579d35b044ca884caacabbe4ae41",
            "value": 3
          }
        },
        "44d2b26a0f484ca0a92cd49b846ee476": {
          "model_module": "@jupyter-widgets/controls",
          "model_name": "HTMLModel",
          "model_module_version": "1.5.0",
          "state": {
            "_dom_classes": [],
            "_model_module": "@jupyter-widgets/controls",
            "_model_module_version": "1.5.0",
            "_model_name": "HTMLModel",
            "_view_count": null,
            "_view_module": "@jupyter-widgets/controls",
            "_view_module_version": "1.5.0",
            "_view_name": "HTMLView",
            "description": "",
            "description_tooltip": null,
            "layout": "IPY_MODEL_017cdef75e254c81b1e7808a8b14b84d",
            "placeholder": "​",
            "style": "IPY_MODEL_469e38b61a434ac6b7ed09ba1e83ea2c",
            "value": " 3/3 [00:44&lt;00:00, 14.79s/it]"
          }
        },
        "de1c4d0aae2147b8a2665e3270d5838d": {
          "model_module": "@jupyter-widgets/base",
          "model_name": "LayoutModel",
          "model_module_version": "1.2.0",
          "state": {
            "_model_module": "@jupyter-widgets/base",
            "_model_module_version": "1.2.0",
            "_model_name": "LayoutModel",
            "_view_count": null,
            "_view_module": "@jupyter-widgets/base",
            "_view_module_version": "1.2.0",
            "_view_name": "LayoutView",
            "align_content": null,
            "align_items": null,
            "align_self": null,
            "border": null,
            "bottom": null,
            "display": null,
            "flex": null,
            "flex_flow": null,
            "grid_area": null,
            "grid_auto_columns": null,
            "grid_auto_flow": null,
            "grid_auto_rows": null,
            "grid_column": null,
            "grid_gap": null,
            "grid_row": null,
            "grid_template_areas": null,
            "grid_template_columns": null,
            "grid_template_rows": null,
            "height": null,
            "justify_content": null,
            "justify_items": null,
            "left": null,
            "margin": null,
            "max_height": null,
            "max_width": null,
            "min_height": null,
            "min_width": null,
            "object_fit": null,
            "object_position": null,
            "order": null,
            "overflow": null,
            "overflow_x": null,
            "overflow_y": null,
            "padding": null,
            "right": null,
            "top": null,
            "visibility": null,
            "width": null
          }
        },
        "1d443f1e7fb64400a5df914fc84e4ced": {
          "model_module": "@jupyter-widgets/base",
          "model_name": "LayoutModel",
          "model_module_version": "1.2.0",
          "state": {
            "_model_module": "@jupyter-widgets/base",
            "_model_module_version": "1.2.0",
            "_model_name": "LayoutModel",
            "_view_count": null,
            "_view_module": "@jupyter-widgets/base",
            "_view_module_version": "1.2.0",
            "_view_name": "LayoutView",
            "align_content": null,
            "align_items": null,
            "align_self": null,
            "border": null,
            "bottom": null,
            "display": null,
            "flex": null,
            "flex_flow": null,
            "grid_area": null,
            "grid_auto_columns": null,
            "grid_auto_flow": null,
            "grid_auto_rows": null,
            "grid_column": null,
            "grid_gap": null,
            "grid_row": null,
            "grid_template_areas": null,
            "grid_template_columns": null,
            "grid_template_rows": null,
            "height": null,
            "justify_content": null,
            "justify_items": null,
            "left": null,
            "margin": null,
            "max_height": null,
            "max_width": null,
            "min_height": null,
            "min_width": null,
            "object_fit": null,
            "object_position": null,
            "order": null,
            "overflow": null,
            "overflow_x": null,
            "overflow_y": null,
            "padding": null,
            "right": null,
            "top": null,
            "visibility": null,
            "width": null
          }
        },
        "3541035076354eddbb4fb4e083381274": {
          "model_module": "@jupyter-widgets/controls",
          "model_name": "DescriptionStyleModel",
          "model_module_version": "1.5.0",
          "state": {
            "_model_module": "@jupyter-widgets/controls",
            "_model_module_version": "1.5.0",
            "_model_name": "DescriptionStyleModel",
            "_view_count": null,
            "_view_module": "@jupyter-widgets/base",
            "_view_module_version": "1.2.0",
            "_view_name": "StyleView",
            "description_width": ""
          }
        },
        "5605e019b7f543d39e970610f3c7d9d9": {
          "model_module": "@jupyter-widgets/base",
          "model_name": "LayoutModel",
          "model_module_version": "1.2.0",
          "state": {
            "_model_module": "@jupyter-widgets/base",
            "_model_module_version": "1.2.0",
            "_model_name": "LayoutModel",
            "_view_count": null,
            "_view_module": "@jupyter-widgets/base",
            "_view_module_version": "1.2.0",
            "_view_name": "LayoutView",
            "align_content": null,
            "align_items": null,
            "align_self": null,
            "border": null,
            "bottom": null,
            "display": null,
            "flex": null,
            "flex_flow": null,
            "grid_area": null,
            "grid_auto_columns": null,
            "grid_auto_flow": null,
            "grid_auto_rows": null,
            "grid_column": null,
            "grid_gap": null,
            "grid_row": null,
            "grid_template_areas": null,
            "grid_template_columns": null,
            "grid_template_rows": null,
            "height": null,
            "justify_content": null,
            "justify_items": null,
            "left": null,
            "margin": null,
            "max_height": null,
            "max_width": null,
            "min_height": null,
            "min_width": null,
            "object_fit": null,
            "object_position": null,
            "order": null,
            "overflow": null,
            "overflow_x": null,
            "overflow_y": null,
            "padding": null,
            "right": null,
            "top": null,
            "visibility": null,
            "width": null
          }
        },
        "6d84579d35b044ca884caacabbe4ae41": {
          "model_module": "@jupyter-widgets/controls",
          "model_name": "ProgressStyleModel",
          "model_module_version": "1.5.0",
          "state": {
            "_model_module": "@jupyter-widgets/controls",
            "_model_module_version": "1.5.0",
            "_model_name": "ProgressStyleModel",
            "_view_count": null,
            "_view_module": "@jupyter-widgets/base",
            "_view_module_version": "1.2.0",
            "_view_name": "StyleView",
            "bar_color": null,
            "description_width": ""
          }
        },
        "017cdef75e254c81b1e7808a8b14b84d": {
          "model_module": "@jupyter-widgets/base",
          "model_name": "LayoutModel",
          "model_module_version": "1.2.0",
          "state": {
            "_model_module": "@jupyter-widgets/base",
            "_model_module_version": "1.2.0",
            "_model_name": "LayoutModel",
            "_view_count": null,
            "_view_module": "@jupyter-widgets/base",
            "_view_module_version": "1.2.0",
            "_view_name": "LayoutView",
            "align_content": null,
            "align_items": null,
            "align_self": null,
            "border": null,
            "bottom": null,
            "display": null,
            "flex": null,
            "flex_flow": null,
            "grid_area": null,
            "grid_auto_columns": null,
            "grid_auto_flow": null,
            "grid_auto_rows": null,
            "grid_column": null,
            "grid_gap": null,
            "grid_row": null,
            "grid_template_areas": null,
            "grid_template_columns": null,
            "grid_template_rows": null,
            "height": null,
            "justify_content": null,
            "justify_items": null,
            "left": null,
            "margin": null,
            "max_height": null,
            "max_width": null,
            "min_height": null,
            "min_width": null,
            "object_fit": null,
            "object_position": null,
            "order": null,
            "overflow": null,
            "overflow_x": null,
            "overflow_y": null,
            "padding": null,
            "right": null,
            "top": null,
            "visibility": null,
            "width": null
          }
        },
        "469e38b61a434ac6b7ed09ba1e83ea2c": {
          "model_module": "@jupyter-widgets/controls",
          "model_name": "DescriptionStyleModel",
          "model_module_version": "1.5.0",
          "state": {
            "_model_module": "@jupyter-widgets/controls",
            "_model_module_version": "1.5.0",
            "_model_name": "DescriptionStyleModel",
            "_view_count": null,
            "_view_module": "@jupyter-widgets/base",
            "_view_module_version": "1.2.0",
            "_view_name": "StyleView",
            "description_width": ""
          }
        }
      }
    }
  },
  "cells": [
    {
      "cell_type": "markdown",
      "metadata": {
        "id": "view-in-github",
        "colab_type": "text"
      },
      "source": [
        "<a href=\"https://colab.research.google.com/github/lewisnjue/AI/blob/main/computer_vision_and_convolution_neural_network.ipynb\" target=\"_parent\"><img src=\"https://colab.research.google.com/assets/colab-badge.svg\" alt=\"Open In Colab\"/></a>"
      ]
    },
    {
      "cell_type": "markdown",
      "source": [
        "## what is a computer vision problem\n",
        "a computer vision problem invovles developing algorithms and models that enable computer to nterapret, analyze and understand visula dat from the world, such as image and videos. these problems often involves taks that mimic human visua perception and processing .\n",
        "\n",
        "#### common computer vison problems\n",
        "\n",
        "* image classificaion\n",
        "* object detection\n",
        "* segmentaion\n",
        "* image generation\n",
        "* facial recognition\n",
        "* object tracking\n",
        "* pose estimatin\n",
        "* optical character recognition\n",
        "* image restoration\n",
        "* actin recognition\n",
        "* anomaly detection in visual data\n",
        "and many more\n",
        "\n",
        "\n",
        "### inputs and outputs of a computer vision problem\n",
        "\n",
        "it depends on the specific task being solved\n",
        "\n",
        "inputs :\n",
        "image data:\n",
        "  - single image\n",
        "  - image sequences ( videos)\n",
        "  - 3D data\n",
        "metadata\n",
        "pre labled data\n",
        "\n",
        "\n",
        "outputs:\n",
        "\n",
        "the output are task specific and represetn the desired interpretaio or decsion based on the input data . common outputs include:\n",
        "\n",
        "1. for image classficaion:\n",
        "  - a single lable ( eg cat) or multiple lables\n",
        "2. for object detection:\n",
        "  - bounding boxes : coordinates aroud detected objects\n",
        "  - class lables: lable for each detected object\n",
        "  - confidence scores: a probability indicating the certaintly of the detection\n",
        "\n",
        "3. for image segmentaion:\n",
        "  - semantic segmetnation: a mask where each pixel has a class lable( eg sky )\n",
        "  - instance segmentaion: a mask for each object intance , separitng ovelapping objects\n",
        "and many more\n",
        "\n",
        "these mappings ensure computers can precess visual inforation and return actinable insights\n",
        "\n",
        "\n",
        "in computer vsion ( and deep learning in general) , batch size refers to the number of samples ( images in the case of coputer vision ) processed together in one forward and backward pass through the neural network . it plays a critical rele in traing deep learingmodels and influences several spacests of the process:\n",
        "\n",
        "\n",
        "key points about batch_size:\n",
        "\n",
        "1. fowrad pass and backward pass:\n",
        "  - during the forward pass, the neural network computers predictions for all image in the batch.\n",
        "  - in the backward pass , gradietns are computed for the loss assocaited with the batch and used to update model parametes.\n",
        "2. memory usage:\n",
        "  - larger batches require more memory ( GPU/ CPU RAM ) as they model needs to hlod intermediate comutations and gradients for all images in the batch.\n",
        "3. traing stability:\n",
        "  - small batch sizes: thse often result in noisier gradient updates but can generalize better . they allow the model to train with less memory makign it easir to handle larger modles or datasets.\n",
        "  - large batch sizers: these provide more stable gradient updates as they average the gradients over more samples . however they may rqurie more computational resources.\n",
        "\n",
        "4. train speed:\n",
        "  - larger batch sizers often result in faster traning per epoch since more samples are processed simultainesouly\n",
        "  - smaller batch sizes might take longer per epoch but can provide quicker model convergence due to noiseir graidents.\n",
        "5. common batch sizes:\n",
        "  - powers of 2 eg 16, 32 etc\n",
        "  - the choice often depends on the available computational resources , model size and dataset size.\n",
        "  "
      ],
      "metadata": {
        "id": "PW2guyZag0o9"
      }
    },
    {
      "cell_type": "markdown",
      "source": [
        "# computer vision libaries in pytorch\n",
        "\n",
        "* `torchvision` base domain\n",
        "* torchvisio.datasets - get datasets and data loaidng for computer vison here\n",
        "* `torchvision.models` - get pretrained coputer vision models that you can revelrage foryour own problem\n",
        "* `torhcvision.trafnorm ` fountion for manipulaint your vision data ( images) to be suitable for use with an ML model\n",
        "\n",
        "* `torch.utils.data.Dataset` - base datasets class for pytorch\n",
        "* ` torhc.utils.data.DataLoader` - create a pytorhc iterable over a dataset\n"
      ],
      "metadata": {
        "id": "RWfLu2K5Vomq"
      }
    },
    {
      "cell_type": "code",
      "source": [
        "# import pytorch\n",
        "import torch\n",
        "from torch import nn\n",
        "#import torch vision\n",
        "import torchvision\n",
        "from torchvision import datasets\n",
        "from torchvision.transforms import ToTensor\n",
        "from torchvision.transforms import ToPILImage\n",
        "from torchvision.transforms import transforms\n",
        "\n",
        "# import matplotlib for visualizaion\n",
        "import matplotlib.pyplot as plt\n",
        "\n",
        "# check version\n",
        "print(torch.__version__)\n",
        "print(torchvision.__version__)\n",
        "device = \"cuda\" if torch.cuda.is_available() else \"cpu\"\n",
        "\n",
        "\n"
      ],
      "metadata": {
        "colab": {
          "base_uri": "https://localhost:8080/"
        },
        "id": "3A6NJbjpWsog",
        "outputId": "9de2c6b6-4e11-4c04-e640-6b15dd231434"
      },
      "execution_count": 117,
      "outputs": [
        {
          "output_type": "stream",
          "name": "stdout",
          "text": [
            "2.5.1+cu121\n",
            "0.20.1+cu121\n"
          ]
        }
      ]
    },
    {
      "cell_type": "markdown",
      "source": [
        "### getting the datasets\n",
        "\n",
        "\n",
        "FashionNMIST is the dataset we are going to use\n"
      ],
      "metadata": {
        "id": "H7MukZSNXiFy"
      }
    },
    {
      "cell_type": "code",
      "source": [
        "# setup traing data\n",
        "train_data = datasets.FashionMNIST(\n",
        "    root=\"data\",# where to download dat to\n",
        "    train=True,# do we want the traing dataset\n",
        "    download=True, # do we want to download it ?\n",
        "    transform=ToTensor(), # what do we want to tranform our image\n",
        "    target_transform=None # do we want to tranform the labes / targets?\n",
        ")\n",
        "\n",
        "test_data = datasets.FashionMNIST(\n",
        "    root=\"data\",\n",
        "    train=False,\n",
        "    download=True,\n",
        "    transform=ToTensor(),\n",
        "    target_transform=None\n",
        ")\n"
      ],
      "metadata": {
        "id": "Pq4KkpbTXg8C"
      },
      "execution_count": 118,
      "outputs": []
    },
    {
      "cell_type": "code",
      "source": [
        "len(train_data), len(test_data)"
      ],
      "metadata": {
        "colab": {
          "base_uri": "https://localhost:8080/"
        },
        "id": "6iZk1f_QZcWs",
        "outputId": "305ab0ea-0fe3-410c-b6d1-eab83eea8006"
      },
      "execution_count": 119,
      "outputs": [
        {
          "output_type": "execute_result",
          "data": {
            "text/plain": [
              "(60000, 10000)"
            ]
          },
          "metadata": {},
          "execution_count": 119
        }
      ]
    },
    {
      "cell_type": "code",
      "source": [
        "# see the first traing example\n",
        "image , label = train_data[0]"
      ],
      "metadata": {
        "id": "Vn4sxJckZtL6"
      },
      "execution_count": 120,
      "outputs": []
    },
    {
      "cell_type": "code",
      "source": [
        "image,label"
      ],
      "metadata": {
        "colab": {
          "base_uri": "https://localhost:8080/"
        },
        "id": "hKCX_itsZ4nE",
        "outputId": "b88f2bc5-2554-4d92-e151-906656fb1874"
      },
      "execution_count": 121,
      "outputs": [
        {
          "output_type": "execute_result",
          "data": {
            "text/plain": [
              "(tensor([[[0.0000, 0.0000, 0.0000, 0.0000, 0.0000, 0.0000, 0.0000, 0.0000,\n",
              "           0.0000, 0.0000, 0.0000, 0.0000, 0.0000, 0.0000, 0.0000, 0.0000,\n",
              "           0.0000, 0.0000, 0.0000, 0.0000, 0.0000, 0.0000, 0.0000, 0.0000,\n",
              "           0.0000, 0.0000, 0.0000, 0.0000],\n",
              "          [0.0000, 0.0000, 0.0000, 0.0000, 0.0000, 0.0000, 0.0000, 0.0000,\n",
              "           0.0000, 0.0000, 0.0000, 0.0000, 0.0000, 0.0000, 0.0000, 0.0000,\n",
              "           0.0000, 0.0000, 0.0000, 0.0000, 0.0000, 0.0000, 0.0000, 0.0000,\n",
              "           0.0000, 0.0000, 0.0000, 0.0000],\n",
              "          [0.0000, 0.0000, 0.0000, 0.0000, 0.0000, 0.0000, 0.0000, 0.0000,\n",
              "           0.0000, 0.0000, 0.0000, 0.0000, 0.0000, 0.0000, 0.0000, 0.0000,\n",
              "           0.0000, 0.0000, 0.0000, 0.0000, 0.0000, 0.0000, 0.0000, 0.0000,\n",
              "           0.0000, 0.0000, 0.0000, 0.0000],\n",
              "          [0.0000, 0.0000, 0.0000, 0.0000, 0.0000, 0.0000, 0.0000, 0.0000,\n",
              "           0.0000, 0.0000, 0.0000, 0.0000, 0.0039, 0.0000, 0.0000, 0.0510,\n",
              "           0.2863, 0.0000, 0.0000, 0.0039, 0.0157, 0.0000, 0.0000, 0.0000,\n",
              "           0.0000, 0.0039, 0.0039, 0.0000],\n",
              "          [0.0000, 0.0000, 0.0000, 0.0000, 0.0000, 0.0000, 0.0000, 0.0000,\n",
              "           0.0000, 0.0000, 0.0000, 0.0000, 0.0118, 0.0000, 0.1412, 0.5333,\n",
              "           0.4980, 0.2431, 0.2118, 0.0000, 0.0000, 0.0000, 0.0039, 0.0118,\n",
              "           0.0157, 0.0000, 0.0000, 0.0118],\n",
              "          [0.0000, 0.0000, 0.0000, 0.0000, 0.0000, 0.0000, 0.0000, 0.0000,\n",
              "           0.0000, 0.0000, 0.0000, 0.0000, 0.0235, 0.0000, 0.4000, 0.8000,\n",
              "           0.6902, 0.5255, 0.5647, 0.4824, 0.0902, 0.0000, 0.0000, 0.0000,\n",
              "           0.0000, 0.0471, 0.0392, 0.0000],\n",
              "          [0.0000, 0.0000, 0.0000, 0.0000, 0.0000, 0.0000, 0.0000, 0.0000,\n",
              "           0.0000, 0.0000, 0.0000, 0.0000, 0.0000, 0.0000, 0.6078, 0.9255,\n",
              "           0.8118, 0.6980, 0.4196, 0.6118, 0.6314, 0.4275, 0.2510, 0.0902,\n",
              "           0.3020, 0.5098, 0.2824, 0.0588],\n",
              "          [0.0000, 0.0000, 0.0000, 0.0000, 0.0000, 0.0000, 0.0000, 0.0000,\n",
              "           0.0000, 0.0000, 0.0000, 0.0039, 0.0000, 0.2706, 0.8118, 0.8745,\n",
              "           0.8549, 0.8471, 0.8471, 0.6392, 0.4980, 0.4745, 0.4784, 0.5725,\n",
              "           0.5529, 0.3451, 0.6745, 0.2588],\n",
              "          [0.0000, 0.0000, 0.0000, 0.0000, 0.0000, 0.0000, 0.0000, 0.0000,\n",
              "           0.0000, 0.0039, 0.0039, 0.0039, 0.0000, 0.7843, 0.9098, 0.9098,\n",
              "           0.9137, 0.8980, 0.8745, 0.8745, 0.8431, 0.8353, 0.6431, 0.4980,\n",
              "           0.4824, 0.7686, 0.8980, 0.0000],\n",
              "          [0.0000, 0.0000, 0.0000, 0.0000, 0.0000, 0.0000, 0.0000, 0.0000,\n",
              "           0.0000, 0.0000, 0.0000, 0.0000, 0.0000, 0.7176, 0.8824, 0.8471,\n",
              "           0.8745, 0.8941, 0.9216, 0.8902, 0.8784, 0.8706, 0.8784, 0.8667,\n",
              "           0.8745, 0.9608, 0.6784, 0.0000],\n",
              "          [0.0000, 0.0000, 0.0000, 0.0000, 0.0000, 0.0000, 0.0000, 0.0000,\n",
              "           0.0000, 0.0000, 0.0000, 0.0000, 0.0000, 0.7569, 0.8941, 0.8549,\n",
              "           0.8353, 0.7765, 0.7059, 0.8314, 0.8235, 0.8275, 0.8353, 0.8745,\n",
              "           0.8627, 0.9529, 0.7922, 0.0000],\n",
              "          [0.0000, 0.0000, 0.0000, 0.0000, 0.0000, 0.0000, 0.0000, 0.0000,\n",
              "           0.0000, 0.0039, 0.0118, 0.0000, 0.0471, 0.8588, 0.8627, 0.8314,\n",
              "           0.8549, 0.7529, 0.6627, 0.8902, 0.8157, 0.8549, 0.8784, 0.8314,\n",
              "           0.8863, 0.7725, 0.8196, 0.2039],\n",
              "          [0.0000, 0.0000, 0.0000, 0.0000, 0.0000, 0.0000, 0.0000, 0.0000,\n",
              "           0.0000, 0.0000, 0.0235, 0.0000, 0.3882, 0.9569, 0.8706, 0.8627,\n",
              "           0.8549, 0.7961, 0.7765, 0.8667, 0.8431, 0.8353, 0.8706, 0.8627,\n",
              "           0.9608, 0.4667, 0.6549, 0.2196],\n",
              "          [0.0000, 0.0000, 0.0000, 0.0000, 0.0000, 0.0000, 0.0000, 0.0000,\n",
              "           0.0000, 0.0157, 0.0000, 0.0000, 0.2157, 0.9255, 0.8941, 0.9020,\n",
              "           0.8941, 0.9412, 0.9098, 0.8353, 0.8549, 0.8745, 0.9176, 0.8510,\n",
              "           0.8510, 0.8196, 0.3608, 0.0000],\n",
              "          [0.0000, 0.0000, 0.0039, 0.0157, 0.0235, 0.0275, 0.0078, 0.0000,\n",
              "           0.0000, 0.0000, 0.0000, 0.0000, 0.9294, 0.8863, 0.8510, 0.8745,\n",
              "           0.8706, 0.8588, 0.8706, 0.8667, 0.8471, 0.8745, 0.8980, 0.8431,\n",
              "           0.8549, 1.0000, 0.3020, 0.0000],\n",
              "          [0.0000, 0.0118, 0.0000, 0.0000, 0.0000, 0.0000, 0.0000, 0.0000,\n",
              "           0.0000, 0.2431, 0.5686, 0.8000, 0.8941, 0.8118, 0.8353, 0.8667,\n",
              "           0.8549, 0.8157, 0.8275, 0.8549, 0.8784, 0.8745, 0.8588, 0.8431,\n",
              "           0.8784, 0.9569, 0.6235, 0.0000],\n",
              "          [0.0000, 0.0000, 0.0000, 0.0000, 0.0706, 0.1725, 0.3216, 0.4196,\n",
              "           0.7412, 0.8941, 0.8627, 0.8706, 0.8510, 0.8863, 0.7843, 0.8039,\n",
              "           0.8275, 0.9020, 0.8784, 0.9176, 0.6902, 0.7373, 0.9804, 0.9725,\n",
              "           0.9137, 0.9333, 0.8431, 0.0000],\n",
              "          [0.0000, 0.2235, 0.7333, 0.8157, 0.8784, 0.8667, 0.8784, 0.8157,\n",
              "           0.8000, 0.8392, 0.8157, 0.8196, 0.7843, 0.6235, 0.9608, 0.7569,\n",
              "           0.8078, 0.8745, 1.0000, 1.0000, 0.8667, 0.9176, 0.8667, 0.8275,\n",
              "           0.8627, 0.9098, 0.9647, 0.0000],\n",
              "          [0.0118, 0.7922, 0.8941, 0.8784, 0.8667, 0.8275, 0.8275, 0.8392,\n",
              "           0.8039, 0.8039, 0.8039, 0.8627, 0.9412, 0.3137, 0.5882, 1.0000,\n",
              "           0.8980, 0.8667, 0.7373, 0.6039, 0.7490, 0.8235, 0.8000, 0.8196,\n",
              "           0.8706, 0.8941, 0.8824, 0.0000],\n",
              "          [0.3843, 0.9137, 0.7765, 0.8235, 0.8706, 0.8980, 0.8980, 0.9176,\n",
              "           0.9765, 0.8627, 0.7608, 0.8431, 0.8510, 0.9451, 0.2549, 0.2863,\n",
              "           0.4157, 0.4588, 0.6588, 0.8588, 0.8667, 0.8431, 0.8510, 0.8745,\n",
              "           0.8745, 0.8784, 0.8980, 0.1137],\n",
              "          [0.2941, 0.8000, 0.8314, 0.8000, 0.7569, 0.8039, 0.8275, 0.8824,\n",
              "           0.8471, 0.7255, 0.7725, 0.8078, 0.7765, 0.8353, 0.9412, 0.7647,\n",
              "           0.8902, 0.9608, 0.9373, 0.8745, 0.8549, 0.8314, 0.8196, 0.8706,\n",
              "           0.8627, 0.8667, 0.9020, 0.2627],\n",
              "          [0.1882, 0.7961, 0.7176, 0.7608, 0.8353, 0.7725, 0.7255, 0.7451,\n",
              "           0.7608, 0.7529, 0.7922, 0.8392, 0.8588, 0.8667, 0.8627, 0.9255,\n",
              "           0.8824, 0.8471, 0.7804, 0.8078, 0.7294, 0.7098, 0.6941, 0.6745,\n",
              "           0.7098, 0.8039, 0.8078, 0.4510],\n",
              "          [0.0000, 0.4784, 0.8588, 0.7569, 0.7020, 0.6706, 0.7176, 0.7686,\n",
              "           0.8000, 0.8235, 0.8353, 0.8118, 0.8275, 0.8235, 0.7843, 0.7686,\n",
              "           0.7608, 0.7490, 0.7647, 0.7490, 0.7765, 0.7529, 0.6902, 0.6118,\n",
              "           0.6549, 0.6941, 0.8235, 0.3608],\n",
              "          [0.0000, 0.0000, 0.2902, 0.7412, 0.8314, 0.7490, 0.6863, 0.6745,\n",
              "           0.6863, 0.7098, 0.7255, 0.7373, 0.7412, 0.7373, 0.7569, 0.7765,\n",
              "           0.8000, 0.8196, 0.8235, 0.8235, 0.8275, 0.7373, 0.7373, 0.7608,\n",
              "           0.7529, 0.8471, 0.6667, 0.0000],\n",
              "          [0.0078, 0.0000, 0.0000, 0.0000, 0.2588, 0.7843, 0.8706, 0.9294,\n",
              "           0.9373, 0.9490, 0.9647, 0.9529, 0.9569, 0.8667, 0.8627, 0.7569,\n",
              "           0.7490, 0.7020, 0.7137, 0.7137, 0.7098, 0.6902, 0.6510, 0.6588,\n",
              "           0.3882, 0.2275, 0.0000, 0.0000],\n",
              "          [0.0000, 0.0000, 0.0000, 0.0000, 0.0000, 0.0000, 0.0000, 0.1569,\n",
              "           0.2392, 0.1725, 0.2824, 0.1608, 0.1373, 0.0000, 0.0000, 0.0000,\n",
              "           0.0000, 0.0000, 0.0000, 0.0000, 0.0000, 0.0000, 0.0000, 0.0000,\n",
              "           0.0000, 0.0000, 0.0000, 0.0000],\n",
              "          [0.0000, 0.0000, 0.0000, 0.0000, 0.0000, 0.0000, 0.0000, 0.0000,\n",
              "           0.0000, 0.0000, 0.0000, 0.0000, 0.0000, 0.0000, 0.0000, 0.0000,\n",
              "           0.0000, 0.0000, 0.0000, 0.0000, 0.0000, 0.0000, 0.0000, 0.0000,\n",
              "           0.0000, 0.0000, 0.0000, 0.0000],\n",
              "          [0.0000, 0.0000, 0.0000, 0.0000, 0.0000, 0.0000, 0.0000, 0.0000,\n",
              "           0.0000, 0.0000, 0.0000, 0.0000, 0.0000, 0.0000, 0.0000, 0.0000,\n",
              "           0.0000, 0.0000, 0.0000, 0.0000, 0.0000, 0.0000, 0.0000, 0.0000,\n",
              "           0.0000, 0.0000, 0.0000, 0.0000]]]),\n",
              " 9)"
            ]
          },
          "metadata": {},
          "execution_count": 121
        }
      ]
    },
    {
      "cell_type": "code",
      "source": [
        "class_names = train_data.classes\n",
        "class_names\n",
        "train_data.classes[label]"
      ],
      "metadata": {
        "colab": {
          "base_uri": "https://localhost:8080/",
          "height": 35
        },
        "id": "iQqFJRvEZ6Et",
        "outputId": "40d76c7c-008e-4c8d-8f70-9ae70ee64532"
      },
      "execution_count": 122,
      "outputs": [
        {
          "output_type": "execute_result",
          "data": {
            "text/plain": [
              "'Ankle boot'"
            ],
            "application/vnd.google.colaboratory.intrinsic+json": {
              "type": "string"
            }
          },
          "metadata": {},
          "execution_count": 122
        }
      ]
    },
    {
      "cell_type": "code",
      "source": [
        "class_to_idx = train_data.class_to_idx\n",
        "class_to_idx"
      ],
      "metadata": {
        "colab": {
          "base_uri": "https://localhost:8080/"
        },
        "id": "Vweqw3ceaPxI",
        "outputId": "6a34c435-6332-49bd-8546-501d670d3902"
      },
      "execution_count": 123,
      "outputs": [
        {
          "output_type": "execute_result",
          "data": {
            "text/plain": [
              "{'T-shirt/top': 0,\n",
              " 'Trouser': 1,\n",
              " 'Pullover': 2,\n",
              " 'Dress': 3,\n",
              " 'Coat': 4,\n",
              " 'Sandal': 5,\n",
              " 'Shirt': 6,\n",
              " 'Sneaker': 7,\n",
              " 'Bag': 8,\n",
              " 'Ankle boot': 9}"
            ]
          },
          "metadata": {},
          "execution_count": 123
        }
      ]
    },
    {
      "cell_type": "code",
      "source": [
        "train_data.targets"
      ],
      "metadata": {
        "colab": {
          "base_uri": "https://localhost:8080/"
        },
        "id": "WC5v2xp4ahqz",
        "outputId": "ac08875a-03e1-4e68-968b-67d6c7eb24b4"
      },
      "execution_count": 124,
      "outputs": [
        {
          "output_type": "execute_result",
          "data": {
            "text/plain": [
              "tensor([9, 0, 0,  ..., 3, 0, 5])"
            ]
          },
          "metadata": {},
          "execution_count": 124
        }
      ]
    },
    {
      "cell_type": "code",
      "source": [
        "# checkthe shape of our images\n",
        "\n",
        "image.shape, label"
      ],
      "metadata": {
        "colab": {
          "base_uri": "https://localhost:8080/"
        },
        "id": "2CiZVn10amjj",
        "outputId": "b351197f-02f7-4d65-a11c-81958d603753"
      },
      "execution_count": 125,
      "outputs": [
        {
          "output_type": "execute_result",
          "data": {
            "text/plain": [
              "(torch.Size([1, 28, 28]), 9)"
            ]
          },
          "metadata": {},
          "execution_count": 125
        }
      ]
    },
    {
      "cell_type": "markdown",
      "source": [
        "#### visualizing random samples of data"
      ],
      "metadata": {
        "id": "QX9jBMbcbHrB"
      }
    },
    {
      "cell_type": "code",
      "source": [
        "%matplotlib inline"
      ],
      "metadata": {
        "id": "2-DZn0V3asYu"
      },
      "execution_count": 126,
      "outputs": []
    },
    {
      "cell_type": "code",
      "source": [
        "image , label = train_data[0]\n",
        "print(f\"image shape: {image.shape}, label: {label}\")"
      ],
      "metadata": {
        "colab": {
          "base_uri": "https://localhost:8080/"
        },
        "id": "sBgLsf7ybs0R",
        "outputId": "f916c24e-2a85-4984-ed2f-221baec56781"
      },
      "execution_count": 127,
      "outputs": [
        {
          "output_type": "stream",
          "name": "stdout",
          "text": [
            "image shape: torch.Size([1, 28, 28]), label: 9\n"
          ]
        }
      ]
    },
    {
      "cell_type": "code",
      "source": [
        "plt.imshow(image.squeeze())\n",
        "plt.title(train_data.classes[label])\n",
        "plt.show()"
      ],
      "metadata": {
        "colab": {
          "base_uri": "https://localhost:8080/",
          "height": 452
        },
        "id": "z8z9JHqXbx8l",
        "outputId": "5574d771-493f-4be7-92e6-40f972ee6075"
      },
      "execution_count": 128,
      "outputs": [
        {
          "output_type": "display_data",
          "data": {
            "text/plain": [
              "<Figure size 640x480 with 1 Axes>"
            ],
            "image/png": "[encoded data removed]"
          },
          "metadata": {}
        }
      ]
    },
    {
      "cell_type": "code",
      "source": [
        "plt.imshow(image.squeeze(),cmap=\"gray\")\n",
        "plt.title(train_data.classes[label])\n",
        "plt.axis(False)\n",
        "plt.show()"
      ],
      "metadata": {
        "colab": {
          "base_uri": "https://localhost:8080/",
          "height": 428
        },
        "id": "kJ6c3yExb67d",
        "outputId": "50399dff-c881-4042-e343-9cb20a8166da"
      },
      "execution_count": 129,
      "outputs": [
        {
          "output_type": "display_data",
          "data": {
            "text/plain": [
              "<Figure size 640x480 with 1 Axes>"
            ],
            "image/png": "[encoded data removed]"
          },
          "metadata": {}
        }
      ]
    },
    {
      "cell_type": "code",
      "source": [
        "# plot more images\n",
        "#torch.manual_seed(42)\n",
        "fig = plt.figure(figsize=(9,9))\n",
        "for i in range(9):\n",
        "    random_idx = torch.randint(0,len(train_data),(1,)).item()\n",
        "    image, label = train_data[random_idx]\n",
        "    fig.add_subplot(3,3,i+1)\n",
        "    plt.imshow(image.squeeze(),cmap=\"gray\")\n",
        "    plt.title(train_data.classes[label])\n",
        "    plt.axis(False)\n",
        "plt.show()"
      ],
      "metadata": {
        "colab": {
          "base_uri": "https://localhost:8080/",
          "height": 663
        },
        "id": "iUPAdxF7cTZ0",
        "outputId": "fec2dabc-ae64-41e3-ea41-26cc3ed5ca95"
      },
      "execution_count": 130,
      "outputs": [
        {
          "output_type": "display_data",
          "data": {
            "text/plain": [
              "<Figure size 900x900 with 9 Axes>"
            ],
            "image/png": "[encoded data removed]"
          },
          "metadata": {}
        }
      ]
    },
    {
      "cell_type": "markdown",
      "source": [
        "### prepare data loader\n",
        "right now , our data is in form of pytorch datasets\n",
        "dataloaser turns our dataset into a pytoython iterable.\n",
        "\n",
        "more specifically , we want to trn our data into batches or mini-batches.\n",
        "why would we do this ?\n",
        "\n",
        "1. it is more computationally efficent , as in your computing hardawre may not be alble to lok ( sotre in memory) at 6000 image in oione hit . so we break it down to 32 images at a tme ( batch size of 32)\n",
        "2. it gives our neural network more chances to update ints gradient per epoch\n"
      ],
      "metadata": {
        "id": "Q_mIMtNAeBfG"
      }
    },
    {
      "cell_type": "code",
      "source": [
        "from torch.utils.data import DataLoader\n",
        "\n",
        "# setup teh batchsize hyperparameter\n",
        "BATCH_SIZE = 32\n",
        "# turn datasets into iterables (batches)\n",
        "\n",
        "train_dataloader = DataLoader(\n",
        "    train_data,\n",
        "    batch_size=BATCH_SIZE,\n",
        "    shuffle=True,\n",
        "    num_workers=1,# numbers of cores to use for this case i have set it to 1\n",
        "    pin_memory=True\n",
        ")\n",
        "test_dataloader = DataLoader(\n",
        "    test_data,\n",
        "    batch_size=BATCH_SIZE,\n",
        "    shuffle=False,\n",
        "    num_workers=1,\n",
        "    pin_memory=True\n",
        ")\n"
      ],
      "metadata": {
        "id": "w1j71-rFdQ9T"
      },
      "execution_count": 131,
      "outputs": []
    },
    {
      "cell_type": "code",
      "source": [
        "#lets check out waht weve created\n",
        "print(f\"Dataloader: {train_dataloader}\\nLength: {len(train_dataloader)}\\nType: {type(train_dataloader)}\")\n",
        "print(f\"Dataloader: {test_dataloader}\\nLength: {len(test_dataloader)}\\nType: {type(test_dataloader)}\")\n"
      ],
      "metadata": {
        "colab": {
          "base_uri": "https://localhost:8080/"
        },
        "id": "uYWm6qyQgqzq",
        "outputId": "3430f022-4a02-4177-d133-652ad77538de"
      },
      "execution_count": 132,
      "outputs": [
        {
          "output_type": "stream",
          "name": "stdout",
          "text": [
            "Dataloader: <torch.utils.data.dataloader.DataLoader object at 0x7d819b4cbcd0>\n",
            "Length: 1875\n",
            "Type: <class 'torch.utils.data.dataloader.DataLoader'>\n",
            "Dataloader: <torch.utils.data.dataloader.DataLoader object at 0x7d819b4cb8e0>\n",
            "Length: 313\n",
            "Type: <class 'torch.utils.data.dataloader.DataLoader'>\n"
          ]
        }
      ]
    },
    {
      "cell_type": "code",
      "source": [
        "# show a sample\n",
        "#torch.manual_seed(42)\n",
        "random_idx = torch.randint(0,len(train_data),(1,)).item()\n",
        "image, label = train_data[random_idx]\n",
        "print(f\"image shape: {image.shape}, label: {label}\")\n",
        "# plot the image\n",
        "plt.imshow(image.squeeze(),cmap=\"gray\")\n",
        "plt.title(train_data.classes[label])\n",
        "plt.axis(False)\n",
        "plt.show()"
      ],
      "metadata": {
        "colab": {
          "base_uri": "https://localhost:8080/",
          "height": 445
        },
        "id": "qGIr4Xdhg6fr",
        "outputId": "3e11f18e-fd56-43c1-f07e-513917fb3d13"
      },
      "execution_count": 133,
      "outputs": [
        {
          "output_type": "stream",
          "name": "stdout",
          "text": [
            "image shape: torch.Size([1, 28, 28]), label: 9\n"
          ]
        },
        {
          "output_type": "display_data",
          "data": {
            "text/plain": [
              "<Figure size 640x480 with 1 Axes>"
            ],
            "image/png": "[encoded data removed]"
          },
          "metadata": {}
        }
      ]
    },
    {
      "cell_type": "markdown",
      "source": [
        "## creating a baseline with tow linear layers\n",
        "\n",
        "when staring to build a series of machine leanring modellign exprements , tis best practice to start with a baseline model.\n",
        "\n",
        "in other words  start simply and add complexity when necessary .\n",
        "\n"
      ],
      "metadata": {
        "id": "rk8FZVcYi0Qz"
      }
    },
    {
      "cell_type": "code",
      "source": [
        "# create a flatten layer\n",
        "flatten_layer = nn.Flatten()\n",
        "output = flatten_layer(image)\n",
        "output.shape\n",
        "print(\"output beforflattening\",image.shape)\n",
        "print(\"output afterflattening\",output)"
      ],
      "metadata": {
        "colab": {
          "base_uri": "https://localhost:8080/"
        },
        "id": "5MbKDJHwh1F7",
        "outputId": "3d44d467-532d-4be6-d7fe-68a184691a8e"
      },
      "execution_count": 134,
      "outputs": [
        {
          "output_type": "stream",
          "name": "stdout",
          "text": [
            "output beforflattening torch.Size([1, 28, 28])\n",
            "output afterflattening tensor([[0.0000, 0.0000, 0.0000, 0.0000, 0.0000, 0.0000, 0.0000, 0.0000, 0.0000,\n",
            "         0.0118, 0.0000, 0.0000, 0.0000, 0.0157, 0.1647, 0.2784, 0.3882, 0.5412,\n",
            "         0.6392, 0.6824, 0.7804, 0.7020, 0.4549, 0.0392, 0.0000, 0.0000, 0.0000,\n",
            "         0.0000, 0.0000, 0.0000, 0.0000, 0.0000, 0.0000, 0.0000, 0.0000, 0.0000,\n",
            "         0.0078, 0.0000, 0.0314, 0.5020, 0.6863, 0.8745, 0.9451, 1.0000, 1.0000,\n",
            "         1.0000, 1.0000, 0.9020, 0.9137, 0.8549, 0.7961, 0.6863, 0.0000, 0.0039,\n",
            "         0.0000, 0.0000, 0.0000, 0.0000, 0.0000, 0.0000, 0.0000, 0.0000, 0.0000,\n",
            "         0.0000, 0.0275, 0.0000, 0.3451, 0.9843, 0.8431, 0.8118, 0.7529, 0.7765,\n",
            "         0.8431, 0.8275, 0.8824, 0.9333, 0.8824, 0.7882, 0.8824, 0.8078, 0.0000,\n",
            "         0.0000, 0.0000, 0.0000, 0.0000, 0.0000, 0.0000, 0.0000, 0.0000, 0.0000,\n",
            "         0.0000, 0.0000, 0.0078, 0.0000, 0.3765, 0.9373, 0.7922, 0.8078, 0.5686,\n",
            "         0.5922, 0.6627, 0.7373, 0.7765, 0.7725, 0.7647, 0.9490, 0.9804, 0.8980,\n",
            "         0.0549, 0.0000, 0.0000, 0.0000, 0.0000, 0.0000, 0.0000, 0.0000, 0.0000,\n",
            "         0.0000, 0.0000, 0.0000, 0.0078, 0.0000, 0.5686, 0.8980, 0.7294, 0.8392,\n",
            "         0.6627, 0.7412, 0.7569, 0.8549, 0.7490, 0.7882, 0.8784, 0.9294, 0.9725,\n",
            "         0.9843, 0.4706, 0.0000, 0.0000, 0.0000, 0.0000, 0.0000, 0.0000, 0.0000,\n",
            "         0.0000, 0.0000, 0.0000, 0.0000, 0.0039, 0.0000, 0.6588, 0.8627, 0.7294,\n",
            "         0.8941, 0.7137, 0.7922, 0.8392, 0.8353, 0.7569, 0.7882, 0.9569, 0.9020,\n",
            "         0.9686, 1.0000, 1.0000, 0.0000, 0.0000, 0.0000, 0.0000, 0.0000, 0.0000,\n",
            "         0.0000, 0.0000, 0.0000, 0.0000, 0.0000, 0.0000, 0.0000, 0.6471, 0.8314,\n",
            "         0.7686, 0.8902, 0.8000, 0.8392, 0.8588, 0.8196, 0.7804, 0.8275, 0.9137,\n",
            "         0.9647, 0.4471, 0.0000, 0.7843, 0.3765, 0.0000, 0.0000, 0.0000, 0.0000,\n",
            "         0.0000, 0.0000, 0.0000, 0.0000, 0.0000, 0.0039, 0.0000, 0.0000, 0.7647,\n",
            "         0.8549, 0.7922, 0.8902, 0.8471, 0.8431, 0.8275, 0.8039, 0.8000, 0.8196,\n",
            "         0.8941, 1.0000, 0.2980, 0.0000, 0.0706, 0.7804, 0.0000, 0.0000, 0.0000,\n",
            "         0.0000, 0.0000, 0.0000, 0.0000, 0.0000, 0.0000, 0.0000, 0.0039, 0.0000,\n",
            "         0.4706, 0.8275, 0.8275, 0.8118, 0.8275, 0.8471, 0.8353, 0.8000, 0.8824,\n",
            "         0.8000, 0.8745, 1.0000, 0.5765, 0.0000, 0.0000, 0.4157, 0.0000, 0.0000,\n",
            "         0.0000, 0.0000, 0.0000, 0.0000, 0.0000, 0.0000, 0.0000, 0.0000, 0.0039,\n",
            "         0.0000, 0.0000, 0.0000, 0.8510, 0.8902, 0.8078, 0.7882, 0.7882, 0.8000,\n",
            "         0.8980, 0.5451, 0.8118, 0.9333, 0.9529, 0.0000, 0.0000, 0.0000, 0.0000,\n",
            "         0.0000, 0.0000, 0.0000, 0.0000, 0.0000, 0.0000, 0.0000, 0.0000, 0.0000,\n",
            "         0.0000, 0.0000, 0.0000, 0.0000, 0.8863, 0.9490, 0.9490, 0.9569, 0.8745,\n",
            "         0.8667, 0.6863, 0.6118, 0.8745, 0.8667, 0.9922, 0.2980, 0.0000, 0.0118,\n",
            "         0.0000, 0.0000, 0.0000, 0.0000, 0.0000, 0.0000, 0.0000, 0.0000, 0.0000,\n",
            "         0.0000, 0.0000, 0.0039, 0.0157, 0.0000, 0.8000, 0.9333, 0.9490, 1.0000,\n",
            "         0.8902, 0.8078, 0.7647, 0.8275, 0.8824, 0.9020, 0.9608, 0.9333, 0.0000,\n",
            "         0.0000, 0.0000, 0.0000, 0.0000, 0.0000, 0.0000, 0.0000, 0.0000, 0.0000,\n",
            "         0.0000, 0.0000, 0.0000, 0.0000, 0.0000, 0.0000, 0.6980, 0.9294, 0.8784,\n",
            "         0.7843, 0.6157, 0.6745, 0.7608, 0.9020, 0.9333, 0.8902, 0.9216, 0.9961,\n",
            "         0.2667, 0.0000, 0.0000, 0.0000, 0.0000, 0.0000, 0.0000, 0.0000, 0.0000,\n",
            "         0.0000, 0.0000, 0.0000, 0.0000, 0.0000, 0.0000, 0.0000, 0.6863, 0.9176,\n",
            "         0.8667, 0.8078, 0.7882, 0.5176, 0.4431, 0.9255, 0.9255, 0.8706, 0.9216,\n",
            "         1.0000, 0.6078, 0.0000, 0.0000, 0.0000, 0.0000, 0.0000, 0.0000, 0.0000,\n",
            "         0.0000, 0.0000, 0.0000, 0.0000, 0.0000, 0.0078, 0.0000, 0.0118, 0.8588,\n",
            "         0.8902, 0.8588, 0.8667, 0.8275, 0.5961, 0.6745, 0.9961, 0.9098, 0.8824,\n",
            "         0.9373, 0.9373, 0.6471, 0.0000, 0.0000, 0.0000, 0.0000, 0.0000, 0.0000,\n",
            "         0.0000, 0.0000, 0.0000, 0.0000, 0.0000, 0.0000, 0.0000, 0.0000, 0.5490,\n",
            "         0.9451, 0.8549, 0.8000, 0.8039, 0.7843, 0.7686, 0.9490, 0.9451, 0.8941,\n",
            "         0.9216, 0.8275, 0.8000, 0.6627, 0.0000, 0.0000, 0.0000, 0.0000, 0.0000,\n",
            "         0.0000, 0.0000, 0.0000, 0.0000, 0.0000, 0.0000, 0.0000, 0.0000, 0.0000,\n",
            "         0.8471, 0.8863, 0.8627, 0.8392, 0.6510, 0.5765, 0.7333, 0.8863, 0.9412,\n",
            "         0.8902, 0.8980, 0.8549, 0.9804, 0.3373, 0.0000, 0.0000, 0.0000, 0.0000,\n",
            "         0.0000, 0.0000, 0.0000, 0.0000, 0.0000, 0.0000, 0.0000, 0.0039, 0.0000,\n",
            "         0.3137, 0.9569, 0.8431, 0.8627, 0.8941, 0.3686, 0.2196, 0.6157, 0.9569,\n",
            "         0.9333, 0.8980, 0.8863, 0.9373, 0.8510, 0.0000, 0.0000, 0.0000, 0.0000,\n",
            "         0.0000, 0.0000, 0.0000, 0.0000, 0.0000, 0.0000, 0.0000, 0.0000, 0.0000,\n",
            "         0.0000, 1.0000, 0.8196, 0.8314, 0.9569, 0.6353, 0.0863, 0.2824, 0.7255,\n",
            "         0.9647, 0.9294, 0.8980, 0.8941, 0.9059, 0.7333, 0.0000, 0.0000, 0.0000,\n",
            "         0.0000, 0.0000, 0.0000, 0.0000, 0.0000, 0.0000, 0.0000, 0.0078, 0.0000,\n",
            "         0.0000, 0.9333, 0.8078, 0.4588, 0.9922, 0.7804, 0.6000, 0.4667, 0.7137,\n",
            "         0.8980, 0.9294, 0.9451, 0.9059, 0.8824, 0.9137, 0.4549, 0.0000, 0.0078,\n",
            "         0.0000, 0.0000, 0.0000, 0.0000, 0.0000, 0.0039, 0.0196, 0.0118, 0.0000,\n",
            "         0.0000, 0.5647, 1.0000, 0.0000, 0.7490, 1.0000, 0.3529, 0.3020, 0.6863,\n",
            "         0.7451, 0.8941, 0.9843, 0.8667, 0.8941, 0.8863, 0.8745, 0.1804, 0.0000,\n",
            "         0.0078, 0.0000, 0.0000, 0.0000, 0.0000, 0.0000, 0.0000, 0.0000, 0.0000,\n",
            "         0.0784, 0.4275, 0.9686, 0.7137, 0.4902, 0.9255, 0.9451, 0.7490, 0.6549,\n",
            "         0.6235, 0.7412, 0.9725, 0.9176, 0.8314, 0.9098, 0.8745, 0.8235, 0.0000,\n",
            "         0.0000, 0.0000, 0.0000, 0.0000, 0.0000, 0.0000, 0.0000, 0.0000, 0.3020,\n",
            "         0.3608, 0.5020, 0.7490, 0.7725, 0.8784, 0.9804, 0.8902, 0.7647, 0.6510,\n",
            "         0.6431, 0.9412, 0.9725, 0.9294, 0.8706, 1.0000, 0.9725, 0.9961, 0.6588,\n",
            "         0.0000, 0.0000, 0.0000, 0.0000, 0.0000, 0.0000, 0.0000, 0.0000, 0.8353,\n",
            "         0.7608, 0.8275, 0.8157, 0.9137, 0.9490, 1.0000, 1.0000, 0.9961, 0.8118,\n",
            "         0.8118, 0.9333, 0.9529, 0.9255, 0.9451, 1.0000, 0.0706, 0.3294, 0.5098,\n",
            "         0.0078, 0.0000, 0.0157, 0.0000, 0.0000, 0.0000, 0.0000, 0.0000, 0.1882,\n",
            "         0.9608, 0.7020, 0.9490, 0.8941, 0.7333, 0.6824, 0.5686, 0.5686, 0.7686,\n",
            "         0.9176, 0.8863, 0.9294, 0.9451, 0.9137, 0.9882, 0.6902, 0.0000, 0.0000,\n",
            "         0.0000, 0.0000, 0.0000, 0.0000, 0.0000, 0.0000, 0.0000, 0.0000, 0.0000,\n",
            "         0.6745, 0.9569, 0.8941, 0.9412, 0.8863, 0.5765, 0.4314, 0.4471, 0.5529,\n",
            "         0.7451, 0.8902, 0.9216, 0.9176, 0.9216, 0.9882, 0.8980, 0.0784, 0.0000,\n",
            "         0.0235, 0.0157, 0.0118, 0.0000, 0.0000, 0.0000, 0.0000, 0.0000, 0.0000,\n",
            "         0.0000, 0.4471, 0.9569, 0.9333, 0.9451, 1.0000, 1.0000, 1.0000, 0.9961,\n",
            "         0.9412, 0.9059, 0.9294, 1.0000, 0.9451, 0.9294, 0.9216, 0.1569, 0.0000,\n",
            "         0.0000, 0.0000, 0.0000, 0.0000, 0.0000, 0.0000, 0.0000, 0.0000, 0.0000,\n",
            "         0.0000, 0.0000, 0.0000, 0.1216, 0.3412, 0.4824, 0.6235, 0.6902, 0.7333,\n",
            "         0.7137, 0.7137, 0.6902, 0.6471, 0.4863, 0.3490, 0.1176, 0.0000, 0.0000,\n",
            "         0.0000, 0.0000, 0.0039, 0.0000, 0.0000, 0.0000, 0.0000, 0.0000, 0.0000,\n",
            "         0.0000]])\n"
          ]
        }
      ]
    },
    {
      "cell_type": "code",
      "source": [
        "from torch import nn\n",
        "class FashioMNISTModelV0(nn.Module):\n",
        "    def __init__(self,input_shape:int,hidden_units:int,output_shape:int):\n",
        "        super().__init__()\n",
        "        self.layer_stack = nn.Sequential(\n",
        "            nn.Flatten(),\n",
        "            nn.Linear(in_features=input_shape,out_features=hidden_units),\n",
        "            nn.Linear(in_features=hidden_units,out_features=output_shape)\n",
        "        )\n",
        "    def forward(self,x:torch.Tensor):\n",
        "        return self.layer_stack(x)\n",
        "\n",
        "\n"
      ],
      "metadata": {
        "id": "N0c3i0bNX15Y"
      },
      "execution_count": 135,
      "outputs": []
    },
    {
      "cell_type": "code",
      "source": [
        "torch.manual_seed(42)\n",
        "device = \"cuda\" if torch.cuda.is_available() else \"cpu\"\n",
        "# setup model with input parameters\n",
        "\n",
        "model_0 = FashioMNISTModelV0(\n",
        "    input_shape=28*28,\n",
        "    hidden_units=10,\n",
        "    output_shape=len(class_names) # one for every class\n",
        ").to(device)\n",
        "\n",
        "model_0.to(device)\n",
        "model_0"
      ],
      "metadata": {
        "id": "nkbNqp0qZ8lG",
        "outputId": "6b0037bd-8db6-43a2-bcfe-356b57c95c4e",
        "colab": {
          "base_uri": "https://localhost:8080/"
        }
      },
      "execution_count": 136,
      "outputs": [
        {
          "output_type": "execute_result",
          "data": {
            "text/plain": [
              "FashioMNISTModelV0(\n",
              "  (layer_stack): Sequential(\n",
              "    (0): Flatten(start_dim=1, end_dim=-1)\n",
              "    (1): Linear(in_features=784, out_features=10, bias=True)\n",
              "    (2): Linear(in_features=10, out_features=10, bias=True)\n",
              "  )\n",
              ")"
            ]
          },
          "metadata": {},
          "execution_count": 136
        }
      ]
    },
    {
      "cell_type": "code",
      "source": [
        "dummy_x = torch.rand((1,28,28))\n",
        "dummy_x.shape\n",
        "model_0(dummy_x.to(device))\n"
      ],
      "metadata": {
        "id": "0RhXHI47aiCs",
        "outputId": "403481c3-637b-4f46-a6a6-92210c33f5b1",
        "colab": {
          "base_uri": "https://localhost:8080/"
        }
      },
      "execution_count": 137,
      "outputs": [
        {
          "output_type": "execute_result",
          "data": {
            "text/plain": [
              "tensor([[-0.0315,  0.3171,  0.0531, -0.2525,  0.5959,  0.2112,  0.3233,  0.2694,\n",
              "         -0.1004,  0.0157]], device='cuda:0', grad_fn=<AddmmBackward0>)"
            ]
          },
          "metadata": {},
          "execution_count": 137
        }
      ]
    },
    {
      "cell_type": "markdown",
      "source": [
        "### setyp loss optimzer and evaluation metrics\n",
        "\n",
        "* loss function - snce were working with multiclass data, our loss funtion will be `nn.CrossEntropyLoss()`\n",
        "* optimizer -our optimzer `torch.optim.SGD`\n",
        "* evaluteion metric - since were workign on a classifcion broblem we are going to use accurary score\n",
        "\n"
      ],
      "metadata": {
        "id": "79xYaIgAbrhG"
      }
    },
    {
      "cell_type": "code",
      "source": [
        "\n",
        "import requests\n",
        "from pathlib import Path\n",
        "\n",
        "# Download helper functions from Learn PyTorch repo\n",
        "if Path(\"helper_functions.py\").is_file():\n",
        "  print(\"helper_functions.py already exists, skipping download...\")\n",
        "else:\n",
        "  print(\"Downloading helper_functions.py\")\n",
        "  request = requests.get(\"https://raw.githubusercontent.com/mrdbourke/pytorch-deep-learning/main/helper_functions.py\")\n",
        "  with open(\"helper_functions.py\", \"wb\") as f:\n",
        "    f.write(request.content)\n"
      ],
      "metadata": {
        "id": "cQfNEU4XayED",
        "outputId": "1ace3c6c-f890-4541-89ae-ffa9474c83f4",
        "colab": {
          "base_uri": "https://localhost:8080/"
        }
      },
      "execution_count": 138,
      "outputs": [
        {
          "output_type": "stream",
          "name": "stdout",
          "text": [
            "helper_functions.py already exists, skipping download...\n"
          ]
        }
      ]
    },
    {
      "cell_type": "code",
      "source": [
        "# import accurary matric\n",
        "from helper_functions import accuracy_fn\n",
        "\n",
        "# setup loss funtion and optimzer\n",
        "loss_fn = nn.CrossEntropyLoss()\n",
        "\n",
        "optimizer = torch.optim.SGD(params=model_0.parameters(),lr=0.1)\n",
        "\n"
      ],
      "metadata": {
        "id": "TT367fMvc5xF"
      },
      "execution_count": 139,
      "outputs": []
    },
    {
      "cell_type": "markdown",
      "source": [
        "### creating a funtion to time our expreriments\n",
        "machine learning is very exprimental\n",
        "model perforamce( loss and accuracy values) and hos fat it runs\n",
        "|"
      ],
      "metadata": {
        "id": "gw-rzbjbgGpy"
      }
    },
    {
      "cell_type": "code",
      "source": [
        "from timeit import default_timer as timer\n",
        "from tqdm.auto import tqdm\n",
        "\n",
        "def print_train_time(start: float, end: float, device: torch.device = None):\n",
        "    \"\"\"Prints difference between start and end time.\n",
        "\n",
        "    Args:\n",
        "    start (float): Start time of computation (preferred in timeit format).\n",
        "    end (float): End time of computation.\n",
        "    device ([type], optional): Device that compute is running on. Defaults to None.\n",
        "\n",
        "    If device is None, use \"CPU\".\n",
        "    \"\"\"\n",
        "    total_time = end - start\n",
        "    print(f\"Train time on {device}: {total_time:.3f} seconds\")\n",
        "    return total_time\n"
      ],
      "metadata": {
        "id": "Y8DI_6_jfa_Z"
      },
      "execution_count": 140,
      "outputs": []
    },
    {
      "cell_type": "markdown",
      "source": [
        "### creating a training loop and traingin a model on batchesof data\n",
        "\n",
        "\n",
        "1. loop throught epoces.\n",
        "2. loop throught traingin batches, perform triangin steps , calculate teh train loss *per batch* .\n",
        "3. loop thorugh tesing batches, perform tasting stpes, claclute the test loss\n",
        "\n",
        "4. prnt out what happeing\n",
        "5. time it all ( for fun )"
      ],
      "metadata": {
        "id": "xCA49Dnl9YlA"
      }
    },
    {
      "source": [
        "# import tqdm for the progress bar\n",
        "\n",
        "from tqdm.auto import tqdm\n",
        "\n",
        "# set the seed adn start the timer\n",
        "\n",
        "torch.manual_seed(42)\n",
        "train_time_start_on_cpu = timer()\n",
        "# set the number of epocs( wer keep this small for fater traiing time)\n",
        "epochs = 3\n",
        "\n",
        "# create traing and test loop\n",
        "for epoch in tqdm(range(epochs)):\n",
        "  print(f\"Epoch:{epoch}\\n........\")\n",
        "  # traing\n",
        "  train_loss = 0\n",
        "  # add a loop to loop thorouth the traing batches\n",
        "  for  batch, (X,y) in enumerate(train_dataloader):\n",
        "    model_0.train()\n",
        "    ## forward pass\n",
        "    y_pred = model_0(X.to(device))\n",
        "    loss = loss_fn(y_pred,y.to(device))\n",
        "    train_loss += loss\n",
        "    ## optimizer zero grad\n",
        "    optimizer.zero_grad()\n",
        "    ## loss backward\n",
        "    loss.backward()\n",
        "    ## optimizer step\n",
        "    optimizer.step()\n",
        "\n",
        "    # print out what happening\n",
        "    if batch % 400 == 0:\n",
        "      print(f\"Looked at {batch*len(X)}/{len(train_dataloader.dataset)} samples\")\n",
        "  # divde total train loss by length of train dataloader\n",
        "  train_loss = train_loss / len(train_dataloader)\n",
        "\n",
        "  ## TESING\n",
        "  test_loss = 0\n",
        "  model_0.eval()\n",
        "  with torch.inference_mode():\n",
        "    for X,y in test_dataloader:\n",
        "      test_pred = model_0(X.to(device))\n",
        "      loss = loss_fn(test_pred,y.to(device))\n",
        "      test_loss += loss\n",
        "    # Calculate average test loss within inference mode\n",
        "    # This avoids the inplace update error\n",
        "    test_loss = test_loss / len(test_dataloader)\n",
        "  ## print out what happend\n",
        "  print(f\"Train loss: {train_loss:.5f} | Test loss: {test_loss:.5f}\")\n",
        "\n",
        "  # print out waht happeing\n",
        "  print(f\"Epoch: {epoch+1} | Train Loss: {train_loss:.5f} | Test Loss: {test_loss:.5f}\")\n",
        "  # cacluatte training time\n",
        "  train_time_end_on_cpu = timer()\n",
        "  total_train_time_model_0 = print_train_time(start=train_time_start_on_cpu, end=train_time_end_on_cpu, device=device)\n",
        "  # for now it is cpu for now i will change later to GPU so kepp that in mind"
      ],
      "cell_type": "code",
      "metadata": {
        "id": "3FxuDMfgEf3g",
        "outputId": "987c4ffd-3ede-4f03-bae3-5e9bb5a5063a",
        "colab": {
          "base_uri": "https://localhost:8080/",
          "height": 570,
          "referenced_widgets": [
            "eb97107b353a4ba3b0da8978763b6ac9",
            "62237c013a6d48e985c2d77a85ec8d3d",
            "ee5f460e16424096b68197781de12e2d",
            "44d2b26a0f484ca0a92cd49b846ee476",
            "de1c4d0aae2147b8a2665e3270d5838d",
            "1d443f1e7fb64400a5df914fc84e4ced",
            "3541035076354eddbb4fb4e083381274",
            "5605e019b7f543d39e970610f3c7d9d9",
            "6d84579d35b044ca884caacabbe4ae41",
            "017cdef75e254c81b1e7808a8b14b84d",
            "469e38b61a434ac6b7ed09ba1e83ea2c"
          ]
        }
      },
      "execution_count": 141,
      "outputs": [
        {
          "output_type": "display_data",
          "data": {
            "text/plain": [
              "  0%|          | 0/3 [00:00<?, ?it/s]"
            ],
            "application/vnd.jupyter.widget-view+json": {
              "version_major": 2,
              "version_minor": 0,
              "model_id": "eb97107b353a4ba3b0da8978763b6ac9"
            }
          },
          "metadata": {}
        },
        {
          "output_type": "stream",
          "name": "stdout",
          "text": [
            "Epoch:0\n",
            "........\n",
            "Looked at 0/60000 samples\n",
            "Looked at 12800/60000 samples\n",
            "Looked at 25600/60000 samples\n",
            "Looked at 38400/60000 samples\n",
            "Looked at 51200/60000 samples\n",
            "Train loss: 0.59039 | Test loss: 0.50954\n",
            "Epoch: 1 | Train Loss: 0.59039 | Test Loss: 0.50954\n",
            "Train time on cuda: 15.246 seconds\n",
            "Epoch:1\n",
            "........\n",
            "Looked at 0/60000 samples\n",
            "Looked at 12800/60000 samples\n",
            "Looked at 25600/60000 samples\n",
            "Looked at 38400/60000 samples\n",
            "Looked at 51200/60000 samples\n",
            "Train loss: 0.47633 | Test loss: 0.47989\n",
            "Epoch: 2 | Train Loss: 0.47633 | Test Loss: 0.47989\n",
            "Train time on cuda: 29.859 seconds\n",
            "Epoch:2\n",
            "........\n",
            "Looked at 0/60000 samples\n",
            "Looked at 12800/60000 samples\n",
            "Looked at 25600/60000 samples\n",
            "Looked at 38400/60000 samples\n",
            "Looked at 51200/60000 samples\n",
            "Train loss: 0.45503 | Test loss: 0.47664\n",
            "Epoch: 3 | Train Loss: 0.45503 | Test Loss: 0.47664\n",
            "Train time on cuda: 44.544 seconds\n"
          ]
        }
      ]
    },
    {
      "source": [],
      "cell_type": "code",
      "metadata": {
        "id": "cWgQqAXiCSgL"
      },
      "execution_count": 141,
      "outputs": []
    },
    {
      "cell_type": "code",
      "source": [
        "str(next(model_0.parameters()).device)"
      ],
      "metadata": {
        "id": "CrIphY_FB8mK",
        "outputId": "649e8d1d-611b-4fa2-9313-2a3728cce275",
        "colab": {
          "base_uri": "https://localhost:8080/",
          "height": 35
        }
      },
      "execution_count": 142,
      "outputs": [
        {
          "output_type": "execute_result",
          "data": {
            "text/plain": [
              "'cuda:0'"
            ],
            "application/vnd.google.colaboratory.intrinsic+json": {
              "type": "string"
            }
          },
          "metadata": {},
          "execution_count": 142
        }
      ]
    },
    {
      "cell_type": "markdown",
      "source": [
        "## make predictins and get model 0 results"
      ],
      "metadata": {
        "id": "qzh-1zD7CbZ7"
      }
    },
    {
      "cell_type": "code",
      "source": [
        "torch.manual_seed(42)\n",
        "def eval_model(model: torch.nn.Module,data_loader: torch.utils.data.DataLoader,loss_fn: torch.nn.Module,accuracy_fn,device: torch.device = device):\n",
        "  loss, acc = 0, 0\n",
        "  model.eval()\n",
        "  with torch.inference_mode():\n",
        "    for X, y in data_loader:\n",
        "      X, y = X.to(device), y.to(device)\n",
        "      y_pred = model(X)\n",
        "      loss += loss_fn(y_pred, y)\n",
        "      acc += accuracy_fn(y_true=y,\n",
        "                         y_pred=y_pred.argmax(dim=1))\n",
        "      loss /= len(data_loader)\n",
        "      acc /= len(data_loader)\n",
        "  return {\"model_name\": model.__class__.__name__, # this only workds when model was created by class\n",
        "          \"model_loss\": loss.item(),\n",
        "          \"model_acc\": acc}\n",
        "\n",
        "\n",
        "\n",
        "# cacluate model 0 results on the dataset\n",
        "model_0_results = eval_model(model=model_0,\n",
        "                              data_loader=test_dataloader,\n",
        "                              loss_fn=loss_fn,\n",
        "                              accuracy_fn=accuracy_fn,\n",
        "                              device=device)\n",
        "model_0_results\n",
        "\n",
        "\n",
        "\n",
        "\n"
      ],
      "metadata": {
        "id": "YZ1PrrYREDrz",
        "outputId": "e100690f-cca7-4c09-92c1-6060b95e41ff",
        "colab": {
          "base_uri": "https://localhost:8080/"
        }
      },
      "execution_count": 143,
      "outputs": [
        {
          "output_type": "execute_result",
          "data": {
            "text/plain": [
              "{'model_name': 'FashioMNISTModelV0',\n",
              " 'model_loss': 0.0010611432371661067,\n",
              " 'model_acc': 0.30028917735831345}"
            ]
          },
          "metadata": {},
          "execution_count": 143
        }
      ]
    },
    {
      "cell_type": "code",
      "source": [
        "device"
      ],
      "metadata": {
        "id": "0MdoxitMEhkP",
        "outputId": "dff60f9f-9298-4490-9a03-efa2ae49e9f9",
        "colab": {
          "base_uri": "https://localhost:8080/",
          "height": 35
        }
      },
      "execution_count": 145,
      "outputs": [
        {
          "output_type": "execute_result",
          "data": {
            "text/plain": [
              "'cuda'"
            ],
            "application/vnd.google.colaboratory.intrinsic+json": {
              "type": "string"
            }
          },
          "metadata": {},
          "execution_count": 145
        }
      ]
    },
    {
      "cell_type": "markdown",
      "source": [
        "### MOdel 1 buind a model with non linearity\n",
        "\n",
        "we learned about the power of non linearity\n"
      ],
      "metadata": {
        "id": "DPKNjp1-MoWx"
      }
    },
    {
      "cell_type": "code",
      "source": [
        "import torch\n",
        "from torch import nn\n",
        "\n",
        "# create a model with non lieanr and linear layer\n",
        "\n",
        "class FashionMNISTModelV1(nn.Module):\n",
        "  def __init__(self,input_shape:int,hidden_units:int,output_shape:int):\n",
        "    super().__init__()\n",
        "    self.layer_stack = nn.Sequential(\n",
        "      nn.Flatten(),\n",
        "      nn.Linear(in_features=input_shape,out_features=hidden_units),\n",
        "      nn.ReLU(),\n",
        "      nn.Linear(in_features=hidden_units,out_features=hidden_units), # Changed: Using hidden_units instead of undefined 'output'\n",
        "      nn.ReLU(),\n",
        "      nn.Linear(in_features=hidden_units,out_features=output_shape)\n",
        "    )\n",
        "  def forward(self,x:torch.Tensor):\n",
        "    return self.layer_stack(x)"
      ],
      "metadata": {
        "id": "hTljVeLtMtNn"
      },
      "execution_count": 148,
      "outputs": []
    },
    {
      "cell_type": "code",
      "source": [
        "# create an instance of model_1\n",
        "\n",
        "torch.manual_seed(42)\n",
        "model_1 = FashionMNISTModelV1(input_shape=784,\n",
        "                                hidden_units=10,\n",
        "                                output_shape=len(class_names)).to(device)\n",
        ""
      ],
      "metadata": {
        "id": "HB-kyywnN7Dh"
      },
      "execution_count": 149,
      "outputs": []
    },
    {
      "source": [
        "next(model_1.parameters()).device"
      ],
      "cell_type": "code",
      "metadata": {
        "id": "eIl7Gq8fOlbW",
        "outputId": "5dfb61aa-6bc9-4d1f-d7de-4393540a5643",
        "colab": {
          "base_uri": "https://localhost:8080/"
        }
      },
      "execution_count": 150,
      "outputs": [
        {
          "output_type": "execute_result",
          "data": {
            "text/plain": [
              "device(type='cuda', index=0)"
            ]
          },
          "metadata": {},
          "execution_count": 150
        }
      ]
    },
    {
      "cell_type": "code",
      "source": [
        "# create a loss funtion, optimzer and evalation metrics\n",
        "\n",
        "from helper_functions import accuracy_fn\n",
        "\n",
        "loss_fn = nn.CrossEntropyLoss()# measure how wrong our model is\n",
        "\n",
        "optimizer = torch.optim.SGD(params=model_1.parameters(),lr=0.1) # try to change the parameter of our model to reduce the loss please dont forget that\n",
        "\n"
      ],
      "metadata": {
        "id": "E-_S-yf3OTfZ"
      },
      "execution_count": 152,
      "outputs": []
    },
    {
      "cell_type": "markdown",
      "source": [
        "### funtionaizing traing and evaluaitn and evalutin/tesing loops"
      ],
      "metadata": {
        "id": "rTqJsFz4O38y"
      }
    },
    {
      "cell_type": "code",
      "source": [],
      "metadata": {
        "id": "898X4MLJPzEz"
      },
      "execution_count": null,
      "outputs": []
    }
  ]
}