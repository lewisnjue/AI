{
  "nbformat": 4,
  "nbformat_minor": 0,
  "metadata": {
    "colab": {
      "provenance": [],
      "gpuType": "T4",
      "authorship_tag": "ABX9TyMPVdfAnsJFIVqLv+yUOqc3",
      "include_colab_link": true
    },
    "kernelspec": {
      "name": "python3",
      "display_name": "Python 3"
    },
    "language_info": {
      "name": "python"
    },
    "accelerator": "GPU"
  },
  "cells": [
    {
      "cell_type": "markdown",
      "metadata": {
        "id": "view-in-github",
        "colab_type": "text"
      },
      "source": [
        "<a href=\"https://colab.research.google.com/github/lewisnjue/AI/blob/main/computer_vision_and_convolution_neural_network.ipynb\" target=\"_parent\"><img src=\"https://colab.research.google.com/assets/colab-badge.svg\" alt=\"Open In Colab\"/></a>"
      ]
    },
    {
      "cell_type": "markdown",
      "source": [
        "## what is a computer vision problem\n",
        "a computer vision problem invovles developing algorithms and models that enable computer to nterapret, analyze and understand visula dat from the world, such as image and videos. these problems often involves taks that mimic human visua perception and processing .\n",
        "\n",
        "#### common computer vison problems\n",
        "\n",
        "* image classificaion\n",
        "* object detection\n",
        "* segmentaion\n",
        "* image generation\n",
        "* facial recognition\n",
        "* object tracking\n",
        "* pose estimatin\n",
        "* optical character recognition\n",
        "* image restoration\n",
        "* actin recognition\n",
        "* anomaly detection in visual data\n",
        "and many more\n",
        "\n",
        "\n",
        "### inputs and outputs of a computer vision problem\n",
        "\n",
        "it depends on the specific task being solved\n",
        "\n",
        "inputs :\n",
        "image data:\n",
        "  - single image\n",
        "  - image sequences ( videos)\n",
        "  - 3D data\n",
        "metadata\n",
        "pre labled data\n",
        "\n",
        "\n",
        "outputs:\n",
        "\n",
        "the output are task specific and represetn the desired interpretaio or decsion based on the input data . common outputs include:\n",
        "\n",
        "1. for image classficaion:\n",
        "  - a single lable ( eg cat) or multiple lables\n",
        "2. for object detection:\n",
        "  - bounding boxes : coordinates aroud detected objects\n",
        "  - class lables: lable for each detected object\n",
        "  - confidence scores: a probability indicating the certaintly of the detection\n",
        "\n",
        "3. for image segmentaion:\n",
        "  - semantic segmetnation: a mask where each pixel has a class lable( eg sky )\n",
        "  - instance segmentaion: a mask for each object intance , separitng ovelapping objects\n",
        "and many more\n",
        "\n",
        "these mappings ensure computers can precess visual inforation and return actinable insights\n",
        "\n",
        "\n",
        "in computer vsion ( and deep learning in general) , batch size refers to the number of samples ( images in the case of coputer vision ) processed together in one forward and backward pass through the neural network . it plays a critical rele in traing deep learingmodels and influences several spacests of the process:\n",
        "\n",
        "\n",
        "key points about batch_size:\n",
        "\n",
        "1. fowrad pass and backward pass:\n",
        "  - during the forward pass, the neural network computers predictions for all image in the batch.\n",
        "  - in the backward pass , gradietns are computed for the loss assocaited with the batch and used to update model parametes.\n",
        "2. memory usage:\n",
        "  - larger batches require more memory ( GPU/ CPU RAM ) as they model needs to hlod intermediate comutations and gradients for all images in the batch.\n",
        "3. traing stability:\n",
        "  - small batch sizes: thse often result in noisier gradient updates but can generalize better . they allow the model to train with less memory makign it easir to handle larger modles or datasets.\n",
        "  - large batch sizers: these provide more stable gradient updates as they average the gradients over more samples . however they may rqurie more computational resources.\n",
        "\n",
        "4. train speed:\n",
        "  - larger batch sizers often result in faster traning per epoch since more samples are processed simultainesouly\n",
        "  - smaller batch sizes might take longer per epoch but can provide quicker model convergence due to noiseir graidents.\n",
        "5. common batch sizes:\n",
        "  - powers of 2 eg 16, 32 etc\n",
        "  - the choice often depends on the available computational resources , model size and dataset size.\n",
        "  "
      ],
      "metadata": {
        "id": "PW2guyZag0o9"
      }
    },
    {
      "cell_type": "markdown",
      "source": [
        "# computer vision libaries in pytorch\n",
        "\n",
        "* `torchvision` base domain\n",
        "* torchvisio.datasets - get datasets and data loaidng for computer vison here\n",
        "* `torchvision.models` - get pretrained coputer vision models that you can revelrage foryour own problem\n",
        "* `torhcvision.trafnorm ` fountion for manipulaint your vision data ( images) to be suitable for use with an ML model\n",
        "\n",
        "* `torch.utils.data.Dataset` - base datasets class for pytorch\n",
        "* ` torhc.utils.data.DataLoader` - create a pytorhc iterable over a dataset\n"
      ],
      "metadata": {
        "id": "RWfLu2K5Vomq"
      }
    },
    {
      "cell_type": "code",
      "source": [
        "# import pytorch\n",
        "import torch\n",
        "from torch import nn\n",
        "#import torch vision\n",
        "import torchvision\n",
        "from torchvision import datasets\n",
        "from torchvision.transforms import ToTensor\n",
        "from torchvision.transforms import ToPILImage\n",
        "from torchvision.transforms import transforms\n",
        "\n",
        "# import matplotlib for visualizaion\n",
        "import matplotlib.pyplot as plt\n",
        "\n",
        "# check version\n",
        "print(torch.__version__)\n",
        "print(torchvision.__version__)\n",
        "device = \"cuda\" if torch.cuda.is_available() else \"cpu\"\n",
        "\n",
        "\n"
      ],
      "metadata": {
        "colab": {
          "base_uri": "https://localhost:8080/"
        },
        "id": "3A6NJbjpWsog",
        "outputId": "ca2406cf-e493-418d-c465-19d48341bff4"
      },
      "execution_count": 162,
      "outputs": [
        {
          "output_type": "stream",
          "name": "stdout",
          "text": [
            "2.5.1+cu121\n",
            "0.20.1+cu121\n"
          ]
        }
      ]
    },
    {
      "cell_type": "markdown",
      "source": [
        "### getting the datasets\n",
        "\n",
        "\n",
        "FashionNMIST is the dataset we are going to use\n"
      ],
      "metadata": {
        "id": "H7MukZSNXiFy"
      }
    },
    {
      "cell_type": "code",
      "source": [
        "# setup traing data\n",
        "train_data = datasets.FashionMNIST(\n",
        "    root=\"data\",# where to download dat to\n",
        "    train=True,# do we want the traing dataset\n",
        "    download=True, # do we want to download it ?\n",
        "    transform=ToTensor(), # what do we want to tranform our image\n",
        "    target_transform=None # do we want to tranform the labes / targets?\n",
        ")\n",
        "\n",
        "test_data = datasets.FashionMNIST(\n",
        "    root=\"data\",\n",
        "    train=False,\n",
        "    download=True,\n",
        "    transform=ToTensor(),\n",
        "    target_transform=None\n",
        ")\n"
      ],
      "metadata": {
        "id": "Pq4KkpbTXg8C"
      },
      "execution_count": 163,
      "outputs": []
    },
    {
      "cell_type": "code",
      "source": [
        "len(train_data), len(test_data)"
      ],
      "metadata": {
        "colab": {
          "base_uri": "https://localhost:8080/"
        },
        "id": "6iZk1f_QZcWs",
        "outputId": "88ea2a46-fd8d-4263-d84f-7b59a123c485"
      },
      "execution_count": 164,
      "outputs": [
        {
          "output_type": "execute_result",
          "data": {
            "text/plain": [
              "(60000, 10000)"
            ]
          },
          "metadata": {},
          "execution_count": 164
        }
      ]
    },
    {
      "cell_type": "code",
      "source": [
        "# see the first traing example\n",
        "image , label = train_data[0]"
      ],
      "metadata": {
        "id": "Vn4sxJckZtL6"
      },
      "execution_count": 165,
      "outputs": []
    },
    {
      "cell_type": "code",
      "source": [
        "image,label"
      ],
      "metadata": {
        "colab": {
          "base_uri": "https://localhost:8080/"
        },
        "id": "hKCX_itsZ4nE",
        "outputId": "12575551-10c4-491c-dfed-3727ff544d46"
      },
      "execution_count": 166,
      "outputs": [
        {
          "output_type": "execute_result",
          "data": {
            "text/plain": [
              "(tensor([[[0.0000, 0.0000, 0.0000, 0.0000, 0.0000, 0.0000, 0.0000, 0.0000,\n",
              "           0.0000, 0.0000, 0.0000, 0.0000, 0.0000, 0.0000, 0.0000, 0.0000,\n",
              "           0.0000, 0.0000, 0.0000, 0.0000, 0.0000, 0.0000, 0.0000, 0.0000,\n",
              "           0.0000, 0.0000, 0.0000, 0.0000],\n",
              "          [0.0000, 0.0000, 0.0000, 0.0000, 0.0000, 0.0000, 0.0000, 0.0000,\n",
              "           0.0000, 0.0000, 0.0000, 0.0000, 0.0000, 0.0000, 0.0000, 0.0000,\n",
              "           0.0000, 0.0000, 0.0000, 0.0000, 0.0000, 0.0000, 0.0000, 0.0000,\n",
              "           0.0000, 0.0000, 0.0000, 0.0000],\n",
              "          [0.0000, 0.0000, 0.0000, 0.0000, 0.0000, 0.0000, 0.0000, 0.0000,\n",
              "           0.0000, 0.0000, 0.0000, 0.0000, 0.0000, 0.0000, 0.0000, 0.0000,\n",
              "           0.0000, 0.0000, 0.0000, 0.0000, 0.0000, 0.0000, 0.0000, 0.0000,\n",
              "           0.0000, 0.0000, 0.0000, 0.0000],\n",
              "          [0.0000, 0.0000, 0.0000, 0.0000, 0.0000, 0.0000, 0.0000, 0.0000,\n",
              "           0.0000, 0.0000, 0.0000, 0.0000, 0.0039, 0.0000, 0.0000, 0.0510,\n",
              "           0.2863, 0.0000, 0.0000, 0.0039, 0.0157, 0.0000, 0.0000, 0.0000,\n",
              "           0.0000, 0.0039, 0.0039, 0.0000],\n",
              "          [0.0000, 0.0000, 0.0000, 0.0000, 0.0000, 0.0000, 0.0000, 0.0000,\n",
              "           0.0000, 0.0000, 0.0000, 0.0000, 0.0118, 0.0000, 0.1412, 0.5333,\n",
              "           0.4980, 0.2431, 0.2118, 0.0000, 0.0000, 0.0000, 0.0039, 0.0118,\n",
              "           0.0157, 0.0000, 0.0000, 0.0118],\n",
              "          [0.0000, 0.0000, 0.0000, 0.0000, 0.0000, 0.0000, 0.0000, 0.0000,\n",
              "           0.0000, 0.0000, 0.0000, 0.0000, 0.0235, 0.0000, 0.4000, 0.8000,\n",
              "           0.6902, 0.5255, 0.5647, 0.4824, 0.0902, 0.0000, 0.0000, 0.0000,\n",
              "           0.0000, 0.0471, 0.0392, 0.0000],\n",
              "          [0.0000, 0.0000, 0.0000, 0.0000, 0.0000, 0.0000, 0.0000, 0.0000,\n",
              "           0.0000, 0.0000, 0.0000, 0.0000, 0.0000, 0.0000, 0.6078, 0.9255,\n",
              "           0.8118, 0.6980, 0.4196, 0.6118, 0.6314, 0.4275, 0.2510, 0.0902,\n",
              "           0.3020, 0.5098, 0.2824, 0.0588],\n",
              "          [0.0000, 0.0000, 0.0000, 0.0000, 0.0000, 0.0000, 0.0000, 0.0000,\n",
              "           0.0000, 0.0000, 0.0000, 0.0039, 0.0000, 0.2706, 0.8118, 0.8745,\n",
              "           0.8549, 0.8471, 0.8471, 0.6392, 0.4980, 0.4745, 0.4784, 0.5725,\n",
              "           0.5529, 0.3451, 0.6745, 0.2588],\n",
              "          [0.0000, 0.0000, 0.0000, 0.0000, 0.0000, 0.0000, 0.0000, 0.0000,\n",
              "           0.0000, 0.0039, 0.0039, 0.0039, 0.0000, 0.7843, 0.9098, 0.9098,\n",
              "           0.9137, 0.8980, 0.8745, 0.8745, 0.8431, 0.8353, 0.6431, 0.4980,\n",
              "           0.4824, 0.7686, 0.8980, 0.0000],\n",
              "          [0.0000, 0.0000, 0.0000, 0.0000, 0.0000, 0.0000, 0.0000, 0.0000,\n",
              "           0.0000, 0.0000, 0.0000, 0.0000, 0.0000, 0.7176, 0.8824, 0.8471,\n",
              "           0.8745, 0.8941, 0.9216, 0.8902, 0.8784, 0.8706, 0.8784, 0.8667,\n",
              "           0.8745, 0.9608, 0.6784, 0.0000],\n",
              "          [0.0000, 0.0000, 0.0000, 0.0000, 0.0000, 0.0000, 0.0000, 0.0000,\n",
              "           0.0000, 0.0000, 0.0000, 0.0000, 0.0000, 0.7569, 0.8941, 0.8549,\n",
              "           0.8353, 0.7765, 0.7059, 0.8314, 0.8235, 0.8275, 0.8353, 0.8745,\n",
              "           0.8627, 0.9529, 0.7922, 0.0000],\n",
              "          [0.0000, 0.0000, 0.0000, 0.0000, 0.0000, 0.0000, 0.0000, 0.0000,\n",
              "           0.0000, 0.0039, 0.0118, 0.0000, 0.0471, 0.8588, 0.8627, 0.8314,\n",
              "           0.8549, 0.7529, 0.6627, 0.8902, 0.8157, 0.8549, 0.8784, 0.8314,\n",
              "           0.8863, 0.7725, 0.8196, 0.2039],\n",
              "          [0.0000, 0.0000, 0.0000, 0.0000, 0.0000, 0.0000, 0.0000, 0.0000,\n",
              "           0.0000, 0.0000, 0.0235, 0.0000, 0.3882, 0.9569, 0.8706, 0.8627,\n",
              "           0.8549, 0.7961, 0.7765, 0.8667, 0.8431, 0.8353, 0.8706, 0.8627,\n",
              "           0.9608, 0.4667, 0.6549, 0.2196],\n",
              "          [0.0000, 0.0000, 0.0000, 0.0000, 0.0000, 0.0000, 0.0000, 0.0000,\n",
              "           0.0000, 0.0157, 0.0000, 0.0000, 0.2157, 0.9255, 0.8941, 0.9020,\n",
              "           0.8941, 0.9412, 0.9098, 0.8353, 0.8549, 0.8745, 0.9176, 0.8510,\n",
              "           0.8510, 0.8196, 0.3608, 0.0000],\n",
              "          [0.0000, 0.0000, 0.0039, 0.0157, 0.0235, 0.0275, 0.0078, 0.0000,\n",
              "           0.0000, 0.0000, 0.0000, 0.0000, 0.9294, 0.8863, 0.8510, 0.8745,\n",
              "           0.8706, 0.8588, 0.8706, 0.8667, 0.8471, 0.8745, 0.8980, 0.8431,\n",
              "           0.8549, 1.0000, 0.3020, 0.0000],\n",
              "          [0.0000, 0.0118, 0.0000, 0.0000, 0.0000, 0.0000, 0.0000, 0.0000,\n",
              "           0.0000, 0.2431, 0.5686, 0.8000, 0.8941, 0.8118, 0.8353, 0.8667,\n",
              "           0.8549, 0.8157, 0.8275, 0.8549, 0.8784, 0.8745, 0.8588, 0.8431,\n",
              "           0.8784, 0.9569, 0.6235, 0.0000],\n",
              "          [0.0000, 0.0000, 0.0000, 0.0000, 0.0706, 0.1725, 0.3216, 0.4196,\n",
              "           0.7412, 0.8941, 0.8627, 0.8706, 0.8510, 0.8863, 0.7843, 0.8039,\n",
              "           0.8275, 0.9020, 0.8784, 0.9176, 0.6902, 0.7373, 0.9804, 0.9725,\n",
              "           0.9137, 0.9333, 0.8431, 0.0000],\n",
              "          [0.0000, 0.2235, 0.7333, 0.8157, 0.8784, 0.8667, 0.8784, 0.8157,\n",
              "           0.8000, 0.8392, 0.8157, 0.8196, 0.7843, 0.6235, 0.9608, 0.7569,\n",
              "           0.8078, 0.8745, 1.0000, 1.0000, 0.8667, 0.9176, 0.8667, 0.8275,\n",
              "           0.8627, 0.9098, 0.9647, 0.0000],\n",
              "          [0.0118, 0.7922, 0.8941, 0.8784, 0.8667, 0.8275, 0.8275, 0.8392,\n",
              "           0.8039, 0.8039, 0.8039, 0.8627, 0.9412, 0.3137, 0.5882, 1.0000,\n",
              "           0.8980, 0.8667, 0.7373, 0.6039, 0.7490, 0.8235, 0.8000, 0.8196,\n",
              "           0.8706, 0.8941, 0.8824, 0.0000],\n",
              "          [0.3843, 0.9137, 0.7765, 0.8235, 0.8706, 0.8980, 0.8980, 0.9176,\n",
              "           0.9765, 0.8627, 0.7608, 0.8431, 0.8510, 0.9451, 0.2549, 0.2863,\n",
              "           0.4157, 0.4588, 0.6588, 0.8588, 0.8667, 0.8431, 0.8510, 0.8745,\n",
              "           0.8745, 0.8784, 0.8980, 0.1137],\n",
              "          [0.2941, 0.8000, 0.8314, 0.8000, 0.7569, 0.8039, 0.8275, 0.8824,\n",
              "           0.8471, 0.7255, 0.7725, 0.8078, 0.7765, 0.8353, 0.9412, 0.7647,\n",
              "           0.8902, 0.9608, 0.9373, 0.8745, 0.8549, 0.8314, 0.8196, 0.8706,\n",
              "           0.8627, 0.8667, 0.9020, 0.2627],\n",
              "          [0.1882, 0.7961, 0.7176, 0.7608, 0.8353, 0.7725, 0.7255, 0.7451,\n",
              "           0.7608, 0.7529, 0.7922, 0.8392, 0.8588, 0.8667, 0.8627, 0.9255,\n",
              "           0.8824, 0.8471, 0.7804, 0.8078, 0.7294, 0.7098, 0.6941, 0.6745,\n",
              "           0.7098, 0.8039, 0.8078, 0.4510],\n",
              "          [0.0000, 0.4784, 0.8588, 0.7569, 0.7020, 0.6706, 0.7176, 0.7686,\n",
              "           0.8000, 0.8235, 0.8353, 0.8118, 0.8275, 0.8235, 0.7843, 0.7686,\n",
              "           0.7608, 0.7490, 0.7647, 0.7490, 0.7765, 0.7529, 0.6902, 0.6118,\n",
              "           0.6549, 0.6941, 0.8235, 0.3608],\n",
              "          [0.0000, 0.0000, 0.2902, 0.7412, 0.8314, 0.7490, 0.6863, 0.6745,\n",
              "           0.6863, 0.7098, 0.7255, 0.7373, 0.7412, 0.7373, 0.7569, 0.7765,\n",
              "           0.8000, 0.8196, 0.8235, 0.8235, 0.8275, 0.7373, 0.7373, 0.7608,\n",
              "           0.7529, 0.8471, 0.6667, 0.0000],\n",
              "          [0.0078, 0.0000, 0.0000, 0.0000, 0.2588, 0.7843, 0.8706, 0.9294,\n",
              "           0.9373, 0.9490, 0.9647, 0.9529, 0.9569, 0.8667, 0.8627, 0.7569,\n",
              "           0.7490, 0.7020, 0.7137, 0.7137, 0.7098, 0.6902, 0.6510, 0.6588,\n",
              "           0.3882, 0.2275, 0.0000, 0.0000],\n",
              "          [0.0000, 0.0000, 0.0000, 0.0000, 0.0000, 0.0000, 0.0000, 0.1569,\n",
              "           0.2392, 0.1725, 0.2824, 0.1608, 0.1373, 0.0000, 0.0000, 0.0000,\n",
              "           0.0000, 0.0000, 0.0000, 0.0000, 0.0000, 0.0000, 0.0000, 0.0000,\n",
              "           0.0000, 0.0000, 0.0000, 0.0000],\n",
              "          [0.0000, 0.0000, 0.0000, 0.0000, 0.0000, 0.0000, 0.0000, 0.0000,\n",
              "           0.0000, 0.0000, 0.0000, 0.0000, 0.0000, 0.0000, 0.0000, 0.0000,\n",
              "           0.0000, 0.0000, 0.0000, 0.0000, 0.0000, 0.0000, 0.0000, 0.0000,\n",
              "           0.0000, 0.0000, 0.0000, 0.0000],\n",
              "          [0.0000, 0.0000, 0.0000, 0.0000, 0.0000, 0.0000, 0.0000, 0.0000,\n",
              "           0.0000, 0.0000, 0.0000, 0.0000, 0.0000, 0.0000, 0.0000, 0.0000,\n",
              "           0.0000, 0.0000, 0.0000, 0.0000, 0.0000, 0.0000, 0.0000, 0.0000,\n",
              "           0.0000, 0.0000, 0.0000, 0.0000]]]),\n",
              " 9)"
            ]
          },
          "metadata": {},
          "execution_count": 166
        }
      ]
    },
    {
      "cell_type": "code",
      "source": [
        "class_names = train_data.classes\n",
        "class_names\n",
        "train_data.classes[label]"
      ],
      "metadata": {
        "colab": {
          "base_uri": "https://localhost:8080/",
          "height": 35
        },
        "id": "iQqFJRvEZ6Et",
        "outputId": "69ca268c-62ac-4966-e89b-2cb49e80a74f"
      },
      "execution_count": 167,
      "outputs": [
        {
          "output_type": "execute_result",
          "data": {
            "text/plain": [
              "'Ankle boot'"
            ],
            "application/vnd.google.colaboratory.intrinsic+json": {
              "type": "string"
            }
          },
          "metadata": {},
          "execution_count": 167
        }
      ]
    },
    {
      "cell_type": "code",
      "source": [
        "class_to_idx = train_data.class_to_idx\n",
        "class_to_idx"
      ],
      "metadata": {
        "colab": {
          "base_uri": "https://localhost:8080/"
        },
        "id": "Vweqw3ceaPxI",
        "outputId": "61c5c223-1fb9-45d2-cc27-a54657b84d91"
      },
      "execution_count": 168,
      "outputs": [
        {
          "output_type": "execute_result",
          "data": {
            "text/plain": [
              "{'T-shirt/top': 0,\n",
              " 'Trouser': 1,\n",
              " 'Pullover': 2,\n",
              " 'Dress': 3,\n",
              " 'Coat': 4,\n",
              " 'Sandal': 5,\n",
              " 'Shirt': 6,\n",
              " 'Sneaker': 7,\n",
              " 'Bag': 8,\n",
              " 'Ankle boot': 9}"
            ]
          },
          "metadata": {},
          "execution_count": 168
        }
      ]
    },
    {
      "cell_type": "code",
      "source": [
        "train_data.targets"
      ],
      "metadata": {
        "colab": {
          "base_uri": "https://localhost:8080/"
        },
        "id": "WC5v2xp4ahqz",
        "outputId": "43a585ef-5d9d-4b21-e93a-60bc4a75e87c"
      },
      "execution_count": 169,
      "outputs": [
        {
          "output_type": "execute_result",
          "data": {
            "text/plain": [
              "tensor([9, 0, 0,  ..., 3, 0, 5])"
            ]
          },
          "metadata": {},
          "execution_count": 169
        }
      ]
    },
    {
      "cell_type": "code",
      "source": [
        "# checkthe shape of our images\n",
        "\n",
        "image.shape, label"
      ],
      "metadata": {
        "colab": {
          "base_uri": "https://localhost:8080/"
        },
        "id": "2CiZVn10amjj",
        "outputId": "0e538aef-52a0-47d2-8644-83a03b4f0e00"
      },
      "execution_count": 170,
      "outputs": [
        {
          "output_type": "execute_result",
          "data": {
            "text/plain": [
              "(torch.Size([1, 28, 28]), 9)"
            ]
          },
          "metadata": {},
          "execution_count": 170
        }
      ]
    },
    {
      "cell_type": "markdown",
      "source": [
        "#### visualizing random samples of data"
      ],
      "metadata": {
        "id": "QX9jBMbcbHrB"
      }
    },
    {
      "cell_type": "code",
      "source": [
        "%matplotlib inline"
      ],
      "metadata": {
        "id": "2-DZn0V3asYu"
      },
      "execution_count": 171,
      "outputs": []
    },
    {
      "cell_type": "code",
      "source": [
        "image , label = train_data[0]\n",
        "print(f\"image shape: {image.shape}, label: {label}\")"
      ],
      "metadata": {
        "colab": {
          "base_uri": "https://localhost:8080/"
        },
        "id": "sBgLsf7ybs0R",
        "outputId": "008e1c65-5945-4bcb-e342-5e1c295f5728"
      },
      "execution_count": 172,
      "outputs": [
        {
          "output_type": "stream",
          "name": "stdout",
          "text": [
            "image shape: torch.Size([1, 28, 28]), label: 9\n"
          ]
        }
      ]
    },
    {
      "cell_type": "code",
      "source": [
        "plt.imshow(image.squeeze())\n",
        "plt.title(train_data.classes[label])\n",
        "plt.show()"
      ],
      "metadata": {
        "colab": {
          "base_uri": "https://localhost:8080/",
          "height": 452
        },
        "id": "z8z9JHqXbx8l",
        "outputId": "290666be-f82b-496e-8aca-e5999b6c0e00"
      },
      "execution_count": 173,
      "outputs": [
        {
          "output_type": "display_data",
          "data": {
            "text/plain": [
              "<Figure size 640x480 with 1 Axes>"
            ],
            "image/png": "[encoded data removed]"
          },
          "metadata": {}
        }
      ]
    },
    {
      "cell_type": "code",
      "source": [
        "plt.imshow(image.squeeze(),cmap=\"gray\")\n",
        "plt.title(train_data.classes[label])\n",
        "plt.axis(False)\n",
        "plt.show()"
      ],
      "metadata": {
        "colab": {
          "base_uri": "https://localhost:8080/",
          "height": 428
        },
        "id": "kJ6c3yExb67d",
        "outputId": "46abba86-7a8c-45e0-b765-72e3bbc4988d"
      },
      "execution_count": 174,
      "outputs": [
        {
          "output_type": "display_data",
          "data": {
            "text/plain": [
              "<Figure size 640x480 with 1 Axes>"
            ],
            "image/png": "[encoded data removed]"
          },
          "metadata": {}
        }
      ]
    },
    {
      "cell_type": "code",
      "source": [
        "# plot more images\n",
        "#torch.manual_seed(42)\n",
        "fig = plt.figure(figsize=(9,9))\n",
        "for i in range(9):\n",
        "    random_idx = torch.randint(0,len(train_data),(1,)).item()\n",
        "    image, label = train_data[random_idx]\n",
        "    fig.add_subplot(3,3,i+1)\n",
        "    plt.imshow(image.squeeze(),cmap=\"gray\")\n",
        "    plt.title(train_data.classes[label])\n",
        "    plt.axis(False)\n",
        "plt.show()"
      ],
      "metadata": {
        "colab": {
          "base_uri": "https://localhost:8080/",
          "height": 752
        },
        "id": "iUPAdxF7cTZ0",
        "outputId": "b790aa89-393a-4009-fce7-f3d486f2fb82"
      },
      "execution_count": 175,
      "outputs": [
        {
          "output_type": "display_data",
          "data": {
            "text/plain": [
              "<Figure size 900x900 with 9 Axes>"
            ],
            "image/png": "[encoded data removed]"
          },
          "metadata": {}
        }
      ]
    },
    {
      "cell_type": "markdown",
      "source": [
        "### prepare data loader\n",
        "right now , our data is in form of pytorch datasets\n",
        "dataloaser turns our dataset into a pytoython iterable.\n",
        "\n",
        "more specifically , we want to trn our data into batches or mini-batches.\n",
        "why would we do this ?\n",
        "\n",
        "1. it is more computationally efficent , as in your computing hardawre may not be alble to lok ( sotre in memory) at 6000 image in oione hit . so we break it down to 32 images at a tme ( batch size of 32)\n",
        "2. it gives our neural network more chances to update ints gradient per epoch\n"
      ],
      "metadata": {
        "id": "Q_mIMtNAeBfG"
      }
    },
    {
      "cell_type": "code",
      "source": [
        "from torch.utils.data import DataLoader\n",
        "\n",
        "# setup teh batchsize hyperparameter\n",
        "BATCH_SIZE = 32\n",
        "# turn datasets into iterables (batches)\n",
        "\n",
        "train_dataloader = DataLoader(\n",
        "    train_data,\n",
        "    batch_size=BATCH_SIZE,\n",
        "    shuffle=True,\n",
        "    num_workers=1,# numbers of cores to use for this case i have set it to 1\n",
        "    pin_memory=True\n",
        ")\n",
        "test_dataloader = DataLoader(\n",
        "    test_data,\n",
        "    batch_size=BATCH_SIZE,\n",
        "    shuffle=False,\n",
        "    num_workers=1,\n",
        "    pin_memory=True\n",
        ")\n"
      ],
      "metadata": {
        "id": "w1j71-rFdQ9T"
      },
      "execution_count": 176,
      "outputs": []
    },
    {
      "cell_type": "code",
      "source": [
        "#lets check out waht weve created\n",
        "print(f\"Dataloader: {train_dataloader}\\nLength: {len(train_dataloader)}\\nType: {type(train_dataloader)}\")\n",
        "print(f\"Dataloader: {test_dataloader}\\nLength: {len(test_dataloader)}\\nType: {type(test_dataloader)}\")\n"
      ],
      "metadata": {
        "colab": {
          "base_uri": "https://localhost:8080/"
        },
        "id": "uYWm6qyQgqzq",
        "outputId": "2531a661-a45e-432b-dc9f-2d916458abcb"
      },
      "execution_count": 177,
      "outputs": [
        {
          "output_type": "stream",
          "name": "stdout",
          "text": [
            "Dataloader: <torch.utils.data.dataloader.DataLoader object at 0x7d817c63f880>\n",
            "Length: 1875\n",
            "Type: <class 'torch.utils.data.dataloader.DataLoader'>\n",
            "Dataloader: <torch.utils.data.dataloader.DataLoader object at 0x7d817c63d1e0>\n",
            "Length: 313\n",
            "Type: <class 'torch.utils.data.dataloader.DataLoader'>\n"
          ]
        }
      ]
    },
    {
      "cell_type": "code",
      "source": [
        "# show a sample\n",
        "#torch.manual_seed(42)\n",
        "random_idx = torch.randint(0,len(train_data),(1,)).item()\n",
        "image, label = train_data[random_idx]\n",
        "print(f\"image shape: {image.shape}, label: {label}\")\n",
        "# plot the image\n",
        "plt.imshow(image.squeeze(),cmap=\"gray\")\n",
        "plt.title(train_data.classes[label])\n",
        "plt.axis(False)\n",
        "plt.show()\n"
      ],
      "metadata": {
        "colab": {
          "base_uri": "https://localhost:8080/",
          "height": 445
        },
        "id": "qGIr4Xdhg6fr",
        "outputId": "c4fb0d3a-b631-4504-eff8-95bd4069f61f"
      },
      "execution_count": 178,
      "outputs": [
        {
          "output_type": "stream",
          "name": "stdout",
          "text": [
            "image shape: torch.Size([1, 28, 28]), label: 3\n"
          ]
        },
        {
          "output_type": "display_data",
          "data": {
            "text/plain": [
              "<Figure size 640x480 with 1 Axes>"
            ],
            "image/png": "[encoded data removed]"
          },
          "metadata": {}
        }
      ]
    },
    {
      "cell_type": "code",
      "source": [
        "images, labels = next(iter(train_dataloader))\n",
        "\n",
        "# Create the grid of images\n",
        "grid_img = torchvision.utils.make_grid(images)\n",
        "\n",
        "# Display the grid\n",
        "plt.imshow(grid_img.permute(1, 2, 0))  # permute to change channel order for matplotlib\n",
        "plt.title('Sample Images from FashionMNIST')\n",
        "plt.axis('off')\n",
        "plt.show()\n"
      ],
      "metadata": {
        "id": "17pXH23HqCES",
        "outputId": "168b3ea0-73f8-4c99-8eee-6dfee92b48d9",
        "colab": {
          "base_uri": "https://localhost:8080/",
          "height": 309
        }
      },
      "execution_count": 181,
      "outputs": [
        {
          "output_type": "display_data",
          "data": {
            "text/plain": [
              "<Figure size 640x480 with 1 Axes>"
            ],
            "image/png": "[encoded data removed]"
          },
          "metadata": {}
        }
      ]
    },
    {
      "cell_type": "markdown",
      "source": [
        "## creating a baseline with tow linear layers\n",
        "\n",
        "when staring to build a series of machine leanring modellign exprements , tis best practice to start with a baseline model.\n",
        "\n",
        "in other words  start simply and add complexity when necessary .\n",
        "\n"
      ],
      "metadata": {
        "id": "rk8FZVcYi0Qz"
      }
    },
    {
      "cell_type": "code",
      "source": [
        "# create a flatten layer\n",
        "flatten_layer = nn.Flatten()\n",
        "output = flatten_layer(image)\n",
        "output.shape\n",
        "print(\"output beforflattening\",image.shape)\n",
        "print(\"output afterflattening\",output)"
      ],
      "metadata": {
        "id": "5MbKDJHwh1F7"
      },
      "execution_count": null,
      "outputs": []
    },
    {
      "cell_type": "code",
      "source": [
        "from torch import nn\n",
        "class FashioMNISTModelV0(nn.Module):\n",
        "    def __init__(self,input_shape:int,hidden_units:int,output_shape:int):\n",
        "        super().__init__()\n",
        "        self.layer_stack = nn.Sequential(\n",
        "            nn.Flatten(),\n",
        "            nn.Linear(in_features=input_shape,out_features=hidden_units),\n",
        "            nn.Linear(in_features=hidden_units,out_features=output_shape)\n",
        "        )\n",
        "    def forward(self,x:torch.Tensor):\n",
        "        return self.layer_stack(x)\n",
        "\n",
        "\n"
      ],
      "metadata": {
        "id": "N0c3i0bNX15Y"
      },
      "execution_count": null,
      "outputs": []
    },
    {
      "cell_type": "code",
      "source": [
        "torch.manual_seed(42)\n",
        "device = \"cuda\" if torch.cuda.is_available() else \"cpu\"\n",
        "# setup model with input parameters\n",
        "\n",
        "model_0 = FashioMNISTModelV0(\n",
        "    input_shape=28*28,\n",
        "    hidden_units=10,\n",
        "    output_shape=len(class_names) # one for every class\n",
        ").to(device)\n",
        "\n",
        "model_0.to(device)\n",
        "model_0"
      ],
      "metadata": {
        "id": "nkbNqp0qZ8lG"
      },
      "execution_count": null,
      "outputs": []
    },
    {
      "cell_type": "code",
      "source": [
        "dummy_x = torch.rand((1,28,28))\n",
        "dummy_x.shape\n",
        "model_0(dummy_x.to(device))\n"
      ],
      "metadata": {
        "id": "0RhXHI47aiCs"
      },
      "execution_count": null,
      "outputs": []
    },
    {
      "cell_type": "markdown",
      "source": [
        "### setyp loss optimzer and evaluation metrics\n",
        "\n",
        "* loss function - snce were working with multiclass data, our loss funtion will be `nn.CrossEntropyLoss()`\n",
        "* optimizer -our optimzer `torch.optim.SGD`\n",
        "* evaluteion metric - since were workign on a classifcion broblem we are going to use accurary score\n",
        "\n"
      ],
      "metadata": {
        "id": "79xYaIgAbrhG"
      }
    },
    {
      "cell_type": "code",
      "source": [
        "\n",
        "import requests\n",
        "from pathlib import Path\n",
        "\n",
        "# Download helper functions from Learn PyTorch repo\n",
        "if Path(\"helper_functions.py\").is_file():\n",
        "  print(\"helper_functions.py already exists, skipping download...\")\n",
        "else:\n",
        "  print(\"Downloading helper_functions.py\")\n",
        "  request = requests.get(\"https://raw.githubusercontent.com/mrdbourke/pytorch-deep-learning/main/helper_functions.py\")\n",
        "  with open(\"helper_functions.py\", \"wb\") as f:\n",
        "    f.write(request.content)\n"
      ],
      "metadata": {
        "id": "cQfNEU4XayED"
      },
      "execution_count": null,
      "outputs": []
    },
    {
      "cell_type": "code",
      "source": [
        "# import accurary matric\n",
        "from helper_functions import accuracy_fn\n",
        "\n",
        "# setup loss funtion and optimzer\n",
        "loss_fn = nn.CrossEntropyLoss()\n",
        "\n",
        "optimizer = torch.optim.SGD(params=model_0.parameters(),lr=0.1)\n",
        "\n"
      ],
      "metadata": {
        "id": "TT367fMvc5xF"
      },
      "execution_count": null,
      "outputs": []
    },
    {
      "cell_type": "markdown",
      "source": [
        "### creating a funtion to time our expreriments\n",
        "machine learning is very exprimental\n",
        "model perforamce( loss and accuracy values) and hos fat it runs\n",
        "|"
      ],
      "metadata": {
        "id": "gw-rzbjbgGpy"
      }
    },
    {
      "cell_type": "code",
      "source": [
        "from timeit import default_timer as timer\n",
        "from tqdm.auto import tqdm\n",
        "\n",
        "def print_train_time(start: float, end: float, device: torch.device = None):\n",
        "    \"\"\"Prints difference between start and end time.\n",
        "\n",
        "    Args:\n",
        "    start (float): Start time of computation (preferred in timeit format).\n",
        "    end (float): End time of computation.\n",
        "    device ([type], optional): Device that compute is running on. Defaults to None.\n",
        "\n",
        "    If device is None, use \"CPU\".\n",
        "    \"\"\"\n",
        "    total_time = end - start\n",
        "    print(f\"Train time on {device}: {total_time:.3f} seconds\")\n",
        "    return total_time\n"
      ],
      "metadata": {
        "id": "Y8DI_6_jfa_Z"
      },
      "execution_count": null,
      "outputs": []
    },
    {
      "cell_type": "markdown",
      "source": [
        "### creating a training loop and traingin a model on batchesof data\n",
        "\n",
        "\n",
        "1. loop throught epoces.\n",
        "2. loop throught traingin batches, perform triangin steps , calculate teh train loss *per batch* .\n",
        "3. loop thorugh tesing batches, perform tasting stpes, claclute the test loss\n",
        "\n",
        "4. prnt out what happeing\n",
        "5. time it all ( for fun )"
      ],
      "metadata": {
        "id": "xCA49Dnl9YlA"
      }
    },
    {
      "source": [
        "# import tqdm for the progress bar\n",
        "\n",
        "from tqdm.auto import tqdm\n",
        "\n",
        "# set the seed adn start the timer\n",
        "\n",
        "torch.manual_seed(42)\n",
        "train_time_start_on_cpu = timer()\n",
        "# set the number of epocs( wer keep this small for fater traiing time)\n",
        "epochs = 3\n",
        "\n",
        "# create traing and test loop\n",
        "for epoch in tqdm(range(epochs)):\n",
        "  print(f\"Epoch:{epoch}\\n........\")\n",
        "  # traing\n",
        "  train_loss = 0\n",
        "  # add a loop to loop thorouth the traing batches\n",
        "  for  batch, (X,y) in enumerate(train_dataloader):\n",
        "    model_0.train()\n",
        "    ## forward pass\n",
        "    y_pred = model_0(X.to(device))\n",
        "    loss = loss_fn(y_pred,y.to(device))\n",
        "    train_loss += loss\n",
        "    ## optimizer zero grad\n",
        "    optimizer.zero_grad()\n",
        "    ## loss backward\n",
        "    loss.backward()\n",
        "    ## optimizer step\n",
        "    optimizer.step()\n",
        "\n",
        "    # print out what happening\n",
        "    if batch % 400 == 0:\n",
        "      print(f\"Looked at {batch*len(X)}/{len(train_dataloader.dataset)} samples\")\n",
        "  # divde total train loss by length of train dataloader\n",
        "  train_loss = train_loss / len(train_dataloader)\n",
        "\n",
        "  ## TESING\n",
        "  test_loss = 0\n",
        "  model_0.eval()\n",
        "  with torch.inference_mode():\n",
        "    for X,y in test_dataloader:\n",
        "      test_pred = model_0(X.to(device))\n",
        "      loss = loss_fn(test_pred,y.to(device))\n",
        "      test_loss += loss\n",
        "    # Calculate average test loss within inference mode\n",
        "    # This avoids the inplace update error\n",
        "    test_loss = test_loss / len(test_dataloader)\n",
        "  ## print out what happend\n",
        "  print(f\"Train loss: {train_loss:.5f} | Test loss: {test_loss:.5f}\")\n",
        "\n",
        "  # print out waht happeing\n",
        "  print(f\"Epoch: {epoch+1} | Train Loss: {train_loss:.5f} | Test Loss: {test_loss:.5f}\")\n",
        "  # cacluatte training time\n",
        "  train_time_end_on_cpu = timer()\n",
        "  total_train_time_model_0 = print_train_time(start=train_time_start_on_cpu, end=train_time_end_on_cpu, device=device)\n",
        "  # for now it is cpu for now i will change later to GPU so kepp that in mind"
      ],
      "cell_type": "code",
      "metadata": {
        "id": "3FxuDMfgEf3g"
      },
      "execution_count": null,
      "outputs": []
    },
    {
      "source": [],
      "cell_type": "code",
      "metadata": {
        "id": "cWgQqAXiCSgL"
      },
      "execution_count": null,
      "outputs": []
    },
    {
      "cell_type": "code",
      "source": [
        "str(next(model_0.parameters()).device)"
      ],
      "metadata": {
        "id": "CrIphY_FB8mK"
      },
      "execution_count": null,
      "outputs": []
    },
    {
      "cell_type": "markdown",
      "source": [
        "## make predictins and get model 0 results"
      ],
      "metadata": {
        "id": "qzh-1zD7CbZ7"
      }
    },
    {
      "cell_type": "code",
      "source": [
        "torch.manual_seed(42)\n",
        "def eval_model(model: torch.nn.Module,data_loader: torch.utils.data.DataLoader,loss_fn: torch.nn.Module,accuracy_fn,device: torch.device = device):\n",
        "  loss, acc = 0, 0\n",
        "  model.eval()\n",
        "  with torch.inference_mode():\n",
        "    for X, y in data_loader:\n",
        "      X, y = X.to(device), y.to(device)\n",
        "      y_pred = model(X)\n",
        "      loss += loss_fn(y_pred, y)\n",
        "      acc += accuracy_fn(y_true=y,\n",
        "                         y_pred=y_pred.argmax(dim=1))\n",
        "      loss /= len(data_loader)\n",
        "      acc /= len(data_loader)\n",
        "  return {\"model_name\": model.__class__.__name__, # this only workds when model was created by class\n",
        "          \"model_loss\": loss.item(),\n",
        "          \"model_acc\": acc}\n",
        "\n",
        "\n",
        "\n",
        "# cacluate model 0 results on the dataset\n",
        "model_0_results = eval_model(model=model_0,\n",
        "                              data_loader=test_dataloader,\n",
        "                              loss_fn=loss_fn,\n",
        "                              accuracy_fn=accuracy_fn,\n",
        "                              device=device)\n",
        "model_0_results\n",
        "\n",
        "\n",
        "\n",
        "\n"
      ],
      "metadata": {
        "id": "YZ1PrrYREDrz"
      },
      "execution_count": null,
      "outputs": []
    },
    {
      "cell_type": "code",
      "source": [
        "device"
      ],
      "metadata": {
        "id": "0MdoxitMEhkP"
      },
      "execution_count": null,
      "outputs": []
    },
    {
      "cell_type": "markdown",
      "source": [
        "### MOdel 1 buind a model with non linearity\n",
        "\n",
        "we learned about the power of non linearity\n"
      ],
      "metadata": {
        "id": "DPKNjp1-MoWx"
      }
    },
    {
      "cell_type": "code",
      "source": [
        "import torch\n",
        "from torch import nn\n",
        "\n",
        "# create a model with non lieanr and linear layer\n",
        "\n",
        "class FashionMNISTModelV1(nn.Module):\n",
        "  def __init__(self,input_shape:int,hidden_units:int,output_shape:int):\n",
        "    super().__init__()\n",
        "    self.layer_stack = nn.Sequential(\n",
        "      nn.Flatten(),\n",
        "      nn.Linear(in_features=input_shape,out_features=hidden_units),\n",
        "      nn.ReLU(),\n",
        "      nn.Linear(in_features=hidden_units,out_features=hidden_units), # Changed: Using hidden_units instead of undefined 'output'\n",
        "      nn.ReLU(),\n",
        "      nn.Linear(in_features=hidden_units,out_features=output_shape)\n",
        "    )\n",
        "  def forward(self,x:torch.Tensor):\n",
        "    return self.layer_stack(x)"
      ],
      "metadata": {
        "id": "hTljVeLtMtNn"
      },
      "execution_count": null,
      "outputs": []
    },
    {
      "cell_type": "code",
      "source": [
        "# create an instance of model_1\n",
        "\n",
        "torch.manual_seed(42)\n",
        "model_1 = FashionMNISTModelV1(input_shape=784,\n",
        "                                hidden_units=10,\n",
        "                                output_shape=len(class_names)).to(device)\n",
        ""
      ],
      "metadata": {
        "id": "HB-kyywnN7Dh"
      },
      "execution_count": null,
      "outputs": []
    },
    {
      "source": [
        "next(model_1.parameters()).device"
      ],
      "cell_type": "code",
      "metadata": {
        "id": "eIl7Gq8fOlbW"
      },
      "execution_count": null,
      "outputs": []
    },
    {
      "cell_type": "code",
      "source": [
        "# create a loss funtion, optimzer and evalation metrics\n",
        "\n",
        "from helper_functions import accuracy_fn\n",
        "\n",
        "loss_fn = nn.CrossEntropyLoss()# measure how wrong our model is\n",
        "\n",
        "optimizer = torch.optim.SGD(params=model_1.parameters(),lr=0.1) # try to change the parameter of our model to reduce the loss please dont forget that\n",
        "\n"
      ],
      "metadata": {
        "id": "E-_S-yf3OTfZ"
      },
      "execution_count": null,
      "outputs": []
    },
    {
      "cell_type": "markdown",
      "source": [
        "### funtionaizing traing and evaluaitn and evalutin/tesing loops\n",
        "\n",
        "* funtion for training - train_step()\n",
        "\n",
        "* testng loop test_step()\n"
      ],
      "metadata": {
        "id": "rTqJsFz4O38y"
      }
    },
    {
      "cell_type": "code",
      "source": [
        "\n",
        "def train_step(model: torch.nn.Module,\n",
        "                dataloader: torch.utils.data.DataLoader,\n",
        "                loss_fn: torch.nn.Module,\n",
        "                optimizer: torch.optim.Optimizer,\n",
        "                accuracy_fn,\n",
        "                device: torch.device = device):\n",
        "  model.train()\n",
        "  train_loss, train_acc = 0, 0\n",
        "  for batch, (X, y) in enumerate(dataloader):\n",
        "    X, y = X.to(device), y.to(device)\n",
        "    y_pred = model(X)\n",
        "    loss = loss_fn(y_pred, y)\n",
        "    train_loss += loss\n",
        "    train_acc += accuracy_fn(y_true=y,\n",
        "                             y_pred=y_pred.argmax(dim=1))\n",
        "    optimizer.zero_grad()\n",
        "    loss.backward()\n",
        "    optimizer.step()\n",
        "  train_loss /= len(dataloader)\n",
        "  train_acc /= len(dataloader)\n",
        "  print(f\"Looked at {batch * len(X)}/{len(dataloader.dataset)} samples\")\n",
        "  return {\"model_name\": model.__class__.__name__,\n",
        "          \"model_loss\": train_loss.item(),\n",
        "          \"model_acc\": train_acc}\n",
        "\n",
        "\n",
        "\n",
        "def test_step(model: torch.nn.Module,\n",
        "              dataloader: torch.utils.data.DataLoader,\n",
        "              loss_fn: torch.nn.Module,\n",
        "              accuracy_fn,\n",
        "              device: torch.device = device):\n",
        "  model.eval()\n",
        "  test_loss, test_acc = 0, 0\n",
        "  with torch.inference_mode():\n",
        "    for X, y in dataloader:\n",
        "      X, y = X.to(device), y.to(device)\n",
        "      test_pred = model(X)\n",
        "      loss = loss_fn(test_pred, y)\n",
        "      test_loss += loss_fn(model(X), y)\n",
        "      test_acc += accuracy_fn(y_true=y,\n",
        "                               y_pred=model(X).argmax(dim=1))\n",
        "    test_loss /= len(dataloader)\n",
        "    test_acc /= len(dataloader)\n",
        "    print(f\"Test loss:{test_loss:.5f} test accurary{test_acc:.5f}\")\n",
        "  return {\"model_name\": model.__class__.__name__,\n",
        "          \"model_loss\": test_loss.item(),\n",
        "          \"model_acc\": test_acc}\n"
      ],
      "metadata": {
        "id": "898X4MLJPzEz"
      },
      "execution_count": null,
      "outputs": []
    },
    {
      "cell_type": "code",
      "source": [
        "torch.manual_seed(42)\n",
        "\n",
        "# measure time\n",
        "from timeit import default_timer as timer\n",
        "\n",
        "train_time_end_on_gpu = timer()\n",
        "\n",
        "# set epochs\n",
        "\n",
        "epochs = 3\n",
        "\n",
        "# create a potimizaton and evalutiaon loop uisng train_step() and test_step()\n",
        "\n",
        "\n",
        "for epoch in tqdm(range(epochs)):\n",
        "  print(f\"Epoch: {epoch}\\n---------\")\n",
        "  train_time_start_on_gpu = timer()\n",
        "  train_step(model=model_1,\n",
        "              dataloader=train_dataloader,\n",
        "              loss_fn=loss_fn,\n",
        "              optimizer=optimizer,\n",
        "              accuracy_fn=accuracy_fn,\n",
        "              device=device)\n",
        "\n",
        "  test_step(model=model_1,\n",
        "              dataloader=test_dataloader,\n",
        "              loss_fn=loss_fn,\n",
        "              accuracy_fn=accuracy_fn,\n",
        "              device=device)\n",
        "  print(f\"Train time: {train_time_end_on_gpu - train_time_start_on_gpu}\")\n",
        "  train_time_end_on_gpu = timer()\n",
        "  total_train_time_model_1 = print_train_time(start=train_time_start_on_gpu, end=train_time_end_on_gpu, device=device)\n",
        "\n",
        "\n",
        ""
      ],
      "metadata": {
        "id": "LGkTw5DjTlXw"
      },
      "execution_count": null,
      "outputs": []
    },
    {
      "cell_type": "code",
      "source": [
        "model_1_results = eval_model(model=model_1,\n",
        "                              data_loader=test_dataloader,\n",
        "                              loss_fn=loss_fn,\n",
        "                              accuracy_fn=accuracy_fn,\n",
        "                              device=device)\n",
        "model_1_results # something is wrong here"
      ],
      "metadata": {
        "id": "23mJKDPIVh3d"
      },
      "execution_count": null,
      "outputs": []
    },
    {
      "cell_type": "markdown",
      "source": [
        "### buinding convolutional neural netowork (CNN)\n",
        "\n",
        "cnns are known for thier capabilities to learn pattern in visual data\n",
        "\n",
        "a convolutional neurlal network (CNN) is a type of deep learnign architecture specifcally designed for processing grid-like data such as images. its arcitecure is composed of several keylayers\n",
        "\n",
        "1. CONVOLUTIONAL LAYER:\n",
        "  - filters: the code of CNNs , filter ( or kernels) are samll matrices tha slide over the input image, performing element-wise multiplicaion and summation.\n",
        "  - featur extraction: filters extract specific features from the input image, such as edges , ocrnders or textures.\n",
        "  - activation function: a non linear function like RELU is applied to inroduce non linearity and imporve the networks ability to learn complex patterns\n",
        "2. poolint layer:\n",
        "  - downstampling: reduces the spatial dimensinas of the feature maps , therby reducing computaional cost and preventing overfitting.\n",
        "  - feature preservation: preserves the most important features extrated by the convolutional layers.\n",
        "  - common types: max pooling and average pooling are the most common types\n",
        "\n",
        "3. fully connected layer:\n",
        "  - classifcaion : connects all neuraons in the previous layer to every neuron in the current layer.\n",
        "  - decision making : performs classificaon or regression taks by mapping the high level features extracted by the convolutional and pooling layers to output classes or values.\n",
        "\n",
        "\n",
        "\n",
        "#### key concepts\n",
        "\n",
        "- feature maps : the output of a convolutional layer, representing the activation of filters at different positions in the input image.\n",
        "- stride: the number of pixes by whcih the filter si shifted in each step.\n",
        "- padding: adding zeros around the input image to control the output size of the convolutional layer.\n",
        "- depth : the number of filters applied to the input image.\n",
        "\n",
        "\n",
        "#### advanced CNN architectures:\n",
        "\n",
        "- leNet-5: one of hte eariles CNN architecures, used for digit recongnition.\n",
        "\n",
        "- AlexNet: a deeper CNN that introduced the use of RELU activaion and dropout .\n",
        "\n",
        "- VGGNet: knwon for its simple archtecture with multiple convolutional laeyrs stacked together .\n",
        "- GoogleLeNet(inception): Uses inception modules to efficiently extract features at multiple scales.\n",
        "- ResNet: Incorporates residucal connections to enable traing deepr networks.\n",
        "- DenseNet: connects each layer to every other layer in a feed -fowrad manner.\n",
        "\n"
      ],
      "metadata": {
        "id": "t_p20d6EYlth"
      }
    },
    {
      "cell_type": "code",
      "source": [
        "# create a convolutional nearual network\n",
        "class FashionMNISTModelV2(nn.Module):\n",
        "  def __init__(self,input_shape:int,hidden_units:int,output_shape:int):\n",
        "    super().__init__()\n",
        "    self.conv_block_1 = nn.Sequential(\n",
        "        nn.Conv2d(in_channels=input_shape,\n",
        "                   out_channels=hidden_units,\n",
        "                   kernel_size=3,\n",
        "                   stride=1,\n",
        "                   padding=1),\n",
        "        nn.ReLU(),\n",
        "        nn.Conv2d(in_channels=hidden_units,\n",
        "                   out_channels=hidden_units,\n",
        "                   kernel_size=3,\n",
        "                   stride=1,\n",
        "                   padding=1),\n",
        "        nn.ReLU(),\n",
        "        nn.MaxPool2d(kernel_size=2,\n",
        "                     stride=2)\n",
        "    )\n",
        "    self.conv_block_2 = nn.Sequential(\n",
        "        nn.Conv2d(in_channels=hidden_units,\n",
        "                   out_channels=hidden_units,\n",
        "                   kernel_size=3,\n",
        "                   padding=1),\n",
        "        nn.ReLU(),\n",
        "        nn.Conv2d(in_channels=hidden_units,\n",
        "                   out_channels=hidden_units,\n",
        "                   kernel_size=3,\n",
        "                   padding=1),\n",
        "        nn.ReLU(),\n",
        "        nn.MaxPool2d(2)\n",
        "    )\n",
        "    self.classifier = nn.Sequential(\n",
        "        nn.Flatten(),\n",
        "        nn.Linear(in_features=hidden_units*7*7,\n",
        "                  out_features=output_shape)\n",
        "    )\n",
        "  def forward(self,x:torch.Tensor):\n",
        "    x = self.conv_block_1(x)\n",
        "    x = self.conv_block_2(x)\n",
        "    x = self.classifier(x)\n",
        "    return x\n",
        "\n",
        "\n"
      ],
      "metadata": {
        "id": "4oGO58EXWUXE"
      },
      "execution_count": null,
      "outputs": []
    },
    {
      "cell_type": "code",
      "source": [
        "torch.manual_seed(42)\n",
        "\n",
        "model_2 = FashionMNISTModelV2(input_shape=1,\n",
        "                                hidden_units=10,\n",
        "                                output_shape=len(class_names)).to(device)\n",
        ""
      ],
      "metadata": {
        "id": "qriFvClHiilw"
      },
      "execution_count": null,
      "outputs": []
    },
    {
      "cell_type": "markdown",
      "source": [
        "### stepping thorugh nn.conv2d"
      ],
      "metadata": {
        "id": "shxdI_Rfi6XD"
      }
    },
    {
      "cell_type": "code",
      "source": [],
      "metadata": {
        "id": "xQB9Baxmjj80"
      },
      "execution_count": null,
      "outputs": []
    }
  ]
}