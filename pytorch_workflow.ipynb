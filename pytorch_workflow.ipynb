{
  "nbformat": 4,
  "nbformat_minor": 0,
  "metadata": {
    "colab": {
      "provenance": [],
      "gpuType": "T4",
      "authorship_tag": "ABX9TyMVG4OaUIZUyWpAn1uBCBIc",
      "include_colab_link": true
    },
    "kernelspec": {
      "name": "python3",
      "display_name": "Python 3"
    },
    "language_info": {
      "name": "python"
    },
    "accelerator": "GPU"
  },
  "cells": [
    {
      "cell_type": "markdown",
      "metadata": {
        "id": "view-in-github",
        "colab_type": "text"
      },
      "source": [
        "<a href=\"https://colab.research.google.com/github/lewisnjue/AI/blob/main/pytorch_workflow.ipynb\" target=\"_parent\"><img src=\"https://colab.research.google.com/assets/colab-badge.svg\" alt=\"Open In Colab\"/></a>"
      ]
    },
    {
      "cell_type": "markdown",
      "source": [
        "# pytorch workflow\n",
        "\n",
        "this is one of the workflow that you can follow:\n",
        "- get data ready ( turn into tensors )\n",
        "- build or pick a pretrained model( to suit your problem )\n",
        "\n",
        "- fit the model to the data and make a prediction\n",
        "- evaluate your model\n",
        "- imporve thorught expremaentaion\n",
        "- save and reload your train model\n",
        "\n",
        "## what_were_convering\n",
        "\n",
        "1. data ( prepare and load)\n",
        "1. build model\n",
        "1. fitting the model to data ( training )\n",
        "1. making predictions and evaluating a model ( inference )\n",
        "1. saving and load a model\n",
        "1. putting it all together\n"
      ],
      "metadata": {
        "id": "XO_CjE938poS"
      }
    },
    {
      "cell_type": "code",
      "execution_count": 28,
      "metadata": {
        "id": "rFEcTZY48YEI"
      },
      "outputs": [],
      "source": [
        "import torch\n",
        "from torch import nn ## nn contains all of pytorch building blocks of nerual networks\n",
        "import numpy as np\n",
        "import matplotlib.pyplot as plt\n",
        "%matplotlib inline\n"
      ]
    },
    {
      "cell_type": "code",
      "source": [
        "\n",
        "torch.__version__"
      ],
      "metadata": {
        "colab": {
          "base_uri": "https://localhost:8080/",
          "height": 35
        },
        "id": "HYlTvlj5-18O",
        "outputId": "8ec6ff60-ac69-4913-8781-dd636162d7cf"
      },
      "execution_count": 29,
      "outputs": [
        {
          "output_type": "execute_result",
          "data": {
            "text/plain": [
              "'2.5.0+cu121'"
            ],
            "application/vnd.google.colaboratory.intrinsic+json": {
              "type": "string"
            }
          },
          "metadata": {},
          "execution_count": 29
        }
      ]
    },
    {
      "cell_type": "code",
      "source": [
        "torch.cuda.is_available()"
      ],
      "metadata": {
        "colab": {
          "base_uri": "https://localhost:8080/"
        },
        "id": "NsgbCMPW_CXl",
        "outputId": "c7d89f65-bddc-4d90-d7c3-a5d1cd11620c"
      },
      "execution_count": 30,
      "outputs": [
        {
          "output_type": "execute_result",
          "data": {
            "text/plain": [
              "True"
            ]
          },
          "metadata": {},
          "execution_count": 30
        }
      ]
    },
    {
      "cell_type": "code",
      "source": [
        "device = \"cuda\" if torch.cuda.is_available() else \"cpu\"\n",
        "device"
      ],
      "metadata": {
        "colab": {
          "base_uri": "https://localhost:8080/",
          "height": 35
        },
        "id": "D_lyJCVq_FMK",
        "outputId": "60263a3d-5820-45f2-f936-6042ae57a5db"
      },
      "execution_count": 31,
      "outputs": [
        {
          "output_type": "execute_result",
          "data": {
            "text/plain": [
              "'cuda'"
            ],
            "application/vnd.google.colaboratory.intrinsic+json": {
              "type": "string"
            }
          },
          "metadata": {},
          "execution_count": 31
        }
      ]
    },
    {
      "cell_type": "markdown",
      "source": [
        "## preparing and loading data\n",
        "\n",
        "data can be almost anythign in amchine learning\n",
        "* excel speadsheet\n",
        "* videos\n",
        "* images of any kind\n",
        "* audio like songs or podcasts\n",
        "* text\n",
        "\n",
        "Machine leaning is a game of two parts:\n",
        "1. get dat into a numberical representaion\n",
        "2. buidl a model to learn pattersn in the numerical representaion\n",
        "\n",
        "to showcase this , lets create some *known* data usign the linear regression formula\n",
        "\n",
        "well use a linear regression formuat to make a straight line with *known* **parameters**\n"
      ],
      "metadata": {
        "id": "ZGqhWkSj_NBp"
      }
    },
    {
      "cell_type": "code",
      "source": [
        "# create *known* parameters\n",
        "weight = 0.7\n",
        "bias = 0.3\n",
        "\n",
        "# create\n",
        "start = 0\n",
        "end = 1\n",
        "step = 0.02\n",
        "X = torch.arange(start, end, step).unsqueeze(dim=1)\n",
        "y = weight * X + bias\n",
        "## splitting dat into train and test set one fo the most important concept in machine learning\n",
        "\n",
        "train_split = int(0.8 * len(X))\n",
        "X_train, y_train = X[:train_split], y[:train_split]\n",
        "X_test, y_test = X[train_split:], y[train_split:]"
      ],
      "metadata": {
        "id": "FD1B2uiZ_Hwo"
      },
      "execution_count": 32,
      "outputs": []
    },
    {
      "cell_type": "code",
      "source": [
        "len(X_train), len(X_test), len(y_train), len(y_test)"
      ],
      "metadata": {
        "colab": {
          "base_uri": "https://localhost:8080/"
        },
        "id": "CgzLjxqKB7KO",
        "outputId": "e6b49522-3125-465f-d5b4-834799383819"
      },
      "execution_count": 33,
      "outputs": [
        {
          "output_type": "execute_result",
          "data": {
            "text/plain": [
              "(40, 10, 40, 10)"
            ]
          },
          "metadata": {},
          "execution_count": 33
        }
      ]
    },
    {
      "cell_type": "code",
      "source": [
        "X_train,y_train"
      ],
      "metadata": {
        "colab": {
          "base_uri": "https://localhost:8080/"
        },
        "id": "52FBux0TDWfo",
        "outputId": "64f462ec-42e2-407b-f114-88c3e11850f4"
      },
      "execution_count": 34,
      "outputs": [
        {
          "output_type": "execute_result",
          "data": {
            "text/plain": [
              "(tensor([[0.0000],\n",
              "         [0.0200],\n",
              "         [0.0400],\n",
              "         [0.0600],\n",
              "         [0.0800],\n",
              "         [0.1000],\n",
              "         [0.1200],\n",
              "         [0.1400],\n",
              "         [0.1600],\n",
              "         [0.1800],\n",
              "         [0.2000],\n",
              "         [0.2200],\n",
              "         [0.2400],\n",
              "         [0.2600],\n",
              "         [0.2800],\n",
              "         [0.3000],\n",
              "         [0.3200],\n",
              "         [0.3400],\n",
              "         [0.3600],\n",
              "         [0.3800],\n",
              "         [0.4000],\n",
              "         [0.4200],\n",
              "         [0.4400],\n",
              "         [0.4600],\n",
              "         [0.4800],\n",
              "         [0.5000],\n",
              "         [0.5200],\n",
              "         [0.5400],\n",
              "         [0.5600],\n",
              "         [0.5800],\n",
              "         [0.6000],\n",
              "         [0.6200],\n",
              "         [0.6400],\n",
              "         [0.6600],\n",
              "         [0.6800],\n",
              "         [0.7000],\n",
              "         [0.7200],\n",
              "         [0.7400],\n",
              "         [0.7600],\n",
              "         [0.7800]]),\n",
              " tensor([[0.3000],\n",
              "         [0.3140],\n",
              "         [0.3280],\n",
              "         [0.3420],\n",
              "         [0.3560],\n",
              "         [0.3700],\n",
              "         [0.3840],\n",
              "         [0.3980],\n",
              "         [0.4120],\n",
              "         [0.4260],\n",
              "         [0.4400],\n",
              "         [0.4540],\n",
              "         [0.4680],\n",
              "         [0.4820],\n",
              "         [0.4960],\n",
              "         [0.5100],\n",
              "         [0.5240],\n",
              "         [0.5380],\n",
              "         [0.5520],\n",
              "         [0.5660],\n",
              "         [0.5800],\n",
              "         [0.5940],\n",
              "         [0.6080],\n",
              "         [0.6220],\n",
              "         [0.6360],\n",
              "         [0.6500],\n",
              "         [0.6640],\n",
              "         [0.6780],\n",
              "         [0.6920],\n",
              "         [0.7060],\n",
              "         [0.7200],\n",
              "         [0.7340],\n",
              "         [0.7480],\n",
              "         [0.7620],\n",
              "         [0.7760],\n",
              "         [0.7900],\n",
              "         [0.8040],\n",
              "         [0.8180],\n",
              "         [0.8320],\n",
              "         [0.8460]]))"
            ]
          },
          "metadata": {},
          "execution_count": 34
        }
      ]
    },
    {
      "cell_type": "code",
      "source": [
        "def plot_predictions(train_data=X_train,\n",
        "                    train_labels=y_train,\n",
        "                    test_data=X_test,\n",
        "                    test_labels=y_test,\n",
        "                    predictions=None):\n",
        "    \"\"\"\n",
        "    plot trainig data and predictions\n",
        "    \"\"\"\n",
        "    plt.figure(figsize=(10,7))\n",
        "    # plot training data in blue\n",
        "    plt.scatter(train_data, train_labels, c=\"b\", s=4, label=\"training data\")\n",
        "    # plot test data in green\n",
        "    plt.scatter(test_data, test_labels, c=\"g\", s=4, label=\"test data\")\n",
        "    if predictions is not None:\n",
        "        # plot predictions in red\n",
        "        plt.scatter(test_data, predictions, c=\"r\", s=4, label=\"predictions\")\n",
        "    plt.legend(prop={\"size\":14})\n",
        "    plt.show()\n"
      ],
      "metadata": {
        "id": "kmlYjFukD7ee"
      },
      "execution_count": 35,
      "outputs": []
    },
    {
      "cell_type": "code",
      "source": [
        "plot_predictions()"
      ],
      "metadata": {
        "colab": {
          "base_uri": "https://localhost:8080/",
          "height": 599
        },
        "id": "VLrJBlfGFKOr",
        "outputId": "11c85646-f427-4691-f5d3-624061829228"
      },
      "execution_count": 36,
      "outputs": [
        {
          "output_type": "display_data",
          "data": {
            "text/plain": [
              "<Figure size 1000x700 with 1 Axes>"
            ],
            "image/png": "[encoded data removed]"
          },
          "metadata": {}
        }
      ]
    },
    {
      "cell_type": "markdown",
      "source": [
        "## builng model\n",
        "our first pytorch model\n",
        "this is very existing lets do it ...\n",
        "\n",
        "* start with ranodm values ( weights and bias )\n",
        "* look at training data and adjust the ranodm values to better represent ( or get closer to ) the ideal values ( the weight and bias values we used to create the data )\n",
        "* how does it do so ?\n",
        "through two main algorithms:\n",
        "1. grdient descent\n",
        "2. backpropagraion"
      ],
      "metadata": {
        "id": "jM4oi6NuF980"
      }
    },
    {
      "cell_type": "code",
      "source": [
        "# CReate a linear regresion model class\n",
        "class LinearRegressionModelV1(nn.Module): # alomost everythign in pytorch inherit form nn.model\n",
        "    def __init__(self):\n",
        "        super().__init__()\n",
        "        # use nn.Linear()\n",
        "        # initialze model parameter to be used in various computetaions ( these could different layer fro torch , nn,single parameter , hard coded values or fuctions )\n",
        "\n",
        "        self.weights = nn.Parameter(torch.randn(1,requires_grad=True, dtype=torch.float))\n",
        "        self.bias = nn.Parameter(torch.randn(1,requires_grad=True, dtype=torch.float))\n",
        "        # requires_grad=True means pytorch will track the gradients of this specific paramteter for use with torch .autograd and gradient descent ( for mahny torch.nn.modules , requres_grad=True si set by default )\n",
        "\n",
        "\n",
        "        # forward method to define teh computraion in the model\n",
        "        # any subclass of nn.module needs to overdie forward() this defines forward comutaion of the model\n",
        "    def forward(self,x: torch.Tensor) -> torch.Tensor: # x is the input data\n",
        "        return self.weights * x + self.bias # this is teh linear regression formula\n"
      ],
      "metadata": {
        "id": "kyAQ68mHFOFr"
      },
      "execution_count": 37,
      "outputs": []
    },
    {
      "cell_type": "markdown",
      "source": [
        "#### pytorch model buiding essentilas\n",
        "* torch.nn - contains all of the buildig for compuraiton graphs\n",
        "*  torch.nn.parameter - what parameter should our model try and learn , often a pytorch layer form\n",
        "\n",
        "* torch.nn.module the base class for all nerual netwrok moduel\n",
        "* torch.optim - this is where the optirmzers in pytorhc liive , they will help in gradient decend  \n",
        "* def forward() - all nn.module subcalasses rqurre you to overwrite forward() ,\n",
        "* torhc.utils.data.Dataset presents a map between key ( label ) and sample ( features ) pairs of yoru data such as images and their assocaiated lables\n",
        "* torch.utils.data.DataLoader creates a python iterable over a torch Dataset ( allows you to iterate over your data )\n",
        "\n"
      ],
      "metadata": {
        "id": "A4CihK3fNCDR"
      }
    },
    {
      "cell_type": "markdown",
      "source": [
        "### checking the contents of our pytorch model\n",
        "now weve created a model , lets see whats inside...\n",
        "sowe can checkout our model parameter or what inside our model usign `.paramerters()`\n"
      ],
      "metadata": {
        "id": "M9Ov-yYZrKo_"
      }
    },
    {
      "cell_type": "code",
      "source": [
        "## create a ranodm seed\n",
        "torch.manual_seed(42)\n",
        "\n",
        "\n",
        "## create an instance an instance of model ( this is a subscall of nn.Module)\n",
        "model_0 = LinearRegressionModelV1()\n",
        "#model_0 = model_0.to(device)\n",
        "# checkout the parameters\n",
        "list(model_0.parameters())"
      ],
      "metadata": {
        "id": "3rjbxb0mKu3R",
        "colab": {
          "base_uri": "https://localhost:8080/"
        },
        "outputId": "66a4e80d-ddec-47e3-b911-208914627334"
      },
      "execution_count": 38,
      "outputs": [
        {
          "output_type": "execute_result",
          "data": {
            "text/plain": [
              "[Parameter containing:\n",
              " tensor([0.3367], requires_grad=True),\n",
              " Parameter containing:\n",
              " tensor([0.1288], requires_grad=True)]"
            ]
          },
          "metadata": {},
          "execution_count": 38
        }
      ]
    },
    {
      "cell_type": "code",
      "source": [
        "# list name parameters\n",
        "model_0.state_dict()"
      ],
      "metadata": {
        "colab": {
          "base_uri": "https://localhost:8080/"
        },
        "id": "ipToA1GfsI4b",
        "outputId": "f8208c54-442c-42fe-cdb2-1724c9d1378f"
      },
      "execution_count": 39,
      "outputs": [
        {
          "output_type": "execute_result",
          "data": {
            "text/plain": [
              "OrderedDict([('weights', tensor([0.3367])), ('bias', tensor([0.1288]))])"
            ]
          },
          "metadata": {},
          "execution_count": 39
        }
      ]
    },
    {
      "cell_type": "code",
      "source": [
        "weight,bias"
      ],
      "metadata": {
        "colab": {
          "base_uri": "https://localhost:8080/"
        },
        "id": "469agJ68suvy",
        "outputId": "fd36daf4-bc50-4103-af8b-05f52ffb04aa"
      },
      "execution_count": 40,
      "outputs": [
        {
          "output_type": "execute_result",
          "data": {
            "text/plain": [
              "(0.7, 0.3)"
            ]
          },
          "metadata": {},
          "execution_count": 40
        }
      ]
    },
    {
      "cell_type": "markdown",
      "source": [
        "\n",
        "\n",
        "### making predicitn using `torch.inference_mode()`\n",
        "to check our model`s prediction power  let seehow ell it predicts `y_test` based on `X-test`\n",
        "when we pass data thourth our model , it going to runit thorugh the forward method\n",
        "\n"
      ],
      "metadata": {
        "id": "ptYqnNpHtdIA"
      }
    },
    {
      "cell_type": "code",
      "source": [
        "# make predicions with model\n",
        "with torch.inference_mode():\n",
        "    y_preds = model_0(X_test)\n",
        "    y_preds\n",
        "\n",
        "y_preds\n",
        "\n"
      ],
      "metadata": {
        "colab": {
          "base_uri": "https://localhost:8080/"
        },
        "id": "24PcCoQCs7Ih",
        "outputId": "3654bc80-e2e2-4ea9-94c4-984f37bbed52"
      },
      "execution_count": 41,
      "outputs": [
        {
          "output_type": "execute_result",
          "data": {
            "text/plain": [
              "tensor([[0.3982],\n",
              "        [0.4049],\n",
              "        [0.4116],\n",
              "        [0.4184],\n",
              "        [0.4251],\n",
              "        [0.4318],\n",
              "        [0.4386],\n",
              "        [0.4453],\n",
              "        [0.4520],\n",
              "        [0.4588]])"
            ]
          },
          "metadata": {},
          "execution_count": 41
        }
      ]
    },
    {
      "cell_type": "code",
      "source": [
        "plot_predictions(predictions=y_preds)"
      ],
      "metadata": {
        "colab": {
          "base_uri": "https://localhost:8080/",
          "height": 599
        },
        "id": "b4KaQQF3uSmk",
        "outputId": "087d139d-caaf-498a-e2cc-feb5522eb6c9"
      },
      "execution_count": 42,
      "outputs": [
        {
          "output_type": "display_data",
          "data": {
            "text/plain": [
              "<Figure size 1000x700 with 1 Axes>"
            ],
            "image/png": "[encoded data removed]"
          },
          "metadata": {}
        }
      ]
    },
    {
      "cell_type": "code",
      "source": [
        "# y_preds = model_0(X_test) # this is another way to do the same\n"
      ],
      "metadata": {
        "id": "SXgPEz84vFuC"
      },
      "execution_count": 43,
      "outputs": []
    },
    {
      "cell_type": "code",
      "source": [
        "y_preds"
      ],
      "metadata": {
        "colab": {
          "base_uri": "https://localhost:8080/"
        },
        "id": "d2zrrzC7vV8H",
        "outputId": "4c2112b7-3411-4bc4-ebf2-9970308facc3"
      },
      "execution_count": 44,
      "outputs": [
        {
          "output_type": "execute_result",
          "data": {
            "text/plain": [
              "tensor([[0.3982],\n",
              "        [0.4049],\n",
              "        [0.4116],\n",
              "        [0.4184],\n",
              "        [0.4251],\n",
              "        [0.4318],\n",
              "        [0.4386],\n",
              "        [0.4453],\n",
              "        [0.4520],\n",
              "        [0.4588]])"
            ]
          },
          "metadata": {},
          "execution_count": 44
        }
      ]
    },
    {
      "cell_type": "code",
      "source": [
        "''' with torch.no_grad():\n",
        "    y_preds = model_0(X_test)  ''' #-> this is another way but not recommended"
      ],
      "metadata": {
        "colab": {
          "base_uri": "https://localhost:8080/",
          "height": 35
        },
        "id": "ux2Bhcp-vYol",
        "outputId": "12e3ce26-1bf7-450f-8714-cd6ebb07b927"
      },
      "execution_count": 45,
      "outputs": [
        {
          "output_type": "execute_result",
          "data": {
            "text/plain": [
              "' with torch.no_grad():\\n    y_preds = model_0(X_test)  '"
            ],
            "application/vnd.google.colaboratory.intrinsic+json": {
              "type": "string"
            }
          },
          "metadata": {},
          "execution_count": 45
        }
      ]
    },
    {
      "cell_type": "markdown",
      "source": [
        "### train model\n",
        "teh whoel ideal of traingin is for a model to move from unknown parameer to someknown parameter\n",
        "or in other workds froma poor representaion of the dat to a better represetnaion of the data\n",
        "one way to measrue how poor or how wrong your model predtionc are is to use a loss fuction\n",
        "* note : loss fuciton may also be called const fucion or createron in different aras . for our case were going to refer to it as a loss fuction\n",
        "\n",
        "* *loss fuciton * a fuction to measure how wrong yoru model predtion are to the ideal output so lower is better\n",
        "\n",
        "* *optimizer* takes into account hte loss of a model and adjust the model parameter to imporvie the loss fuction and specifically for pytorch , we need:\n",
        "* a training loop\n",
        "* testing loop\n"
      ],
      "metadata": {
        "id": "o2lRqcNZwsVJ"
      }
    },
    {
      "cell_type": "code",
      "source": [
        "list(model_0.parameters())\n"
      ],
      "metadata": {
        "colab": {
          "base_uri": "https://localhost:8080/"
        },
        "id": "MZqk5HfBwOiq",
        "outputId": "8c386215-5b1b-406f-c9cc-327d09d7c939"
      },
      "execution_count": 46,
      "outputs": [
        {
          "output_type": "execute_result",
          "data": {
            "text/plain": [
              "[Parameter containing:\n",
              " tensor([0.3367], requires_grad=True),\n",
              " Parameter containing:\n",
              " tensor([0.1288], requires_grad=True)]"
            ]
          },
          "metadata": {},
          "execution_count": 46
        }
      ]
    },
    {
      "cell_type": "code",
      "source": [
        "model_0.state_dict()"
      ],
      "metadata": {
        "colab": {
          "base_uri": "https://localhost:8080/"
        },
        "id": "E67NFbOYx23H",
        "outputId": "20e66912-97f1-4f5a-fb46-1c7e440c962c"
      },
      "execution_count": 47,
      "outputs": [
        {
          "output_type": "execute_result",
          "data": {
            "text/plain": [
              "OrderedDict([('weights', tensor([0.3367])), ('bias', tensor([0.1288]))])"
            ]
          },
          "metadata": {},
          "execution_count": 47
        }
      ]
    },
    {
      "cell_type": "markdown",
      "source": [
        "l1loss -> creates a creterison that measure mesn absolute error between each element in the input x and the target y .\n"
      ],
      "metadata": {
        "id": "-KXQxqRWzRlL"
      }
    },
    {
      "cell_type": "code",
      "source": [
        "# setup a loss fuction\n",
        "loss_fn = nn.L1Loss()\n",
        "\n",
        "# set up an optimizer\n",
        "\n",
        "optimizer = torch.optim.SGD(params=model_0.parameters(),\n",
        "                            lr=0.01) # lr = learning rate the most imporatant hyperparameter you can check\n",
        "\n"
      ],
      "metadata": {
        "id": "irbS4zqZx4df"
      },
      "execution_count": 48,
      "outputs": []
    },
    {
      "cell_type": "markdown",
      "source": [
        "## building a trainint loop in pytorch and a testing loop\n",
        "a couple of things we need in  a training loop\n",
        "0. loop throuth the data\n",
        "1. forward pass ( this involves dat moving thourhg our data `forward()` functions ) - also called forwrard propagation\n",
        "2. calculate the loss ( compare forward pass predictiosn to groudp truth lables )\n",
        "3. optimizer zero grad\n",
        "4. loss backward - move backward thourght the network to cacluate the gradient of each of the parameter of your modle with respect to the loss\n",
        "(**backpropagation**)\n",
        "5. optiizer step - use the optmizer to adjust the parameter to reduce the loss (**gradient descent**)\n"
      ],
      "metadata": {
        "id": "teXHcDXdGkAm"
      }
    },
    {
      "cell_type": "code",
      "source": [],
      "metadata": {
        "id": "4KwCOGdjKiKS"
      },
      "execution_count": 48,
      "outputs": []
    },
    {
      "cell_type": "markdown",
      "source": [
        "#### propagation:\n",
        "* the term propagation refers to the process of passing information forward and backward throught a neural network during trainng .\n",
        "* fowrad proparation is when inputs pass through the network to produce predictions\n",
        "* backward propagatioon ( offen callad backpropagation ) cacluates gradients of the loss function with respenct to the weight s by moving from the output layer back to the input layer . this si key to understanding how much each weight contirubuted to the error , enablign their adjustment to minimize the error\n",
        "\n",
        "#### optimization (optimizer )\n",
        "- an optimizer is the algorithm that uses these gradients to adjust the models parameter like weights to minimize the loss function , common optimizers include stochastic gradient descent (SGD) adam and rmsprop .\n",
        "\n",
        "- optimizers apply these gradients in a way that gradually imporves teh model , which is known as gradient descent .\n",
        "the optimzier itself is not called propagation , rather it sues the gradients obtained thorugh backpropagation to perform updates that minimize the loss .\n",
        "\n",
        "\n",
        "## epochs  and hyperparameter\n",
        "```py\n",
        "epochs = 1\n",
        "```\n",
        "- epochs: an epoch is one complete pass throght the entire trainign dataset . this is a hyperparameter , meaning its values we decide and set before training starts ratehr thatn one that the model learns .\n",
        "\n",
        "- settings epochs = 1 means our model will train over the data jsut once in this example\n",
        "\n",
        "## the traingin loop\n",
        "for epoch in range(epochs):\n",
        "\n",
        "- we start a loop that will iterate throuth the specified number of epochse , ehre epochs is set to 1 , so this loop will only run once .\n",
        "\n",
        "- in practice we often set epochs to a much larger number to train a model more extensively\n",
        "\n",
        "## traingg mode\n",
        "\n",
        "model_0.train() # sets the model to traingin mode\n",
        "\n",
        "- model_0.train(): thsi fucntion set the model in training mode in pytorch , this command affects certian layers like `Dropout` and `BatchNorm` , which behae differently during training and evaluation .\n",
        "\n",
        "  - Dropout layer: Dropout randomly turns off a fraction of neurons during traing to prevent overfittig . in evaluatio mode , it uses the ful network .\n",
        "  - Batch Normalizaion layers: these normize the inputs in mini-batches . i training mode . tehy compute statistics dynamically based on each batch , while in evaluation , they use the entire datasets stastics .\n",
        "\n",
        "## forward pass\n",
        "\n",
        "y_pred = model_0(x_train)\n",
        "\n",
        "- forward pass : this step invloves passing inputs data , X_trian , throuth the model to get predictions y_pred .\n",
        "\n",
        "- here , model_0(X_train) is shorhad for feedint X_train throughteach layer in model_0 to compute the models output\n",
        "\n",
        "## cacluating the loss\n",
        "loss = loss_fn(y_pred,y_train)\n",
        "\n",
        "- loss caculation: the loss_fn funcion mesures how well the models predictsion , y_pred, match the actual layesr , y_train .\n",
        "\n",
        "- loss funtion differbased on the task . for example for regression tasks , we often use Mean Squread Error , while in calssification , we might use Cross ENtropy loss .\n",
        "\n",
        "- the result , loss represetns the error or disrepancy between predciotns and actual values .\n",
        "## zeroing out gradients\n",
        "\n",
        "optimzer.zero_grad()\n",
        "\n",
        "- zero Gradeints : in pytorch , gradeitns accumulate by default. so , to prevent accumulation from previous steps we call optimzer.zero_grad() at the beginning of eachoptimization step.\n",
        "- this clearys any gradistens calcuated int eh last pass , ensuraing each backward pass gives only the gradients for the current step .\n",
        "\n",
        "##  backward pass ( cacluating gradiens )\n",
        "\n",
        "loss.backward()\n",
        "- backward pass : this step computes the gradients of the loss with respect to teach model parameter ( like weights and biease )\n",
        "- loss.backward() performs backpropagation , which works by applying the chain rule to propagat eh erro backward thorght the network\n",
        "- each parameter in teh model ( eg weights ) now has a gradient which tell use the derection and magnitue  to adjust the parameter to minimize the loss.\n",
        "\n",
        "## optimization step( updating parametes )\n",
        "\n",
        "optimzer.step()\n",
        "- optimzer step: the optimzier uses the gradients cacluated in teh backward pass to adjsut the models parameters .\n",
        "- this is where gradient descent comes in , as the optimzer ( eg SGD, Adam )\n",
        "- by default , pytorch accumulates these gradients , whcih is why we zero them ut at the beginning of eachloop\n",
        "\n",
        "## explanation of model_0.eval()\n",
        "\n",
        "model_0.eval()  # set the model to evalution mdoe\n",
        "\n",
        "- evaluation mode : after trainign when evaluating the mdoel on validation or test data , we set model_0.eval() . this switches the mode to evaltion mode, which freezes layesr like Dropout and batch normilization to use fixed values .\n",
        "\n",
        "- eval() ensures consisntent and reliable results when tesing , as it diesables behaviours specific to traing like randomly dropping neurons with dropout .\n",
        "\n",
        "each of these steps plays a critical role in training and optimizing the mdoel effectively\n",
        "\n"
      ],
      "metadata": {
        "id": "6LlKQFl7oVJh"
      }
    },
    {
      "cell_type": "code",
      "source": [
        "# an epch is one loop throuth the data ...( this is a hyperparemeter because weve set it ourself)\n",
        "## Training\n",
        "epochs = 100000\n",
        "## loop throuth the data\n",
        "for epoch in range(epochs):\n",
        "  # set the model to triaign mode\n",
        "    model_0.train() # train set allparamter require gradient\n",
        "    # Forward pass\n",
        "    y_pred = model_0(X_train)\n",
        "    # calculate the loss\n",
        "    loss = loss_fn(y_pred, y_train)\n",
        "    #print(\"loss\",loss)\n",
        "    # optimzer zero grad\n",
        "    optimizer.zero_grad()\n",
        "    # loss backward\n",
        "    loss.backward()\n",
        "    # optimizer step\n",
        "    optimizer.step() # bt defaht how th optimzer changes iwll accumualte thourgh the loop so we have to zer them above ...\n",
        "    ## testing\n",
        "model_0.eval() # turns off gradient tracking\n",
        "\n",
        "with torch.inference_mode(): # turns off gradietn tracking & couple more thisng behidn the since\n",
        "# you may also see torh.no_grad() in order code\n",
        "    #> do forward pass\n",
        "    test_pred = model_0(X_test)\n",
        "    #> cacluate the loss\n",
        "    test_loss = loss_fn(test_pred, y_test)\n",
        "    print(f\"Epoch: {epoch} | Loss: {loss} | Test loss: {test_loss}\")\n",
        "\n",
        "# print out model state_dict()\n",
        "\n"
      ],
      "metadata": {
        "colab": {
          "base_uri": "https://localhost:8080/"
        },
        "id": "fWQWFkiCzysh",
        "outputId": "3bed5001-b171-4d3f-d98a-4f7203895d56"
      },
      "execution_count": 49,
      "outputs": [
        {
          "output_type": "stream",
          "name": "stdout",
          "text": [
            "Epoch: 99999 | Loss: 0.0025885067880153656 | Test loss: 0.008447891101241112\n"
          ]
        }
      ]
    },
    {
      "cell_type": "code",
      "source": [
        "model_0.state_dict() # check the weights and the bias"
      ],
      "metadata": {
        "colab": {
          "base_uri": "https://localhost:8080/"
        },
        "id": "rOywIB1Rw9eL",
        "outputId": "fc25d9a6-96e5-499c-b4ec-7242e82c28e5"
      },
      "execution_count": 50,
      "outputs": [
        {
          "output_type": "execute_result",
          "data": {
            "text/plain": [
              "OrderedDict([('weights', tensor([0.6990])), ('bias', tensor([0.3093]))])"
            ]
          },
          "metadata": {},
          "execution_count": 50
        }
      ]
    },
    {
      "cell_type": "code",
      "source": [
        "# lets now make some prediction\n",
        "\n",
        "with torch.inference_mode():\n",
        "    y_preds = model_0(X_test)\n",
        "    y_preds\n",
        "\n",
        "y_preds"
      ],
      "metadata": {
        "colab": {
          "base_uri": "https://localhost:8080/"
        },
        "id": "_62XhTWByAZ4",
        "outputId": "ec68d02d-bf03-43b8-ecd5-7e764e0be4f9"
      },
      "execution_count": 51,
      "outputs": [
        {
          "output_type": "execute_result",
          "data": {
            "text/plain": [
              "tensor([[0.8685],\n",
              "        [0.8825],\n",
              "        [0.8965],\n",
              "        [0.9105],\n",
              "        [0.9245],\n",
              "        [0.9384],\n",
              "        [0.9524],\n",
              "        [0.9664],\n",
              "        [0.9804],\n",
              "        [0.9944]])"
            ]
          },
          "metadata": {},
          "execution_count": 51
        }
      ]
    },
    {
      "cell_type": "code",
      "source": [
        "# prot preditions\n",
        "\n",
        "plot_predictions(predictions=y_preds) # now that is wonderful it has learned"
      ],
      "metadata": {
        "colab": {
          "base_uri": "https://localhost:8080/",
          "height": 599
        },
        "id": "-CLkC9B2zM6G",
        "outputId": "c9eb59c9-aa0c-4cf5-ede0-25fbcda5e1c8"
      },
      "execution_count": 52,
      "outputs": [
        {
          "output_type": "display_data",
          "data": {
            "text/plain": [
              "<Figure size 1000x700 with 1 Axes>"
            ],
            "image/png": "[encoded data removed]"
          },
          "metadata": {}
        }
      ]
    },
    {
      "cell_type": "markdown",
      "source": [
        "when you trian a neural network model again after it has alrady learned , it generally continues learning from where it left off rather tahn starting from scratch , provided you dont reset or reinitilaze the model parameters .\n",
        "\n",
        "## scenarios for re-traing\n",
        "\n",
        "- if you train a model for additional epochs withour resetting the weights , it wil start with the parametesr it already leaned . t is allows it to refine or imporve its predticons basedon the knowledge it ahs so far .\n",
        "\n",
        "- this si common in deep leanring workflows . for example , if you trained a model for 10 epochs and found that it could benefits from more epocs . the model will remember its current weights and build upon them .\n",
        "\n",
        "\n",
        "## fine tuning a pretrained model\n",
        "\n",
        "- in transfer leanring , we often use a pretrained model ( eg a neaural network trained on a large dataset like imageNet) and fine tune it for a specific task .the model retains its leaned knwledge ( such as recognizing geneeral sheps or pattersn ) andonly learns additional details or adapts to the new task .\n",
        "\n",
        "\n",
        "## resettign the model:\n",
        "\n",
        "- if you reinitialize th model weights , the model will start leanring from scratch with no priour knowledge . this is typically daone only if you want to restart traiign form the beginning . possiblly with new settisn or data.\n",
        "\n",
        "## how to control retraingin behaviour\n",
        "\n",
        "- saving and loading models : in frameworks like pytorch and tensorflow , you can save the models state after training and load it back in later , allowing teh model to contineu leanring from where it leaft off.\n",
        "\n",
        "- leaning rate adjustement: some times you may want to reduce the leanring rate if contiuign traingin to allow for fine adjustments as the model is already clse to as olution\n",
        "\n",
        "\n",
        "in summary , wheter a model starts form zero knowledge or builds on its curent knowldege depends on whether you reset its parametes .if not , it will continue to leanr from wehre ti left off."
      ],
      "metadata": {
        "id": "vuBfNOul3lxf"
      }
    },
    {
      "cell_type": "code",
      "source": [],
      "metadata": {
        "id": "87b7LyXezXLy"
      },
      "execution_count": 52,
      "outputs": []
    }
  ]
}