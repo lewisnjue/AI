{
  "nbformat": 4,
  "nbformat_minor": 0,
  "metadata": {
    "colab": {
      "provenance": [],
      "authorship_tag": "ABX9TyOWV8Yiw7K6HCGlzCCpcwkx",
      "include_colab_link": true
    },
    "kernelspec": {
      "name": "python3",
      "display_name": "Python 3"
    },
    "language_info": {
      "name": "python"
    }
  },
  "cells": [
    {
      "cell_type": "markdown",
      "metadata": {
        "id": "view-in-github",
        "colab_type": "text"
      },
      "source": [
        "<a href=\"https://colab.research.google.com/github/lewisnjue/AI/blob/main/pytorch_workflow.ipynb\" target=\"_parent\"><img src=\"https://colab.research.google.com/assets/colab-badge.svg\" alt=\"Open In Colab\"/></a>"
      ]
    },
    {
      "cell_type": "markdown",
      "source": [
        "# pytorch workflow\n",
        "\n",
        "this is one of the workflow that you can follow:\n",
        "- get data ready ( turn into tensors )\n",
        "- build or pick a pretrained model( to suit your problem )\n",
        "\n",
        "- fit the model to the data and make a prediction\n",
        "- evaluate your model\n",
        "- imporve thorught expremaentaion\n",
        "- save and reload your train model\n",
        "\n",
        "## what_were_convering\n",
        "\n",
        "1. data ( prepare and load)\n",
        "1. build model\n",
        "1. fitting the model to data ( training )\n",
        "1. making predictions and evaluating a model ( inference )\n",
        "1. saving and load a model\n",
        "1. putting it all together\n"
      ],
      "metadata": {
        "id": "XO_CjE938poS"
      }
    },
    {
      "cell_type": "code",
      "execution_count": 1,
      "metadata": {
        "id": "rFEcTZY48YEI"
      },
      "outputs": [],
      "source": [
        "import torch\n",
        "from torch import nn ## nn contains all of pytorch building blocks of nerual networks\n",
        "import numpy as np\n",
        "import matplotlib.pyplot as plt\n",
        "%matplotlib inline\n"
      ]
    },
    {
      "cell_type": "code",
      "source": [
        "torch.__version__"
      ],
      "metadata": {
        "colab": {
          "base_uri": "https://localhost:8080/",
          "height": 35
        },
        "id": "HYlTvlj5-18O",
        "outputId": "10f0e295-6a74-48b6-b182-f10dd1512549"
      },
      "execution_count": 2,
      "outputs": [
        {
          "output_type": "execute_result",
          "data": {
            "text/plain": [
              "'2.5.0+cu121'"
            ],
            "application/vnd.google.colaboratory.intrinsic+json": {
              "type": "string"
            }
          },
          "metadata": {},
          "execution_count": 2
        }
      ]
    },
    {
      "cell_type": "code",
      "source": [
        "torch.cuda.is_available()"
      ],
      "metadata": {
        "colab": {
          "base_uri": "https://localhost:8080/"
        },
        "id": "NsgbCMPW_CXl",
        "outputId": "13a8adce-d9f8-44fc-8916-dedadea21c81"
      },
      "execution_count": 3,
      "outputs": [
        {
          "output_type": "execute_result",
          "data": {
            "text/plain": [
              "False"
            ]
          },
          "metadata": {},
          "execution_count": 3
        }
      ]
    },
    {
      "cell_type": "code",
      "source": [
        "device = \"cuda\" if torch.cuda.is_available() else \"cpu\"\n",
        "device"
      ],
      "metadata": {
        "colab": {
          "base_uri": "https://localhost:8080/",
          "height": 35
        },
        "id": "D_lyJCVq_FMK",
        "outputId": "a8a6cac0-3cab-4835-909f-6fdfd3561240"
      },
      "execution_count": 4,
      "outputs": [
        {
          "output_type": "execute_result",
          "data": {
            "text/plain": [
              "'cpu'"
            ],
            "application/vnd.google.colaboratory.intrinsic+json": {
              "type": "string"
            }
          },
          "metadata": {},
          "execution_count": 4
        }
      ]
    },
    {
      "cell_type": "markdown",
      "source": [
        "## preparing and loading data\n",
        "\n",
        "data can be almost anythign in amchine learning\n",
        "* excel speadsheet\n",
        "* videos\n",
        "* images of any kind\n",
        "* audio like songs or podcasts\n",
        "* text\n",
        "\n",
        "Machine leaning is a game of two parts:\n",
        "1. get dat into a numberical representaion\n",
        "2. buidl a model to learn pattersn in the numerical representaion\n",
        "\n",
        "to showcase this , lets create some *known* data usign the linear regression formula\n",
        "\n",
        "well use a linear regression formuat to make a straight line with *known* **parameters**\n",
        ""
      ],
      "metadata": {
        "id": "ZGqhWkSj_NBp"
      }
    },
    {
      "cell_type": "code",
      "source": [
        "# create *known* parameters\n",
        "weight = 0.7\n",
        "bias = 0.3\n",
        "\n",
        "# create\n",
        "start = 0\n",
        "end = 1\n",
        "step = 0.02\n",
        "X = torch.arange(start, end, step).unsqueeze(dim=1)\n",
        "y = weight * X + bias\n",
        "## splitting dat into train and test set one fo the most important concept in machine learning\n",
        "\n",
        "train_split = int(0.8 * len(X))\n",
        "X_train, y_train = X[:train_split], y[:train_split]\n",
        "X_test, y_test = X[train_split:], y[train_split:]"
      ],
      "metadata": {
        "id": "FD1B2uiZ_Hwo"
      },
      "execution_count": 6,
      "outputs": []
    },
    {
      "cell_type": "code",
      "source": [
        "len(X_train), len(X_test), len(y_train), len(y_test)"
      ],
      "metadata": {
        "colab": {
          "base_uri": "https://localhost:8080/"
        },
        "id": "CgzLjxqKB7KO",
        "outputId": "e3f3a204-f65b-4a9e-adf3-36aa48891521"
      },
      "execution_count": 9,
      "outputs": [
        {
          "output_type": "execute_result",
          "data": {
            "text/plain": [
              "(40, 10, 40, 10)"
            ]
          },
          "metadata": {},
          "execution_count": 9
        }
      ]
    },
    {
      "cell_type": "code",
      "source": [
        "X_train,y_train"
      ],
      "metadata": {
        "colab": {
          "base_uri": "https://localhost:8080/"
        },
        "id": "52FBux0TDWfo",
        "outputId": "d6e9a0d1-00d8-43a3-edde-1b92a44d00be"
      },
      "execution_count": 10,
      "outputs": [
        {
          "output_type": "execute_result",
          "data": {
            "text/plain": [
              "(tensor([[0.0000],\n",
              "         [0.0200],\n",
              "         [0.0400],\n",
              "         [0.0600],\n",
              "         [0.0800],\n",
              "         [0.1000],\n",
              "         [0.1200],\n",
              "         [0.1400],\n",
              "         [0.1600],\n",
              "         [0.1800],\n",
              "         [0.2000],\n",
              "         [0.2200],\n",
              "         [0.2400],\n",
              "         [0.2600],\n",
              "         [0.2800],\n",
              "         [0.3000],\n",
              "         [0.3200],\n",
              "         [0.3400],\n",
              "         [0.3600],\n",
              "         [0.3800],\n",
              "         [0.4000],\n",
              "         [0.4200],\n",
              "         [0.4400],\n",
              "         [0.4600],\n",
              "         [0.4800],\n",
              "         [0.5000],\n",
              "         [0.5200],\n",
              "         [0.5400],\n",
              "         [0.5600],\n",
              "         [0.5800],\n",
              "         [0.6000],\n",
              "         [0.6200],\n",
              "         [0.6400],\n",
              "         [0.6600],\n",
              "         [0.6800],\n",
              "         [0.7000],\n",
              "         [0.7200],\n",
              "         [0.7400],\n",
              "         [0.7600],\n",
              "         [0.7800]]),\n",
              " tensor([[0.3000],\n",
              "         [0.3140],\n",
              "         [0.3280],\n",
              "         [0.3420],\n",
              "         [0.3560],\n",
              "         [0.3700],\n",
              "         [0.3840],\n",
              "         [0.3980],\n",
              "         [0.4120],\n",
              "         [0.4260],\n",
              "         [0.4400],\n",
              "         [0.4540],\n",
              "         [0.4680],\n",
              "         [0.4820],\n",
              "         [0.4960],\n",
              "         [0.5100],\n",
              "         [0.5240],\n",
              "         [0.5380],\n",
              "         [0.5520],\n",
              "         [0.5660],\n",
              "         [0.5800],\n",
              "         [0.5940],\n",
              "         [0.6080],\n",
              "         [0.6220],\n",
              "         [0.6360],\n",
              "         [0.6500],\n",
              "         [0.6640],\n",
              "         [0.6780],\n",
              "         [0.6920],\n",
              "         [0.7060],\n",
              "         [0.7200],\n",
              "         [0.7340],\n",
              "         [0.7480],\n",
              "         [0.7620],\n",
              "         [0.7760],\n",
              "         [0.7900],\n",
              "         [0.8040],\n",
              "         [0.8180],\n",
              "         [0.8320],\n",
              "         [0.8460]]))"
            ]
          },
          "metadata": {},
          "execution_count": 10
        }
      ]
    },
    {
      "cell_type": "code",
      "source": [
        "def plot_predictions(train_data=X_train,\n",
        "                    train_labels=y_train,\n",
        "                    test_data=X_test,\n",
        "                    test_labels=y_test,\n",
        "                    predictions=None):\n",
        "    \"\"\"\n",
        "    plot trainig data and predictions\n",
        "    \"\"\"\n",
        "    plt.figure(figsize=(10,7))\n",
        "    # plot training data in blue\n",
        "    plt.scatter(train_data, train_labels, c=\"b\", s=4, label=\"training data\")\n",
        "    # plot test data in green\n",
        "    plt.scatter(test_data, test_labels, c=\"g\", s=4, label=\"test data\")\n",
        "    if predictions is not None:\n",
        "        # plot predictions in red\n",
        "        plt.scatter(test_data, predictions, c=\"r\", s=4, label=\"predictions\")\n",
        "    plt.legend(prop={\"size\":14})\n",
        "    plt.show()\n",
        ""
      ],
      "metadata": {
        "id": "kmlYjFukD7ee"
      },
      "execution_count": 11,
      "outputs": []
    },
    {
      "cell_type": "code",
      "source": [
        "plot_predictions()"
      ],
      "metadata": {
        "colab": {
          "base_uri": "https://localhost:8080/",
          "height": 460
        },
        "id": "VLrJBlfGFKOr",
        "outputId": "dc21135c-d90e-4962-ed5c-d5b85fec8cf0"
      },
      "execution_count": 12,
      "outputs": [
        {
          "output_type": "display_data",
          "data": {
            "text/plain": [
              "<Figure size 1000x700 with 1 Axes>"
            ],
            "image/png": "[encoded data removed]"
          },
          "metadata": {}
        }
      ]
    },
    {
      "cell_type": "markdown",
      "source": [
        "## builng model\n",
        "our first pytorch model\n",
        "this is very existing lets do it ...\n",
        "\n",
        "* start with ranodm values ( weights and bias )\n",
        "* look at training data and adjust the ranodm values to better represent ( or get closer to ) the ideal values ( the weight and bias values we used to create the data )\n",
        "* how does it do so ?\n",
        "through two main algorithms:\n",
        "1. grdient descent\n",
        "2. backpropagraion"
      ],
      "metadata": {
        "id": "jM4oi6NuF980"
      }
    },
    {
      "cell_type": "code",
      "source": [
        "# CReate a linear regresion model class\n",
        "class LinearRegressionModelV1(nn.Module): # alomost everythign in pytorch inherit form nn.model\n",
        "    def __init__(self):\n",
        "        super().__init__()\n",
        "        # use nn.Linear()\n",
        "        # initialze model parameter to be used in various computetaions ( these could different layer fro torch , nn,single parameter , hard coded values or fuctions )\n",
        "\n",
        "        self.weights = nn.Parameter(torch.randn(1,requires_grad=True, dtype=torch.float))\n",
        "        self.bias = nn.Parameter(torch.randn(1,requires_grad=True, dtype=torch.float))\n",
        "        # requires_grad=True means pytorch will track the gradients of this specific paramteter for use with torch .autograd and gradient descent ( for mahny torch.nn.modules , requres_grad=True si set by default )\n",
        "\n",
        "\n",
        "        # forward method to define teh computraion in the model\n",
        "        # any subclass of nn.module needs to overdie forward() this defines forward comutaion of the model\n",
        "        def forward(self,x: torch.Tensor) -> torch.Tensor: # x is the input data\n",
        "            return self.weights * x + self.bias # this is teh linear regression formula\n"
      ],
      "metadata": {
        "id": "kyAQ68mHFOFr"
      },
      "execution_count": 13,
      "outputs": []
    },
    {
      "cell_type": "markdown",
      "source": [
        "#### pytorch model buiding essentilas\n",
        "* torch.nn - contains all of the buildig for compuraiton graphs\n",
        "*  torch.nn.parameter - what parameter should our model try and learn , often a pytorch layer form\n",
        "\n",
        "* torch.nn.module the base class for all nerual netwrok moduel\n",
        "* torch.optim - this is where the optirmzers in pytorhc liive , they will help in gradient decend  \n",
        "* def forward() - all nn.module subcalasses rqurre you to overwrite forward() ,\n",
        "* torhc.utils.data.Dataset presents a map between key ( label ) and sample ( features ) pairs of yoru data such as images and their assocaiated lables\n",
        "* torch.utils.data.DataLoader creates a python iterable over a torch Dataset ( allows you to iterate over your data )\n",
        "\n"
      ],
      "metadata": {
        "id": "A4CihK3fNCDR"
      }
    },
    {
      "cell_type": "code",
      "source": [],
      "metadata": {
        "id": "3rjbxb0mKu3R"
      },
      "execution_count": null,
      "outputs": []
    }
  ]
}