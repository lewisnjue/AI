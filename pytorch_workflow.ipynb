{
  "nbformat": 4,
  "nbformat_minor": 0,
  "metadata": {
    "colab": {
      "provenance": [],
      "authorship_tag": "ABX9TyP1B/8g1YVuQyQkjuH3ahCn",
      "include_colab_link": true
    },
    "kernelspec": {
      "name": "python3",
      "display_name": "Python 3"
    },
    "language_info": {
      "name": "python"
    }
  },
  "cells": [
    {
      "cell_type": "markdown",
      "metadata": {
        "id": "view-in-github",
        "colab_type": "text"
      },
      "source": [
        "<a href=\"https://colab.research.google.com/github/lewisnjue/AI/blob/main/pytorch_workflow.ipynb\" target=\"_parent\"><img src=\"https://colab.research.google.com/assets/colab-badge.svg\" alt=\"Open In Colab\"/></a>"
      ]
    },
    {
      "cell_type": "markdown",
      "source": [
        "# pytorch workflow\n",
        "\n",
        "this is one of the workflow that you can follow:\n",
        "- get data ready ( turn into tensors )\n",
        "- build or pick a pretrained model( to suit your problem )\n",
        "\n",
        "- fit the model to the data and make a prediction\n",
        "- evaluate your model\n",
        "- imporve thorught expremaentaion\n",
        "- save and reload your train model\n",
        "\n",
        "## what_were_convering\n",
        "\n",
        "1. data ( prepare and load)\n",
        "1. build model\n",
        "1. fitting the model to data ( training )\n",
        "1. making predictions and evaluating a model ( inference )\n",
        "1. saving and load a model\n",
        "1. putting it all together\n"
      ],
      "metadata": {
        "id": "XO_CjE938poS"
      }
    },
    {
      "cell_type": "code",
      "execution_count": 1,
      "metadata": {
        "id": "rFEcTZY48YEI"
      },
      "outputs": [],
      "source": [
        "import torch\n",
        "from torch import nn ## nn contains all of pytorch building blocks of nerual networks\n",
        "import numpy as np\n",
        "import matplotlib.pyplot as plt\n",
        "%matplotlib inline\n"
      ]
    },
    {
      "cell_type": "code",
      "source": [
        "\n",
        "torch.__version__"
      ],
      "metadata": {
        "colab": {
          "base_uri": "https://localhost:8080/",
          "height": 35
        },
        "id": "HYlTvlj5-18O",
        "outputId": "773502ba-4563-4b56-f9f6-a03c692edb9e"
      },
      "execution_count": 2,
      "outputs": [
        {
          "output_type": "execute_result",
          "data": {
            "text/plain": [
              "'2.5.0+cu121'"
            ],
            "application/vnd.google.colaboratory.intrinsic+json": {
              "type": "string"
            }
          },
          "metadata": {},
          "execution_count": 2
        }
      ]
    },
    {
      "cell_type": "code",
      "source": [
        "torch.cuda.is_available()"
      ],
      "metadata": {
        "colab": {
          "base_uri": "https://localhost:8080/"
        },
        "id": "NsgbCMPW_CXl",
        "outputId": "3ee3f831-bca5-4751-ddfa-1399ee4afa15"
      },
      "execution_count": 3,
      "outputs": [
        {
          "output_type": "execute_result",
          "data": {
            "text/plain": [
              "False"
            ]
          },
          "metadata": {},
          "execution_count": 3
        }
      ]
    },
    {
      "cell_type": "code",
      "source": [
        "device = \"cuda\" if torch.cuda.is_available() else \"cpu\"\n",
        "device"
      ],
      "metadata": {
        "colab": {
          "base_uri": "https://localhost:8080/",
          "height": 35
        },
        "id": "D_lyJCVq_FMK",
        "outputId": "f4945e32-e945-42ac-ee44-46204b1f8647"
      },
      "execution_count": 4,
      "outputs": [
        {
          "output_type": "execute_result",
          "data": {
            "text/plain": [
              "'cpu'"
            ],
            "application/vnd.google.colaboratory.intrinsic+json": {
              "type": "string"
            }
          },
          "metadata": {},
          "execution_count": 4
        }
      ]
    },
    {
      "cell_type": "markdown",
      "source": [
        "## preparing and loading data\n",
        "\n",
        "data can be almost anythign in amchine learning\n",
        "* excel speadsheet\n",
        "* videos\n",
        "* images of any kind\n",
        "* audio like songs or podcasts\n",
        "* text\n",
        "\n",
        "Machine leaning is a game of two parts:\n",
        "1. get dat into a numberical representaion\n",
        "2. buidl a model to learn pattersn in the numerical representaion\n",
        "\n",
        "to showcase this , lets create some *known* data usign the linear regression formula\n",
        "\n",
        "well use a linear regression formuat to make a straight line with *known* **parameters**\n"
      ],
      "metadata": {
        "id": "ZGqhWkSj_NBp"
      }
    },
    {
      "cell_type": "code",
      "source": [
        "# create *known* parameters\n",
        "weight = 0.7\n",
        "bias = 0.3\n",
        "\n",
        "# create\n",
        "start = 0\n",
        "end = 1\n",
        "step = 0.02\n",
        "X = torch.arange(start, end, step).unsqueeze(dim=1)\n",
        "y = weight * X + bias\n",
        "## splitting dat into train and test set one fo the most important concept in machine learning\n",
        "\n",
        "train_split = int(0.8 * len(X))\n",
        "X_train, y_train = X[:train_split], y[:train_split]\n",
        "X_test, y_test = X[train_split:], y[train_split:]"
      ],
      "metadata": {
        "id": "FD1B2uiZ_Hwo"
      },
      "execution_count": 5,
      "outputs": []
    },
    {
      "cell_type": "code",
      "source": [
        "len(X_train), len(X_test), len(y_train), len(y_test)"
      ],
      "metadata": {
        "colab": {
          "base_uri": "https://localhost:8080/"
        },
        "id": "CgzLjxqKB7KO",
        "outputId": "a56a1693-33a7-4776-b5e0-58c0792f0e14"
      },
      "execution_count": 6,
      "outputs": [
        {
          "output_type": "execute_result",
          "data": {
            "text/plain": [
              "(40, 10, 40, 10)"
            ]
          },
          "metadata": {},
          "execution_count": 6
        }
      ]
    },
    {
      "cell_type": "code",
      "source": [
        "X_train,y_train"
      ],
      "metadata": {
        "colab": {
          "base_uri": "https://localhost:8080/"
        },
        "id": "52FBux0TDWfo",
        "outputId": "45520982-1dff-4787-c7a5-0babbcf02813"
      },
      "execution_count": 7,
      "outputs": [
        {
          "output_type": "execute_result",
          "data": {
            "text/plain": [
              "(tensor([[0.0000],\n",
              "         [0.0200],\n",
              "         [0.0400],\n",
              "         [0.0600],\n",
              "         [0.0800],\n",
              "         [0.1000],\n",
              "         [0.1200],\n",
              "         [0.1400],\n",
              "         [0.1600],\n",
              "         [0.1800],\n",
              "         [0.2000],\n",
              "         [0.2200],\n",
              "         [0.2400],\n",
              "         [0.2600],\n",
              "         [0.2800],\n",
              "         [0.3000],\n",
              "         [0.3200],\n",
              "         [0.3400],\n",
              "         [0.3600],\n",
              "         [0.3800],\n",
              "         [0.4000],\n",
              "         [0.4200],\n",
              "         [0.4400],\n",
              "         [0.4600],\n",
              "         [0.4800],\n",
              "         [0.5000],\n",
              "         [0.5200],\n",
              "         [0.5400],\n",
              "         [0.5600],\n",
              "         [0.5800],\n",
              "         [0.6000],\n",
              "         [0.6200],\n",
              "         [0.6400],\n",
              "         [0.6600],\n",
              "         [0.6800],\n",
              "         [0.7000],\n",
              "         [0.7200],\n",
              "         [0.7400],\n",
              "         [0.7600],\n",
              "         [0.7800]]),\n",
              " tensor([[0.3000],\n",
              "         [0.3140],\n",
              "         [0.3280],\n",
              "         [0.3420],\n",
              "         [0.3560],\n",
              "         [0.3700],\n",
              "         [0.3840],\n",
              "         [0.3980],\n",
              "         [0.4120],\n",
              "         [0.4260],\n",
              "         [0.4400],\n",
              "         [0.4540],\n",
              "         [0.4680],\n",
              "         [0.4820],\n",
              "         [0.4960],\n",
              "         [0.5100],\n",
              "         [0.5240],\n",
              "         [0.5380],\n",
              "         [0.5520],\n",
              "         [0.5660],\n",
              "         [0.5800],\n",
              "         [0.5940],\n",
              "         [0.6080],\n",
              "         [0.6220],\n",
              "         [0.6360],\n",
              "         [0.6500],\n",
              "         [0.6640],\n",
              "         [0.6780],\n",
              "         [0.6920],\n",
              "         [0.7060],\n",
              "         [0.7200],\n",
              "         [0.7340],\n",
              "         [0.7480],\n",
              "         [0.7620],\n",
              "         [0.7760],\n",
              "         [0.7900],\n",
              "         [0.8040],\n",
              "         [0.8180],\n",
              "         [0.8320],\n",
              "         [0.8460]]))"
            ]
          },
          "metadata": {},
          "execution_count": 7
        }
      ]
    },
    {
      "cell_type": "code",
      "source": [
        "def plot_predictions(train_data=X_train,\n",
        "                    train_labels=y_train,\n",
        "                    test_data=X_test,\n",
        "                    test_labels=y_test,\n",
        "                    predictions=None):\n",
        "    \"\"\"\n",
        "    plot trainig data and predictions\n",
        "    \"\"\"\n",
        "    plt.figure(figsize=(10,7))\n",
        "    # plot training data in blue\n",
        "    plt.scatter(train_data, train_labels, c=\"b\", s=4, label=\"training data\")\n",
        "    # plot test data in green\n",
        "    plt.scatter(test_data, test_labels, c=\"g\", s=4, label=\"test data\")\n",
        "    if predictions is not None:\n",
        "        # plot predictions in red\n",
        "        plt.scatter(test_data, predictions, c=\"r\", s=4, label=\"predictions\")\n",
        "    plt.legend(prop={\"size\":14})\n",
        "    plt.show()\n"
      ],
      "metadata": {
        "id": "kmlYjFukD7ee"
      },
      "execution_count": 8,
      "outputs": []
    },
    {
      "cell_type": "code",
      "source": [
        "plot_predictions()"
      ],
      "metadata": {
        "colab": {
          "base_uri": "https://localhost:8080/",
          "height": 460
        },
        "id": "VLrJBlfGFKOr",
        "outputId": "fef74d34-007b-4726-ada3-3c8d2505c332"
      },
      "execution_count": 9,
      "outputs": [
        {
          "output_type": "display_data",
          "data": {
            "text/plain": [
              "<Figure size 1000x700 with 1 Axes>"
            ],
            "image/png": "[encoded data removed]"
          },
          "metadata": {}
        }
      ]
    },
    {
      "cell_type": "markdown",
      "source": [
        "## builng model\n",
        "our first pytorch model\n",
        "this is very existing lets do it ...\n",
        "\n",
        "* start with ranodm values ( weights and bias )\n",
        "* look at training data and adjust the ranodm values to better represent ( or get closer to ) the ideal values ( the weight and bias values we used to create the data )\n",
        "* how does it do so ?\n",
        "through two main algorithms:\n",
        "1. grdient descent\n",
        "2. backpropagraion"
      ],
      "metadata": {
        "id": "jM4oi6NuF980"
      }
    },
    {
      "cell_type": "code",
      "source": [
        "# CReate a linear regresion model class\n",
        "class LinearRegressionModelV1(nn.Module): # alomost everythign in pytorch inherit form nn.model\n",
        "    def __init__(self):\n",
        "        super().__init__()\n",
        "        # use nn.Linear()\n",
        "        # initialze model parameter to be used in various computetaions ( these could different layer fro torch , nn,single parameter , hard coded values or fuctions )\n",
        "\n",
        "        self.weights = nn.Parameter(torch.randn(1,requires_grad=True, dtype=torch.float))\n",
        "        self.bias = nn.Parameter(torch.randn(1,requires_grad=True, dtype=torch.float))\n",
        "        # requires_grad=True means pytorch will track the gradients of this specific paramteter for use with torch .autograd and gradient descent ( for mahny torch.nn.modules , requres_grad=True si set by default )\n",
        "\n",
        "\n",
        "        # forward method to define teh computraion in the model\n",
        "        # any subclass of nn.module needs to overdie forward() this defines forward comutaion of the model\n",
        "    def forward(self,x: torch.Tensor) -> torch.Tensor: # x is the input data\n",
        "        return self.weights * x + self.bias # this is teh linear regression formula\n"
      ],
      "metadata": {
        "id": "kyAQ68mHFOFr"
      },
      "execution_count": 31,
      "outputs": []
    },
    {
      "cell_type": "markdown",
      "source": [
        "#### pytorch model buiding essentilas\n",
        "* torch.nn - contains all of the buildig for compuraiton graphs\n",
        "*  torch.nn.parameter - what parameter should our model try and learn , often a pytorch layer form\n",
        "\n",
        "* torch.nn.module the base class for all nerual netwrok moduel\n",
        "* torch.optim - this is where the optirmzers in pytorhc liive , they will help in gradient decend  \n",
        "* def forward() - all nn.module subcalasses rqurre you to overwrite forward() ,\n",
        "* torhc.utils.data.Dataset presents a map between key ( label ) and sample ( features ) pairs of yoru data such as images and their assocaiated lables\n",
        "* torch.utils.data.DataLoader creates a python iterable over a torch Dataset ( allows you to iterate over your data )\n",
        "\n"
      ],
      "metadata": {
        "id": "A4CihK3fNCDR"
      }
    },
    {
      "cell_type": "markdown",
      "source": [
        "### checking the contents of our pytorch model\n",
        "now weve created a model , lets see whats inside...\n",
        "sowe can checkout our model parameter or what inside our model usign `.paramerters()`\n"
      ],
      "metadata": {
        "id": "M9Ov-yYZrKo_"
      }
    },
    {
      "cell_type": "code",
      "source": [
        "## create a ranodm seed\n",
        "torch.manual_seed(42)\n",
        "\n",
        "\n",
        "## create an instance an instance of model ( this is a subscall of nn.Module)\n",
        "model_0 = LinearRegressionModelV1()\n",
        "# checkout the parameters\n",
        "list(model_0.parameters())"
      ],
      "metadata": {
        "id": "3rjbxb0mKu3R",
        "outputId": "9cf7ab3d-1e71-43c6-9ce1-1355f26b7d07",
        "colab": {
          "base_uri": "https://localhost:8080/"
        }
      },
      "execution_count": 32,
      "outputs": [
        {
          "output_type": "execute_result",
          "data": {
            "text/plain": [
              "[Parameter containing:\n",
              " tensor([0.3367], requires_grad=True),\n",
              " Parameter containing:\n",
              " tensor([0.1288], requires_grad=True)]"
            ]
          },
          "metadata": {},
          "execution_count": 32
        }
      ]
    },
    {
      "cell_type": "code",
      "source": [
        "# list name parameters\n",
        "model_0.state_dict()"
      ],
      "metadata": {
        "id": "ipToA1GfsI4b",
        "outputId": "ddd8874b-cb5c-4681-a888-5d08076dc44a",
        "colab": {
          "base_uri": "https://localhost:8080/"
        }
      },
      "execution_count": 33,
      "outputs": [
        {
          "output_type": "execute_result",
          "data": {
            "text/plain": [
              "OrderedDict([('weights', tensor([0.3367])), ('bias', tensor([0.1288]))])"
            ]
          },
          "metadata": {},
          "execution_count": 33
        }
      ]
    },
    {
      "cell_type": "code",
      "source": [
        "weight,bias"
      ],
      "metadata": {
        "id": "469agJ68suvy",
        "outputId": "883b4bd1-94ed-4822-b838-09e08c1f7df9",
        "colab": {
          "base_uri": "https://localhost:8080/"
        }
      },
      "execution_count": 34,
      "outputs": [
        {
          "output_type": "execute_result",
          "data": {
            "text/plain": [
              "(0.7, 0.3)"
            ]
          },
          "metadata": {},
          "execution_count": 34
        }
      ]
    },
    {
      "cell_type": "markdown",
      "source": [
        "\n",
        "\n",
        "### making predicitn using `torch.inference_mode()`\n",
        "to check our model`s prediction power  let seehow ell it predicts `y_test` based on `X-test`\n",
        "when we pass data thourth our model , it going to runit thorugh the forward method\n",
        "\n"
      ],
      "metadata": {
        "id": "ptYqnNpHtdIA"
      }
    },
    {
      "cell_type": "code",
      "source": [
        "# make predicions with model\n",
        "with torch.inference_mode():\n",
        "    y_preds = model_0(X_test)\n",
        "    y_preds\n",
        "\n",
        "y_preds\n",
        "\n"
      ],
      "metadata": {
        "id": "24PcCoQCs7Ih",
        "outputId": "e16ffe0e-0ea4-4eed-a021-374cb15e90f1",
        "colab": {
          "base_uri": "https://localhost:8080/"
        }
      },
      "execution_count": 41,
      "outputs": [
        {
          "output_type": "execute_result",
          "data": {
            "text/plain": [
              "tensor([[0.3982],\n",
              "        [0.4049],\n",
              "        [0.4116],\n",
              "        [0.4184],\n",
              "        [0.4251],\n",
              "        [0.4318],\n",
              "        [0.4386],\n",
              "        [0.4453],\n",
              "        [0.4520],\n",
              "        [0.4588]])"
            ]
          },
          "metadata": {},
          "execution_count": 41
        }
      ]
    },
    {
      "cell_type": "code",
      "source": [
        "plot_predictions(predictions=y_preds)"
      ],
      "metadata": {
        "id": "b4KaQQF3uSmk",
        "outputId": "c022512b-8a15-405c-d483-f49ecaaaad03",
        "colab": {
          "base_uri": "https://localhost:8080/",
          "height": 460
        }
      },
      "execution_count": 42,
      "outputs": [
        {
          "output_type": "display_data",
          "data": {
            "text/plain": [
              "<Figure size 1000x700 with 1 Axes>"
            ],
            "image/png": "[encoded data removed]"
          },
          "metadata": {}
        }
      ]
    },
    {
      "cell_type": "code",
      "source": [
        "# y_preds = model_0(X_test) # this is another way to do the same\n"
      ],
      "metadata": {
        "id": "SXgPEz84vFuC"
      },
      "execution_count": 43,
      "outputs": []
    },
    {
      "cell_type": "code",
      "source": [
        "y_preds"
      ],
      "metadata": {
        "id": "d2zrrzC7vV8H",
        "outputId": "5ba52622-f9a5-4935-a5cf-1cb6d80db723",
        "colab": {
          "base_uri": "https://localhost:8080/"
        }
      },
      "execution_count": 44,
      "outputs": [
        {
          "output_type": "execute_result",
          "data": {
            "text/plain": [
              "tensor([[0.3982],\n",
              "        [0.4049],\n",
              "        [0.4116],\n",
              "        [0.4184],\n",
              "        [0.4251],\n",
              "        [0.4318],\n",
              "        [0.4386],\n",
              "        [0.4453],\n",
              "        [0.4520],\n",
              "        [0.4588]])"
            ]
          },
          "metadata": {},
          "execution_count": 44
        }
      ]
    },
    {
      "cell_type": "code",
      "source": [
        "''' with torch.no_grad():\n",
        "    y_preds = model_0(X_test)  ''' #-> this is another way but not recommended"
      ],
      "metadata": {
        "id": "ux2Bhcp-vYol",
        "outputId": "3e8357ca-207a-4434-b3ed-e4d07936ed9a",
        "colab": {
          "base_uri": "https://localhost:8080/",
          "height": 35
        }
      },
      "execution_count": 45,
      "outputs": [
        {
          "output_type": "execute_result",
          "data": {
            "text/plain": [
              "' with torch.no_grad():\\n    y_preds = model_0(X_test)  '"
            ],
            "application/vnd.google.colaboratory.intrinsic+json": {
              "type": "string"
            }
          },
          "metadata": {},
          "execution_count": 45
        }
      ]
    },
    {
      "cell_type": "markdown",
      "source": [
        "### train model\n",
        "teh whoel ideal of traingin is for a model to move from unknown parameer to someknown parameter\n",
        "or in other workds froma poor representaion of the dat to a better represetnaion of the data\n",
        "one way to measrue how poor or how wrong your model predtionc are is to use a loss fuction\n",
        "* note : loss fuciton may also be called const fucion or createron in different aras . for our case were going to refer to it as a loss fuction\n",
        "\n",
        "* *loss fuciton * a fuction to measure how wrong yoru model predtion are to the ideal output so lower is better\n",
        "\n",
        "* *optimizer* takes into account hte loss of a model and adjust the model parameter to imporvie the loss fuction and specifically for pytorch , we need:\n",
        "* a training loop\n",
        "* testing loop\n"
      ],
      "metadata": {
        "id": "o2lRqcNZwsVJ"
      }
    },
    {
      "cell_type": "code",
      "source": [
        "list(model_0.parameters())\n"
      ],
      "metadata": {
        "id": "MZqk5HfBwOiq",
        "outputId": "259b01be-c6d6-4c1a-d350-93b2afe2354b",
        "colab": {
          "base_uri": "https://localhost:8080/"
        }
      },
      "execution_count": 46,
      "outputs": [
        {
          "output_type": "execute_result",
          "data": {
            "text/plain": [
              "[Parameter containing:\n",
              " tensor([0.3367], requires_grad=True),\n",
              " Parameter containing:\n",
              " tensor([0.1288], requires_grad=True)]"
            ]
          },
          "metadata": {},
          "execution_count": 46
        }
      ]
    },
    {
      "cell_type": "code",
      "source": [
        "model_0.state_dict()"
      ],
      "metadata": {
        "id": "E67NFbOYx23H",
        "outputId": "ed405810-51e9-457e-f0f1-6cb56893979a",
        "colab": {
          "base_uri": "https://localhost:8080/"
        }
      },
      "execution_count": 47,
      "outputs": [
        {
          "output_type": "execute_result",
          "data": {
            "text/plain": [
              "OrderedDict([('weights', tensor([0.3367])), ('bias', tensor([0.1288]))])"
            ]
          },
          "metadata": {},
          "execution_count": 47
        }
      ]
    },
    {
      "cell_type": "code",
      "source": [],
      "metadata": {
        "id": "irbS4zqZx4df"
      },
      "execution_count": null,
      "outputs": []
    }
  ]
}